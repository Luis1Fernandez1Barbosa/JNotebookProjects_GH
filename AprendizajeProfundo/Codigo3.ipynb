{
 "cells": [
  {
   "cell_type": "markdown",
   "id": "0b238e64-4948-47bb-ad8e-481a66e9b4fe",
   "metadata": {},
   "source": [
    "# Código 3"
   ]
  },
  {
   "cell_type": "markdown",
   "id": "f8c020e3-22d9-48c6-b38d-2a1dfe186a80",
   "metadata": {},
   "source": [
    "## Dataset \"La vivienda en Boston\""
   ]
  },
  {
   "cell_type": "code",
   "execution_count": 1,
   "id": "b58fbe56-23e0-4759-aa76-3b34f6af9971",
   "metadata": {},
   "outputs": [
    {
     "name": "stdout",
     "output_type": "stream",
     "text": [
      "WARNING:tensorflow:From C:\\Users\\LAFB2000\\.conda\\envs\\LAFB2000\\lib\\site-packages\\keras\\src\\losses.py:2976: The name tf.losses.sparse_softmax_cross_entropy is deprecated. Please use tf.compat.v1.losses.sparse_softmax_cross_entropy instead.\n",
      "\n"
     ]
    }
   ],
   "source": [
    "from keras.datasets import boston_housing"
   ]
  },
  {
   "cell_type": "code",
   "execution_count": 2,
   "id": "a1c8eb1c-d83f-4c06-94bb-81237f83b563",
   "metadata": {},
   "outputs": [],
   "source": [
    "(train_data, train_targets), (test_data, test_targets) = boston_housing.load_data()"
   ]
  },
  {
   "cell_type": "code",
   "execution_count": 3,
   "id": "54ac1f0a-cae5-49ee-8ad6-1d1ff8c82a7c",
   "metadata": {},
   "outputs": [
    {
     "name": "stdout",
     "output_type": "stream",
     "text": [
      "(404, 13)\n",
      "(102, 13)\n",
      "[  1.23247   0.        8.14      0.        0.538     6.142    91.7\n",
      "   3.9769    4.      307.       21.      396.9      18.72   ]\n",
      "15.2\n"
     ]
    }
   ],
   "source": [
    "print (train_data.shape) \n",
    "print (test_data.shape) \n",
    "print(train_data[0])\n",
    "print(train_targets[0])"
   ]
  },
  {
   "cell_type": "code",
   "execution_count": 4,
   "id": "e99716fa-e5d5-4260-8b9d-22654697a974",
   "metadata": {},
   "outputs": [],
   "source": [
    "#Normalizing the data\n",
    "mean = train_data.mean(axis=0)\n",
    "train_data -= mean\n",
    "std = train_data.std(axis=0)\n",
    "train_data /= std\n",
    "test_data -= mean\n",
    "test_data /= std"
   ]
  },
  {
   "cell_type": "code",
   "execution_count": 5,
   "id": "ff04e149-1ccc-4863-bcbc-54571c4b47cc",
   "metadata": {},
   "outputs": [],
   "source": [
    "from keras import models \n",
    "from keras import layers"
   ]
  },
  {
   "cell_type": "code",
   "execution_count": 6,
   "id": "5a9b799c-1d09-49a7-9297-95eb234481c5",
   "metadata": {},
   "outputs": [
    {
     "name": "stdout",
     "output_type": "stream",
     "text": [
      "WARNING:tensorflow:From C:\\Users\\LAFB2000\\.conda\\envs\\LAFB2000\\lib\\site-packages\\keras\\src\\backend.py:873: The name tf.get_default_graph is deprecated. Please use tf.compat.v1.get_default_graph instead.\n",
      "\n",
      "WARNING:tensorflow:From C:\\Users\\LAFB2000\\.conda\\envs\\LAFB2000\\lib\\site-packages\\keras\\src\\optimizers\\__init__.py:309: The name tf.train.Optimizer is deprecated. Please use tf.compat.v1.train.Optimizer instead.\n",
      "\n",
      "Epoch 1/20\n",
      "WARNING:tensorflow:From C:\\Users\\LAFB2000\\.conda\\envs\\LAFB2000\\lib\\site-packages\\keras\\src\\utils\\tf_utils.py:492: The name tf.ragged.RaggedTensorValue is deprecated. Please use tf.compat.v1.ragged.RaggedTensorValue instead.\n",
      "\n",
      "WARNING:tensorflow:From C:\\Users\\LAFB2000\\.conda\\envs\\LAFB2000\\lib\\site-packages\\keras\\src\\engine\\base_layer_utils.py:384: The name tf.executing_eagerly_outside_functions is deprecated. Please use tf.compat.v1.executing_eagerly_outside_functions instead.\n",
      "\n",
      "404/404 [==============================] - 1s 1ms/step - loss: 183.8676 - mae: 9.6459\n",
      "Epoch 2/20\n",
      "404/404 [==============================] - 0s 1ms/step - loss: 26.9767 - mae: 3.4394\n",
      "Epoch 3/20\n",
      "404/404 [==============================] - 0s 1ms/step - loss: 19.2578 - mae: 2.8755\n",
      "Epoch 4/20\n",
      "404/404 [==============================] - 0s 1ms/step - loss: 16.1220 - mae: 2.7020\n",
      "Epoch 5/20\n",
      "404/404 [==============================] - 0s 1ms/step - loss: 13.9139 - mae: 2.4642\n",
      "Epoch 6/20\n",
      "404/404 [==============================] - 0s 1ms/step - loss: 13.1129 - mae: 2.4005\n",
      "Epoch 7/20\n",
      "404/404 [==============================] - 0s 1ms/step - loss: 12.0850 - mae: 2.3347\n",
      "Epoch 8/20\n",
      "404/404 [==============================] - 0s 1ms/step - loss: 11.4464 - mae: 2.2702\n",
      "Epoch 9/20\n",
      "404/404 [==============================] - 0s 976us/step - loss: 10.8862 - mae: 2.2442\n",
      "Epoch 10/20\n",
      "404/404 [==============================] - 0s 1ms/step - loss: 10.6450 - mae: 2.2002\n",
      "Epoch 11/20\n",
      "404/404 [==============================] - 0s 1ms/step - loss: 9.5513 - mae: 2.0844\n",
      "Epoch 12/20\n",
      "404/404 [==============================] - 0s 986us/step - loss: 9.2573 - mae: 2.0866\n",
      "Epoch 13/20\n",
      "404/404 [==============================] - 0s 1ms/step - loss: 9.4560 - mae: 2.0348\n",
      "Epoch 14/20\n",
      "404/404 [==============================] - 0s 1ms/step - loss: 8.9270 - mae: 2.0307\n",
      "Epoch 15/20\n",
      "404/404 [==============================] - 0s 1ms/step - loss: 8.6183 - mae: 2.0326\n",
      "Epoch 16/20\n",
      "404/404 [==============================] - 0s 996us/step - loss: 8.5512 - mae: 2.0184\n",
      "Epoch 17/20\n",
      "404/404 [==============================] - 0s 1ms/step - loss: 8.5734 - mae: 1.9949\n",
      "Epoch 18/20\n",
      "404/404 [==============================] - 0s 988us/step - loss: 8.2077 - mae: 1.9775\n",
      "Epoch 19/20\n",
      "404/404 [==============================] - 0s 1ms/step - loss: 8.0271 - mae: 1.9354\n",
      "Epoch 20/20\n",
      "404/404 [==============================] - 0s 998us/step - loss: 7.8300 - mae: 1.8907\n"
     ]
    },
    {
     "data": {
      "text/plain": [
       "<keras.src.callbacks.History at 0x230dc97cbb0>"
      ]
     },
     "execution_count": 6,
     "metadata": {},
     "output_type": "execute_result"
    }
   ],
   "source": [
    "network = models.Sequential()\n",
    "network.add(layers.Dense(64, activation='relu',input_shape=(train_data.shape[1],))) \n",
    "network.add(layers.Dense(64, activation='relu'))\n",
    "network.add(layers.Dense(1))\n",
    "network.compile(optimizer='rmsprop', loss='mse', metrics=['mae'])\n",
    "network.fit(train_data, train_targets,epochs=20,batch_size=1)"
   ]
  },
  {
   "cell_type": "code",
   "execution_count": 7,
   "id": "d7b3b68d-a019-4d03-859e-a7e6e3ef2c27",
   "metadata": {},
   "outputs": [
    {
     "name": "stdout",
     "output_type": "stream",
     "text": [
      "4/4 [==============================] - 0s 2ms/step - loss: 19.2921 - mae: 2.7067\n",
      "19.292055130004883\n",
      "2.7067487239837646\n"
     ]
    }
   ],
   "source": [
    "test_loss,test_acc= network.evaluate(test_data, test_targets) \n",
    "print(test_loss)\n",
    "print(test_acc)"
   ]
  }
 ],
 "metadata": {
  "kernelspec": {
   "display_name": "Python 3 (ipykernel)",
   "language": "python",
   "name": "python3"
  },
  "language_info": {
   "codemirror_mode": {
    "name": "ipython",
    "version": 3
   },
   "file_extension": ".py",
   "mimetype": "text/x-python",
   "name": "python",
   "nbconvert_exporter": "python",
   "pygments_lexer": "ipython3",
   "version": "3.9.18"
  }
 },
 "nbformat": 4,
 "nbformat_minor": 5
}
