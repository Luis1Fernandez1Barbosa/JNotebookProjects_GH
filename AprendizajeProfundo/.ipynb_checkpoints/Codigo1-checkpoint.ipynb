{
 "cells": [
  {
   "cell_type": "markdown",
   "id": "bc8fe615-6f83-47a4-95b8-8ebc37493ccd",
   "metadata": {},
   "source": [
    "# Código 1"
   ]
  },
  {
   "cell_type": "markdown",
   "id": "227741d1-065d-4b92-b663-2705b64ba8fe",
   "metadata": {},
   "source": [
    "## Dataset \"Clasificación binaria de películas\""
   ]
  },
  {
   "cell_type": "code",
   "execution_count": 36,
   "id": "e383ab51-21f7-4b98-aba1-8b00c07abf81",
   "metadata": {
    "scrolled": true
   },
   "outputs": [],
   "source": [
    "from keras.datasets import imdb"
   ]
  },
  {
   "cell_type": "code",
   "execution_count": 2,
   "id": "1a90f15f-a21a-4d5f-b02a-b2e1a5e18d7e",
   "metadata": {},
   "outputs": [],
   "source": [
    "(train_data, train_labels), (test_data, test_labels)=imdb.load_data(num_words=10000) "
   ]
  },
  {
   "cell_type": "code",
   "execution_count": 3,
   "id": "18db0374-3858-4a45-b96c-d547df856991",
   "metadata": {},
   "outputs": [
    {
     "name": "stdout",
     "output_type": "stream",
     "text": [
      "[1, 778, 128, 74, 12, 630, 163, 15, 4, 1766, 7982, 1051, 2, 32, 85, 156, 45, 40, 148, 139, 121, 664, 665, 10, 10, 1361, 173, 4, 749, 2, 16, 3804, 8, 4, 226, 65, 12, 43, 127, 24, 2, 10, 10]\n",
      "0\n"
     ]
    }
   ],
   "source": [
    "#Print an example of data and its label \n",
    "print(train_data[5]) \n",
    "print(train_labels[5]) "
   ]
  },
  {
   "cell_type": "code",
   "execution_count": 4,
   "id": "1b000c54-b17e-4613-b5ab-fafaa07d6f9e",
   "metadata": {},
   "outputs": [
    {
     "data": {
      "text/plain": [
       "9999"
      ]
     },
     "execution_count": 4,
     "metadata": {},
     "output_type": "execute_result"
    }
   ],
   "source": [
    "#Print max value of index words \n",
    "max([max(sequence) for sequence in train_data]) "
   ]
  },
  {
   "cell_type": "code",
   "execution_count": 5,
   "id": "d38fe9f6-bf8a-4a8e-9dca-d711d0dc11b5",
   "metadata": {},
   "outputs": [],
   "source": [
    "#Decoding an example of data (converting to original words) \n",
    "word_index = imdb.get_word_index() \n",
    "reverse_word_index  = dict([(value,key) for (key, value) in word_index.items()]) \n",
    "decoded_review = ' '.join([reverse_word_index.get(i-3,'?') for i in train_data[17]]) "
   ]
  },
  {
   "cell_type": "code",
   "execution_count": 6,
   "id": "4a525c13-3056-4ceb-8611-533804e05bc3",
   "metadata": {},
   "outputs": [
    {
     "name": "stdout",
     "output_type": "stream",
     "text": [
      "? at the height of the ? big ? racism row in 2007 involving ? ? and the late ? ? i condemned on an internet forum those ? b b ' fans who praised the show after years of bashing ? ? sitcoms such as ? ? ? ? ? i thought they were being ? and said so ? ain't half hot ? was then thrown into the argument with some pointing out it had starred an english actor ? up well yes but michael bates had lived in india as a boy and spoke ? ? the show's ? overlook the reality he brought to his performance as ? ? ? the noted indian character actor ? ? said in a 1995 documentary ? ? the ? that he was upset when he heard bates had landed the role but added no indian actor could have played that role as well as bates indeed br br ? was perry and ? companion show to ? ? also set in wartime the ? english town of ? on sea had been replaced by the hot steamy ? of india in particularly a place called ? where an army concert party puts on shows for the troops among them ? ? george ? his first sitcom role since ? in ? camp ? ? ? melvyn hayes ? ? ? ? ? de ? ? graham john ? and ? ? the late christopher mitchell ? over this gang of ? was the ? sergeant major williams the brilliant ? davies who regarded them all as ? his frustration at not being able to lead his men up the jungle to engage the enemy in combat made him bitter and bullying though he was nice to ? whom he thought was his ? son then there was ever so english colonel reynolds donald ? and ? captain ? michael ? ? was like a wise old ? beginning each show by talking to the camera and closing them by ? obscure ? ? he loved being ? so much he came to regard himself as practically british his friends were the tea making ? ? the late ? ? who went on to ? your ? and the rope pulling ? ? ? ? so real indians featured in the show another point its ? ignore ? also provided what was described on the credits as ? ? similar to the ? songs used as incidental music on ? ? each edition closed with him ? ? of hope ? only to be ? by a ? up ' from williams the excellent opening theme was penned by jimmy perry and derek ? br br though never quite ? ? ? in the ? affections ? nevertheless was popular enough to run for a total of eight seasons in 1975 davies and ? topped the ? with a cover version of that old ? ? ? they then recorded an entire album of old ? entitled what else ? ? ' br br the show hit crisis point three years later when bates died of cancer rather than ? the role of ? the writers just let him be quietly forgotten when george ? left the character of ? took his place as ? providing another source of comedy br br the last edition in 1981 saw the soldiers leave india by boat for ? the ? ? watching them go with great sadness as did viewers br br repeats have been few and far between mainly on u k gold all because of its so called ? reputation this is strange for one thing the show was not specifically about racism if a white man ? up is so wrong why does david ? 1984 film 'a passage to ? still get shown on television it featured alec guinness as an indian and won two oscars it was derived from jimmy ? own experiences some characters were based on real people the sergeant major really did refer to his men as ? i take the view that if you are going to put history on television get it right ? the past no matter how ? it might seem to modern audiences is ? ? ? was both funny and truthful and viewers saw this thank heavens for d v d 's i say time to stop this review as williams would say i'll have no ? in this jungle\n"
     ]
    }
   ],
   "source": [
    "#Decode the sample number 17 \n",
    "print(decoded_review) "
   ]
  },
  {
   "cell_type": "code",
   "execution_count": 7,
   "id": "7eae73f9-32d0-4a73-b180-30b6b03275d5",
   "metadata": {},
   "outputs": [],
   "source": [
    "#One hot encoding \n",
    "import numpy as np"
   ]
  },
  {
   "cell_type": "code",
   "execution_count": 22,
   "id": "08ca9d65-2381-497a-96cf-0b048df92e74",
   "metadata": {},
   "outputs": [],
   "source": [
    "def vectorize_sequences(sequences, dimension=10000): \n",
    "  results = np.zeros((len(sequences), dimension)) \n",
    "  for i, sequence in enumerate(sequences): \n",
    "    results[i, sequence] = 1. \n",
    "  return results \n",
    "x_train = vectorize_sequences(train_data) \n",
    "x_test = vectorize_sequences(test_data)"
   ]
  },
  {
   "cell_type": "code",
   "execution_count": 23,
   "id": "203f27d5-913b-4e54-9c1d-aba7c372a124",
   "metadata": {},
   "outputs": [
    {
     "name": "stdout",
     "output_type": "stream",
     "text": [
      "[0. 1. 1. ... 0. 0. 0.]\n"
     ]
    }
   ],
   "source": [
    "#Print an example of one hot encoded sample \n",
    "print(x_train[0])"
   ]
  },
  {
   "cell_type": "code",
   "execution_count": 24,
   "id": "fae36eee-cdc8-401f-989d-d381d8761f68",
   "metadata": {},
   "outputs": [],
   "source": [
    "#Vectorizing labels \n",
    "y_train = np.asarray(train_labels).astype('float32') \n",
    "y_test = np.asarray(test_labels).astype('float32') "
   ]
  },
  {
   "cell_type": "code",
   "execution_count": 25,
   "id": "ea93c544-aa79-43af-8ecc-dca827841609",
   "metadata": {},
   "outputs": [],
   "source": [
    "from keras import models \n",
    "from keras import layers"
   ]
  },
  {
   "cell_type": "code",
   "execution_count": 26,
   "id": "7c1c9512-e5b2-4bc1-812f-dcf37de8c0b6",
   "metadata": {},
   "outputs": [],
   "source": [
    "model = models.Sequential() \n",
    "model.add(layers.Dense(16, activation='relu', input_shape=(10000,))) \n",
    "model.add(layers.Dense(16, activation='relu')) \n",
    "model.add(layers.Dense(1, activation='sigmoid'))"
   ]
  },
  {
   "cell_type": "code",
   "execution_count": 27,
   "id": "c6eb20ad-2392-444c-9f80-a0d18431516a",
   "metadata": {},
   "outputs": [],
   "source": [
    "model.compile(optimizer='rmsprop', \n",
    "loss='binary_crossentropy', \n",
    "metrics=['accuracy']) "
   ]
  },
  {
   "cell_type": "code",
   "execution_count": 28,
   "id": "07db0ed5-0d46-4733-b85f-05dd20a538fe",
   "metadata": {},
   "outputs": [
    {
     "name": "stdout",
     "output_type": "stream",
     "text": [
      "Epoch 1/20\n",
      "30/30 [==============================] - 1s 26ms/step - loss: 0.5538 - accuracy: 0.7501 - val_loss: 0.4522 - val_accuracy: 0.8109\n",
      "Epoch 2/20\n",
      "30/30 [==============================] - 0s 9ms/step - loss: 0.3421 - accuracy: 0.8903 - val_loss: 0.3285 - val_accuracy: 0.8795\n",
      "Epoch 3/20\n",
      "30/30 [==============================] - 0s 10ms/step - loss: 0.2506 - accuracy: 0.9213 - val_loss: 0.3116 - val_accuracy: 0.8751\n",
      "Epoch 4/20\n",
      "30/30 [==============================] - 0s 9ms/step - loss: 0.2034 - accuracy: 0.9333 - val_loss: 0.2800 - val_accuracy: 0.8880\n",
      "Epoch 5/20\n",
      "30/30 [==============================] - 0s 9ms/step - loss: 0.1684 - accuracy: 0.9473 - val_loss: 0.2821 - val_accuracy: 0.8868\n",
      "Epoch 6/20\n",
      "30/30 [==============================] - 0s 9ms/step - loss: 0.1436 - accuracy: 0.9535 - val_loss: 0.2966 - val_accuracy: 0.8801\n",
      "Epoch 7/20\n",
      "30/30 [==============================] - 0s 9ms/step - loss: 0.1273 - accuracy: 0.9615 - val_loss: 0.2937 - val_accuracy: 0.8834\n",
      "Epoch 8/20\n",
      "30/30 [==============================] - 0s 9ms/step - loss: 0.1064 - accuracy: 0.9691 - val_loss: 0.3041 - val_accuracy: 0.8845\n",
      "Epoch 9/20\n",
      "30/30 [==============================] - 0s 9ms/step - loss: 0.0954 - accuracy: 0.9720 - val_loss: 0.3252 - val_accuracy: 0.8781\n",
      "Epoch 10/20\n",
      "30/30 [==============================] - 0s 9ms/step - loss: 0.0805 - accuracy: 0.9771 - val_loss: 0.3365 - val_accuracy: 0.8783\n",
      "Epoch 11/20\n",
      "30/30 [==============================] - 0s 9ms/step - loss: 0.0680 - accuracy: 0.9843 - val_loss: 0.3984 - val_accuracy: 0.8669\n",
      "Epoch 12/20\n",
      "30/30 [==============================] - 0s 9ms/step - loss: 0.0600 - accuracy: 0.9854 - val_loss: 0.3750 - val_accuracy: 0.8746\n",
      "Epoch 13/20\n",
      "30/30 [==============================] - 0s 9ms/step - loss: 0.0505 - accuracy: 0.9888 - val_loss: 0.4033 - val_accuracy: 0.8756\n",
      "Epoch 14/20\n",
      "30/30 [==============================] - 0s 9ms/step - loss: 0.0431 - accuracy: 0.9913 - val_loss: 0.4200 - val_accuracy: 0.8719\n",
      "Epoch 15/20\n",
      "30/30 [==============================] - 0s 9ms/step - loss: 0.0375 - accuracy: 0.9921 - val_loss: 0.4670 - val_accuracy: 0.8669\n",
      "Epoch 16/20\n",
      "30/30 [==============================] - 0s 10ms/step - loss: 0.0313 - accuracy: 0.9947 - val_loss: 0.4760 - val_accuracy: 0.8714\n",
      "Epoch 17/20\n",
      "30/30 [==============================] - 0s 9ms/step - loss: 0.0256 - accuracy: 0.9962 - val_loss: 0.4843 - val_accuracy: 0.8702\n",
      "Epoch 18/20\n",
      "30/30 [==============================] - 0s 9ms/step - loss: 0.0229 - accuracy: 0.9963 - val_loss: 0.5029 - val_accuracy: 0.8724\n",
      "Epoch 19/20\n",
      "30/30 [==============================] - 0s 9ms/step - loss: 0.0185 - accuracy: 0.9977 - val_loss: 0.5399 - val_accuracy: 0.8674\n",
      "Epoch 20/20\n",
      "30/30 [==============================] - 0s 9ms/step - loss: 0.0187 - accuracy: 0.9969 - val_loss: 0.5477 - val_accuracy: 0.8715\n"
     ]
    }
   ],
   "source": [
    "x_val = x_train[:10000] \n",
    "partial_x_train = x_train[10000:] \n",
    "y_val = y_train[:10000] \n",
    "partial_y_train = y_train [10000:] \n",
    "history = model.fit(partial_x_train, \n",
    "partial_y_train, \n",
    "epochs=20, \n",
    "batch_size=512, \n",
    "validation_data=(x_val, y_val)) "
   ]
  },
  {
   "cell_type": "code",
   "execution_count": 29,
   "id": "dc5c199f-e74b-48ee-adf3-d7087e895f0e",
   "metadata": {},
   "outputs": [
    {
     "name": "stdout",
     "output_type": "stream",
     "text": [
      "dict_keys(['loss', 'accuracy', 'val_loss', 'val_accuracy'])\n"
     ]
    }
   ],
   "source": [
    "#Consulting the history \n",
    "history_dict = history.history \n",
    "print( history_dict.keys()) "
   ]
  },
  {
   "cell_type": "code",
   "execution_count": 30,
   "id": "b9e14545-984b-4036-898a-15ca6701f199",
   "metadata": {},
   "outputs": [],
   "source": [
    "#Plotting the loss \n",
    "import matplotlib.pyplot as plt"
   ]
  },
  {
   "cell_type": "code",
   "execution_count": 31,
   "id": "89e1bb0e-b56a-422d-93f3-135cca63934b",
   "metadata": {},
   "outputs": [
    {
     "data": {
      "image/png": "[encoded data removed]",
      "text/plain": [
       "<Figure size 640x480 with 1 Axes>"
      ]
     },
     "metadata": {},
     "output_type": "display_data"
    }
   ],
   "source": [
    "history_dict = history.history \n",
    "loss_values = history_dict['loss'] \n",
    "val_loss_values = history_dict['val_loss'] \n",
    "epochs = range(1, 20 + 1) \n",
    "plt.plot(epochs, loss_values, 'bo', label='Training loss') \n",
    "plt.plot(epochs, val_loss_values, 'b', label='Validation loss') \n",
    "plt.title('Training and validation loss') \n",
    "plt.xlabel('Epochs') \n",
    "plt.ylabel('Loss') \n",
    "plt.legend() \n",
    "plt.show() "
   ]
  },
  {
   "cell_type": "code",
   "execution_count": 32,
   "id": "4846ba7c-79d6-4883-98e9-6f47f90187ca",
   "metadata": {},
   "outputs": [
    {
     "data": {
      "image/png": "[encoded data removed]",
      "text/plain": [
       "<Figure size 640x480 with 1 Axes>"
      ]
     },
     "metadata": {},
     "output_type": "display_data"
    }
   ],
   "source": [
    "plt.clf() \n",
    "acc_values = history_dict['accuracy'] \n",
    "val_acc_values = history_dict['val_accuracy'] \n",
    "plt.plot(epochs, acc_values, 'bo', label='Training acc') \n",
    "plt.plot(epochs, val_acc_values, 'b', label='Validation acc') \n",
    "plt.title('Training and validation accuracy') \n",
    "plt.xlabel('Epochs') \n",
    "plt.ylabel('Loss') \n",
    "plt.legend() \n",
    "plt.show() "
   ]
  },
  {
   "cell_type": "code",
   "execution_count": 33,
   "id": "c963a165-60b6-4d91-833c-4edff2d5eea2",
   "metadata": {},
   "outputs": [
    {
     "name": "stdout",
     "output_type": "stream",
     "text": [
      "Epoch 1/4\n",
      "49/49 [==============================] - 1s 6ms/step - loss: 0.4549 - accuracy: 0.8168\n",
      "Epoch 2/4\n",
      "49/49 [==============================] - 0s 7ms/step - loss: 0.2682 - accuracy: 0.9066\n",
      "Epoch 3/4\n",
      "49/49 [==============================] - 0s 6ms/step - loss: 0.2096 - accuracy: 0.9241\n",
      "Epoch 4/4\n",
      "49/49 [==============================] - 0s 6ms/step - loss: 0.1770 - accuracy: 0.9369\n",
      "782/782 [==============================] - 1s 1ms/step - loss: 0.2973 - accuracy: 0.8807\n"
     ]
    }
   ],
   "source": [
    "model = models.Sequential() \n",
    "model.add(layers.Dense (16, activation='relu', input_shape=(10000,))) \n",
    "model.add(layers. Dense (16, activation='relu')) \n",
    "model.add(layers. Dense (1, activation='sigmoid')) \n",
    "model.compile(optimizer='rmsprop', \n",
    "loss='binary_crossentropy', \n",
    "metrics=['accuracy']) \n",
    "model.fit(x_train, y_train, epochs=4, batch_size=512) \n",
    "results = model.evaluate(x_test, y_test) "
   ]
  },
  {
   "cell_type": "code",
   "execution_count": 34,
   "id": "edd4f16e-16bc-41ad-a3a3-785c301de05d",
   "metadata": {},
   "outputs": [
    {
     "name": "stdout",
     "output_type": "stream",
     "text": [
      "[0.29733729362487793, 0.8807200193405151]\n"
     ]
    }
   ],
   "source": [
    "print(results)"
   ]
  },
  {
   "cell_type": "code",
   "execution_count": 35,
   "id": "0c1f9bb8-097c-496e-a169-18eb01830524",
   "metadata": {},
   "outputs": [
    {
     "name": "stdout",
     "output_type": "stream",
     "text": [
      "782/782 [==============================] - 1s 1ms/step\n"
     ]
    },
    {
     "data": {
      "text/plain": [
       "array([[0.2010883 ],\n",
       "       [0.9996075 ],\n",
       "       [0.5873151 ],\n",
       "       ...,\n",
       "       [0.09423549],\n",
       "       [0.07382204],\n",
       "       [0.5400508 ]], dtype=float32)"
      ]
     },
     "execution_count": 35,
     "metadata": {},
     "output_type": "execute_result"
    }
   ],
   "source": [
    "model.predict(x_test) "
   ]
  }
 ],
 "metadata": {
  "kernelspec": {
   "display_name": "Python 3 (ipykernel)",
   "language": "python",
   "name": "python3"
  },
  "language_info": {
   "codemirror_mode": {
    "name": "ipython",
    "version": 3
   },
   "file_extension": ".py",
   "mimetype": "text/x-python",
   "name": "python",
   "nbconvert_exporter": "python",
   "pygments_lexer": "ipython3",
   "version": "3.9.18"
  }
 },
 "nbformat": 4,
 "nbformat_minor": 5
}
