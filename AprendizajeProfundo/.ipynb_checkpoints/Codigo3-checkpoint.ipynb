{
 "cells": [
  {
   "cell_type": "markdown",
   "id": "0b238e64-4948-47bb-ad8e-481a66e9b4fe",
   "metadata": {},
   "source": [
    "# Código 3"
   ]
  },
  {
   "cell_type": "markdown",
   "id": "f8c020e3-22d9-48c6-b38d-2a1dfe186a80",
   "metadata": {},
   "source": [
    "## Dataset \"La vivienda en Boston\""
   ]
  },
  {
   "cell_type": "code",
   "execution_count": 8,
   "id": "b58fbe56-23e0-4759-aa76-3b34f6af9971",
   "metadata": {},
   "outputs": [],
   "source": [
    "from keras.datasets import boston_housing"
   ]
  },
  {
   "cell_type": "code",
   "execution_count": 9,
   "id": "a1c8eb1c-d83f-4c06-94bb-81237f83b563",
   "metadata": {},
   "outputs": [],
   "source": [
    "(train_data, train_targets), (test_data, test_targets) = boston_housing.load_data()"
   ]
  },
  {
   "cell_type": "code",
   "execution_count": 10,
   "id": "54ac1f0a-cae5-49ee-8ad6-1d1ff8c82a7c",
   "metadata": {},
   "outputs": [
    {
     "name": "stdout",
     "output_type": "stream",
     "text": [
      "(404, 13)\n",
      "(102, 13)\n",
      "[  1.23247   0.        8.14      0.        0.538     6.142    91.7\n",
      "   3.9769    4.      307.       21.      396.9      18.72   ]\n",
      "15.2\n"
     ]
    }
   ],
   "source": [
    "print (train_data.shape) \n",
    "print (test_data.shape) \n",
    "print(train_data[0])\n",
    "print(train_targets[0])"
   ]
  },
  {
   "cell_type": "code",
   "execution_count": 12,
   "id": "e99716fa-e5d5-4260-8b9d-22654697a974",
   "metadata": {},
   "outputs": [],
   "source": [
    "#Normalizing the data\n",
    "mean = train_data.mean(axis=0)\n",
    "train_data -= mean\n",
    "std = train_data.std(axis=0)\n",
    "train_data /= std\n",
    "test_data -= mean\n",
    "test_data /= std"
   ]
  },
  {
   "cell_type": "code",
   "execution_count": 13,
   "id": "ff04e149-1ccc-4863-bcbc-54571c4b47cc",
   "metadata": {},
   "outputs": [],
   "source": [
    "from keras import models \n",
    "from keras import layers"
   ]
  },
  {
   "cell_type": "code",
   "execution_count": 14,
   "id": "5a9b799c-1d09-49a7-9297-95eb234481c5",
   "metadata": {},
   "outputs": [
    {
     "name": "stdout",
     "output_type": "stream",
     "text": [
      "WARNING:tensorflow:From C:\\Users\\LAFB2000\\.conda\\envs\\LAFB2000\\lib\\site-packages\\keras\\src\\backend.py:873: The name tf.get_default_graph is deprecated. Please use tf.compat.v1.get_default_graph instead.\n",
      "\n",
      "WARNING:tensorflow:From C:\\Users\\LAFB2000\\.conda\\envs\\LAFB2000\\lib\\site-packages\\keras\\src\\optimizers\\__init__.py:309: The name tf.train.Optimizer is deprecated. Please use tf.compat.v1.train.Optimizer instead.\n",
      "\n",
      "Epoch 1/20\n",
      "WARNING:tensorflow:From C:\\Users\\LAFB2000\\.conda\\envs\\LAFB2000\\lib\\site-packages\\keras\\src\\utils\\tf_utils.py:492: The name tf.ragged.RaggedTensorValue is deprecated. Please use tf.compat.v1.ragged.RaggedTensorValue instead.\n",
      "\n",
      "WARNING:tensorflow:From C:\\Users\\LAFB2000\\.conda\\envs\\LAFB2000\\lib\\site-packages\\keras\\src\\engine\\base_layer_utils.py:384: The name tf.executing_eagerly_outside_functions is deprecated. Please use tf.compat.v1.executing_eagerly_outside_functions instead.\n",
      "\n",
      "404/404 [==============================] - 1s 966us/step - loss: 123.3379 - mae: 7.8244\n",
      "Epoch 2/20\n",
      "404/404 [==============================] - 0s 953us/step - loss: 23.5139 - mae: 3.2736\n",
      "Epoch 3/20\n",
      "404/404 [==============================] - 0s 969us/step - loss: 18.1310 - mae: 2.8150\n",
      "Epoch 4/20\n",
      "404/404 [==============================] - 0s 951us/step - loss: 15.4711 - mae: 2.6231\n",
      "Epoch 5/20\n",
      "404/404 [==============================] - 1s 2ms/step - loss: 13.9665 - mae: 2.5142\n",
      "Epoch 6/20\n",
      "404/404 [==============================] - 1s 2ms/step - loss: 12.1464 - mae: 2.4727\n",
      "Epoch 7/20\n",
      "404/404 [==============================] - 1s 1ms/step - loss: 12.6048 - mae: 2.3638\n",
      "Epoch 8/20\n",
      "404/404 [==============================] - 0s 939us/step - loss: 11.7129 - mae: 2.3172\n",
      "Epoch 9/20\n",
      "404/404 [==============================] - 0s 926us/step - loss: 11.2817 - mae: 2.2947\n",
      "Epoch 10/20\n",
      "404/404 [==============================] - 0s 946us/step - loss: 11.0146 - mae: 2.2348\n",
      "Epoch 11/20\n",
      "404/404 [==============================] - 0s 922us/step - loss: 10.6450 - mae: 2.2214\n",
      "Epoch 12/20\n",
      "404/404 [==============================] - 0s 919us/step - loss: 10.0947 - mae: 2.2485\n",
      "Epoch 13/20\n",
      "404/404 [==============================] - 0s 979us/step - loss: 10.0236 - mae: 2.1954\n",
      "Epoch 14/20\n",
      "404/404 [==============================] - 0s 951us/step - loss: 10.2540 - mae: 2.1827\n",
      "Epoch 15/20\n",
      "404/404 [==============================] - 0s 951us/step - loss: 9.5269 - mae: 2.0833\n",
      "Epoch 16/20\n",
      "404/404 [==============================] - 0s 1ms/step - loss: 9.5867 - mae: 2.1010\n",
      "Epoch 17/20\n",
      "404/404 [==============================] - 0s 968us/step - loss: 9.3392 - mae: 2.0730\n",
      "Epoch 18/20\n",
      "404/404 [==============================] - 0s 983us/step - loss: 9.3276 - mae: 2.0930\n",
      "Epoch 19/20\n",
      "404/404 [==============================] - 1s 2ms/step - loss: 9.0142 - mae: 2.0631\n",
      "Epoch 20/20\n",
      "404/404 [==============================] - 0s 934us/step - loss: 9.0861 - mae: 2.0410\n"
     ]
    },
    {
     "data": {
      "text/plain": [
       "<keras.src.callbacks.History at 0x225b7b5fe20>"
      ]
     },
     "execution_count": 14,
     "metadata": {},
     "output_type": "execute_result"
    }
   ],
   "source": [
    "network = models.Sequential()\n",
    "network.add(layers.Dense(64, activation='relu',input_shape=(train_data.shape[1],))) \n",
    "network.add(layers.Dense(64, activation='relu'))\n",
    "network.add(layers.Dense(1))\n",
    "network.compile(optimizer='rmsprop', loss='mse', metrics=['mae'])\n",
    "network.fit(train_data, train_targets,epochs=20,batch_size=1)"
   ]
  },
  {
   "cell_type": "code",
   "execution_count": 16,
   "id": "d7b3b68d-a019-4d03-859e-a7e6e3ef2c27",
   "metadata": {},
   "outputs": [
    {
     "name": "stdout",
     "output_type": "stream",
     "text": [
      "4/4 [==============================] - 0s 2ms/step - loss: 23.6928 - mae: 3.2914\n",
      "23.692832946777344\n",
      "3.29144549369812\n"
     ]
    }
   ],
   "source": [
    "test_loss,test_acc= network.evaluate(test_data, test_targets) \n",
    "print(test_loss)\n",
    "print(test_acc)"
   ]
  }
 ],
 "metadata": {
  "kernelspec": {
   "display_name": "Python 3 (ipykernel)",
   "language": "python",
   "name": "python3"
  },
  "language_info": {
   "codemirror_mode": {
    "name": "ipython",
    "version": 3
   },
   "file_extension": ".py",
   "mimetype": "text/x-python",
   "name": "python",
   "nbconvert_exporter": "python",
   "pygments_lexer": "ipython3",
   "version": "3.9.18"
  }
 },
 "nbformat": 4,
 "nbformat_minor": 5
}
