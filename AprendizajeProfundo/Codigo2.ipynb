{
 "cells": [
  {
   "cell_type": "code",
   "execution_count": 4,
   "id": "14fef258-fd0a-4361-90ac-053b9f9ca7c3",
   "metadata": {},
   "outputs": [],
   "source": [
    "from keras.datasets import mnist"
   ]
  },
  {
   "cell_type": "code",
   "execution_count": 5,
   "id": "4e17cac1-803a-466e-ac74-ddf16cc6f84b",
   "metadata": {},
   "outputs": [],
   "source": [
    "(train_images, train_labels), (test_images, test_labels)=mnist.load_data()"
   ]
  },
  {
   "cell_type": "code",
   "execution_count": 6,
   "id": "2aa18182-c18a-41d1-ac33-8d1448757a57",
   "metadata": {},
   "outputs": [
    {
     "name": "stdout",
     "output_type": "stream",
     "text": [
      "(60000, 28, 28)\n",
      "60000\n",
      "[5 0 4 ... 5 6 8]\n",
      "(10000, 28, 28)\n",
      "10000\n",
      "[7 2 1 ... 4 5 6]\n"
     ]
    }
   ],
   "source": [
    "print(train_images.shape) \n",
    "print(len(train_labels)) \n",
    "print(train_labels)\n",
    "print(test_images.shape) \n",
    "print(len(test_labels)) \n",
    "print(test_labels)"
   ]
  },
  {
   "cell_type": "code",
   "execution_count": 7,
   "id": "4601c198-c304-489a-9483-7fd26e341355",
   "metadata": {},
   "outputs": [],
   "source": [
    "digit = train_images [18] "
   ]
  },
  {
   "cell_type": "code",
   "execution_count": 8,
   "id": "eca05ad4-3144-4962-a5a2-16481f236eba",
   "metadata": {},
   "outputs": [],
   "source": [
    "import matplotlib.pyplot as plt "
   ]
  },
  {
   "cell_type": "code",
   "execution_count": 9,
   "id": "93a3c995-5230-41a7-b301-75accb1dd2c4",
   "metadata": {},
   "outputs": [
    {
     "data": {
      "image/png": "[encoded data removed]",
      "text/plain": [
       "<Figure size 640x480 with 1 Axes>"
      ]
     },
     "metadata": {},
     "output_type": "display_data"
    }
   ],
   "source": [
    "plt.imshow(digit, cmap=plt.cm.binary) \n",
    "plt.show() "
   ]
  },
  {
   "cell_type": "code",
   "execution_count": 10,
   "id": "8103dcbe-9d69-41bd-b6ca-6ed9bcbef29e",
   "metadata": {},
   "outputs": [],
   "source": [
    "train_images = train_images.reshape((60000, 28 * 28))\n",
    "train_images = train_images.astype('float32') / 255\n",
    "test_images = test_images.reshape((10000, 28 * 28)) \n",
    "test_images = test_images.astype('float32') / 255 "
   ]
  },
  {
   "cell_type": "code",
   "execution_count": 11,
   "id": "d915f305-6ba6-4a3e-adc1-93bd0146d44a",
   "metadata": {},
   "outputs": [],
   "source": [
    "from keras.utils import to_categorical "
   ]
  },
  {
   "cell_type": "code",
   "execution_count": 12,
   "id": "e3a51dff-818b-40e6-a0c2-f41cedc2e5e6",
   "metadata": {},
   "outputs": [
    {
     "name": "stdout",
     "output_type": "stream",
     "text": [
      "[0. 0. 0. 0. 0. 0. 1. 0. 0. 0.]\n"
     ]
    }
   ],
   "source": [
    "train_labels = to_categorical (train_labels) \n",
    "test_labels = to_categorical (test_labels)\n",
    "print(train_labels [18])"
   ]
  },
  {
   "cell_type": "code",
   "execution_count": 13,
   "id": "ffa9af45-ce71-4bda-90d5-825db5ab1ae5",
   "metadata": {},
   "outputs": [],
   "source": [
    "from keras import models \n",
    "from keras import layers "
   ]
  },
  {
   "cell_type": "code",
   "execution_count": 14,
   "id": "d41c9ed5-a82c-444b-90f9-351488bca7b5",
   "metadata": {},
   "outputs": [],
   "source": [
    "network = models.Sequential() \n",
    "network.add(layers.Dense(512, activation='relu', input_shape=(28 * 28,)))\n",
    "network.add(layers.Dense(10, activation='softmax'))"
   ]
  },
  {
   "cell_type": "code",
   "execution_count": 15,
   "id": "cc093409-d7eb-4e0e-b151-aa408f56f7d3",
   "metadata": {},
   "outputs": [],
   "source": [
    "network.compile(optimizer='rmsprop', loss='categorical_crossentropy', \n",
    "metrics=['accuracy'])"
   ]
  },
  {
   "cell_type": "code",
   "execution_count": 16,
   "id": "244826c4-453b-4239-b759-f5edbb1be94c",
   "metadata": {},
   "outputs": [
    {
     "name": "stdout",
     "output_type": "stream",
     "text": [
      "Epoch 1/5\n",
      "469/469 [==============================] - 3s 4ms/step - loss: 0.2641 - accuracy: 0.9234\n",
      "Epoch 2/5\n",
      "469/469 [==============================] - 2s 4ms/step - loss: 0.1075 - accuracy: 0.9682\n",
      "Epoch 3/5\n",
      "469/469 [==============================] - 2s 5ms/step - loss: 0.0702 - accuracy: 0.9785\n",
      "Epoch 4/5\n",
      "469/469 [==============================] - 2s 5ms/step - loss: 0.0518 - accuracy: 0.9845\n",
      "Epoch 5/5\n",
      "469/469 [==============================] - 2s 4ms/step - loss: 0.0386 - accuracy: 0.9886\n"
     ]
    },
    {
     "data": {
      "text/plain": [
       "<keras.src.callbacks.History at 0x7fd06a9a45d0>"
      ]
     },
     "execution_count": 16,
     "metadata": {},
     "output_type": "execute_result"
    }
   ],
   "source": [
    "network.fit(train_images, train_labels, epochs=5, batch_size=128)"
   ]
  },
  {
   "cell_type": "code",
   "execution_count": 17,
   "id": "d6c0c483-19ed-4970-a46e-82cc9de58526",
   "metadata": {},
   "outputs": [
    {
     "name": "stdout",
     "output_type": "stream",
     "text": [
      "313/313 [==============================] - 1s 2ms/step - loss: 0.0658 - accuracy: 0.9801\n",
      "test_acc: 0.9800999760627747\n"
     ]
    }
   ],
   "source": [
    "test_loss, test_acc = network.evaluate(test_images, test_labels) \n",
    "print('test_acc:', test_acc) "
   ]
  },
  {
   "cell_type": "code",
   "execution_count": null,
   "id": "4741e27a-be27-4494-9c86-6acca2229357",
   "metadata": {},
   "outputs": [],
   "source": []
  },
  {
   "cell_type": "code",
   "execution_count": null,
   "id": "70773201-5d4d-45ab-af62-f11fc8d356d0",
   "metadata": {},
   "outputs": [],
   "source": []
  },
  {
   "cell_type": "code",
   "execution_count": null,
   "id": "9e52e7db-07fc-4be6-b1cf-e8f977a44222",
   "metadata": {},
   "outputs": [],
   "source": []
  }
 ],
 "metadata": {
  "kernelspec": {
   "display_name": "Python 3 (ipykernel)",
   "language": "python",
   "name": "python3"
  },
  "language_info": {
   "codemirror_mode": {
    "name": "ipython",
    "version": 3
   },
   "file_extension": ".py",
   "mimetype": "text/x-python",
   "name": "python",
   "nbconvert_exporter": "python",
   "pygments_lexer": "ipython3",
   "version": "3.11.5"
  }
 },
 "nbformat": 4,
 "nbformat_minor": 5
}
