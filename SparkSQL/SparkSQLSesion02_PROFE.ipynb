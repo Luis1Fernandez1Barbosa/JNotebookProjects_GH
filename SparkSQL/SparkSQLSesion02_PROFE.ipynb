{
  "nbformat": 4,
  "nbformat_minor": 0,
  "metadata": {
    "colab": {
      "provenance": []
    },
    "kernelspec": {
      "name": "python3",
      "display_name": "Python 3"
    },
    "language_info": {
      "name": "python"
    }
  },
  "cells": [
    {
      "cell_type": "code",
      "execution_count": null,
      "metadata": {
        "colab": {
          "base_uri": "https://localhost:8080/"
        },
        "id": "8VOxSwzV00W-",
        "outputId": "ef8ac663-2fbb-4a5e-a4ec-2e57b3252dd2"
      },
      "outputs": [
        {
          "output_type": "stream",
          "name": "stdout",
          "text": [
            "Collecting pyspark\n",
            "  Downloading pyspark-3.5.0.tar.gz (316.9 MB)\n",
            "\u001b[2K     \u001b[90m━━━━━━━━━━━━━━━━━━━━━━━━━━━━━━━━━━━━━━━━\u001b[0m \u001b[32m316.9/316.9 MB\u001b[0m \u001b[31m1.7 MB/s\u001b[0m eta \u001b[36m0:00:00\u001b[0m\n",
            "\u001b[?25h  Preparing metadata (setup.py) ... \u001b[?25l\u001b[?25hdone\n",
            "Requirement already satisfied: py4j==0.10.9.7 in /usr/local/lib/python3.10/dist-packages (from pyspark) (0.10.9.7)\n",
            "Building wheels for collected packages: pyspark\n",
            "  Building wheel for pyspark (setup.py) ... \u001b[?25l\u001b[?25hdone\n",
            "  Created wheel for pyspark: filename=pyspark-3.5.0-py2.py3-none-any.whl size=317425345 sha256=54f73cd0c81028ec42706640fadcb91005db32090d75b65d443ec16c98452f3e\n",
            "  Stored in directory: /root/.cache/pip/wheels/41/4e/10/c2cf2467f71c678cfc8a6b9ac9241e5e44a01940da8fbb17fc\n",
            "Successfully built pyspark\n",
            "Installing collected packages: pyspark\n",
            "Successfully installed pyspark-3.5.0\n"
          ]
        }
      ],
      "source": [
        "! pip install pyspark"
      ]
    },
    {
      "cell_type": "code",
      "source": [
        "from pyspark.sql import SparkSession\n",
        "spark = SparkSession.builder.master(\"local[*]\").getOrCreate()\n",
        "spark = SparkSession.builder.appName(\"SparkSQLSesion02\").getOrCreate()\n",
        "spark.conf.set(\"spark.sql.repl.eagerEval.enabled\", True)"
      ],
      "metadata": {
        "id": "Hdsn-fAE1FU3"
      },
      "execution_count": null,
      "outputs": []
    },
    {
      "cell_type": "code",
      "source": [
        "from pyspark.sql.types import StructType, StructField, StringType, IntegerType, ArrayType, DateType\n",
        "from pyspark.sql.functions import to_date\n",
        "\n",
        "\n",
        "# Definir un esquema para un DataFrame\n",
        "\n",
        "custom_schema = StructType([\n",
        "    StructField(\"Nombre\", StringType(), True),  # Columna de tipo String\n",
        "    StructField(\"Edad\", IntegerType(), True),   # Columna de tipo Integer\n",
        "    StructField(\"Sexo\", StringType(), True),  # Columna de tipo String\n",
        "    StructField(\"Hobbies\", ArrayType(StringType()), True),  # Columna de tipo Array de Strings\n",
        "    StructField(\"Fecha_Nacimiento\", StringType(), True),  # Columna de tipo String\n",
        "    StructField(\"Estado\", StringType(), True)  # Columna de tipo String\n",
        "])"
      ],
      "metadata": {
        "id": "P9FmOjnQ1tPQ"
      },
      "execution_count": null,
      "outputs": []
    },
    {
      "cell_type": "code",
      "source": [
        "import requests\n",
        "url = \"http://arcelia.net/datos_abiertos/datos_fake_personas/data_spark_100.json\"\n",
        "response = requests.get(url)\n",
        "data = response.json()\n",
        "\n",
        "df = spark.createDataFrame(data, schema=custom_schema)\n",
        "df.show()"
      ],
      "metadata": {
        "colab": {
          "base_uri": "https://localhost:8080/"
        },
        "id": "OxPbYIec2ogx",
        "outputId": "65d30df1-40bf-4cd7-cf45-9434daa58f97"
      },
      "execution_count": null,
      "outputs": [
        {
          "output_type": "stream",
          "name": "stdout",
          "text": [
            "+----------+----+---------+--------------------+----------------+--------------------+\n",
            "|    Nombre|Edad|     Sexo|             Hobbies|Fecha_Nacimiento|              Estado|\n",
            "+----------+----+---------+--------------------+----------------+--------------------+\n",
            "|   Cynthia|  32| Femenino|        [Television]|      1990-09-24|             Sinaloa|\n",
            "|      Iván|  50| Femenino|[Fotografía, Cine...|      1972-11-08|          Nuevo León|\n",
            "|    Homero|  45|Masculino|[Fotografía, Pint...|      1978-02-12|           Querétaro|\n",
            "|   Gustavo|  40|Masculino|     [Leer, Pintura]|      1983-02-24|             Morelos|\n",
            "|    Amalia|  40| Femenino|[Música, Pintura,...|      1983-06-02|    Distrito Federal|\n",
            "|    Nayeli|  23| Femenino|[Viajar, Videojue...|      2000-03-15|    Distrito Federal|\n",
            "|     Jorge|  21| Femenino|[Videojuegos, Dep...|      2001-10-19|             Nayarit|\n",
            "|   Daniela|  36| Femenino|[Cine, Television...|      1987-01-01|           Chihuahua|\n",
            "|    Genaro|  50|Masculino|  [Pintura, Deporte]|      1973-07-11|     Baja California|\n",
            "|    Anabel|  20| Femenino|[Viajar, Televisi...|      2003-04-29|             Sinaloa|\n",
            "|     Lilia|  37| Femenino|           [Deporte]|      1986-03-15|Coahuila de Zaragoza|\n",
            "|  Mauricio|  46|Masculino|[Television, Viajar]|      1977-04-16|            Tlaxcala|\n",
            "| Estefanía|  51| Femenino|[Cocinar, Bailar,...|      1971-12-23|           Querétaro|\n",
            "|    Ofelia|  26| Femenino|[Fotografía, Vide...|      1997-05-19|             Yucatán|\n",
            "| Guadalupe|  59| Femenino|[Música, Television]|      1964-05-19|             Jalisco|\n",
            "|     Nelly|  46| Femenino| [Cine, Videojuegos]|      1976-10-25|            Tlaxcala|\n",
            "| Esperanza|  24| Femenino|[Viajar, Leer, Pi...|      1999-03-30|             Durango|\n",
            "|    Ángela|  40| Femenino|              [Cine]|      1983-03-30|             Yucatán|\n",
            "|María José|  38| Femenino|[Videojuegos, Fot...|      1985-04-25|      Aguascalientes|\n",
            "|  Mauricio|  25|Masculino|           [Deporte]|      1998-07-25|Veracruz de Ignac...|\n",
            "+----------+----+---------+--------------------+----------------+--------------------+\n",
            "only showing top 20 rows\n",
            "\n"
          ]
        }
      ]
    },
    {
      "cell_type": "code",
      "source": [
        "df = df.withColumn(\"Fecha_Nacimiento\", to_date(df[\"Fecha_Nacimiento\"], \"yyyy-MM-dd\"))\n",
        "print(df.dtypes)\n",
        "print(df.count())"
      ],
      "metadata": {
        "colab": {
          "base_uri": "https://localhost:8080/"
        },
        "id": "OCUEAknq39Va",
        "outputId": "7a752a57-9cd9-4d20-b1a8-cf6f526fdff1"
      },
      "execution_count": null,
      "outputs": [
        {
          "output_type": "stream",
          "name": "stdout",
          "text": [
            "[('Nombre', 'string'), ('Edad', 'int'), ('Sexo', 'string'), ('Hobbies', 'array<string>'), ('Fecha_Nacimiento', 'date'), ('Estado', 'string')]\n",
            "100\n"
          ]
        }
      ]
    },
    {
      "cell_type": "code",
      "source": [
        "df.rdd.getNumPartitions()"
      ],
      "metadata": {
        "colab": {
          "base_uri": "https://localhost:8080/"
        },
        "id": "wZy3XXKQ4nrb",
        "outputId": "1133b9c9-ad9b-4afe-9982-c0b57bd1dc77"
      },
      "execution_count": null,
      "outputs": [
        {
          "output_type": "execute_result",
          "data": {
            "text/plain": [
              "17"
            ]
          },
          "metadata": {},
          "execution_count": 32
        }
      ]
    },
    {
      "cell_type": "code",
      "source": [
        "partition_size = df.rdd.glom().map(len).collect()\n",
        "row_number = df.rdd.mapPartitions(lambda it: [sum(1 for _ in it)]).collect()\n",
        "\n",
        "for i, (size, count) in enumerate(zip(partition_size, row_number)):\n",
        "  print(f\"Partición {i+1}: Tamaño: {size} bytes, No. Renglones = {count}\")"
      ],
      "metadata": {
        "colab": {
          "base_uri": "https://localhost:8080/"
        },
        "id": "EWmSdiDx5ck4",
        "outputId": "fe1e4fe3-8a63-4b16-895f-cc87302fdaad"
      },
      "execution_count": null,
      "outputs": [
        {
          "output_type": "stream",
          "name": "stdout",
          "text": [
            "Partición 1: Tamaño: 33 bytes, No. Renglones = 33\n",
            "Partición 2: Tamaño: 34 bytes, No. Renglones = 34\n",
            "Partición 3: Tamaño: 33 bytes, No. Renglones = 33\n"
          ]
        }
      ]
    },
    {
      "cell_type": "code",
      "source": [
        "df = df.repartition(3)"
      ],
      "metadata": {
        "id": "OUPl2tfY7Mo7"
      },
      "execution_count": null,
      "outputs": []
    },
    {
      "cell_type": "code",
      "source": [
        "from google.colab import drive\n",
        "drive.mount('/content/drive')"
      ],
      "metadata": {
        "colab": {
          "base_uri": "https://localhost:8080/"
        },
        "id": "jpqpWg9C7Q02",
        "outputId": "38c7ab92-5471-4e09-b3bc-5d5916851a47"
      },
      "execution_count": null,
      "outputs": [
        {
          "output_type": "stream",
          "name": "stdout",
          "text": [
            "Mounted at /content/drive\n"
          ]
        }
      ]
    },
    {
      "cell_type": "code",
      "source": [
        "! ls -la /content/drive/MyDrive/datos/spark/data"
      ],
      "metadata": {
        "colab": {
          "base_uri": "https://localhost:8080/"
        },
        "id": "U1KA3Yj69Hkf",
        "outputId": "89a996f4-c214-4036-ddfe-b3fd8a91a431"
      },
      "execution_count": null,
      "outputs": [
        {
          "output_type": "stream",
          "name": "stdout",
          "text": [
            "total 12\n",
            "drwx------ 2 root root 4096 Jan 16 14:42 bike-data\n",
            "drwx------ 4 root root 4096 Jan 16 14:43 deep-learning-images\n",
            "drwx------ 7 root root 4096 Jan 16 14:43 flight-data\n"
          ]
        }
      ]
    },
    {
      "cell_type": "code",
      "source": [
        "ruta = \"/content/drive/MyDrive/datos/spark/\""
      ],
      "metadata": {
        "id": "oqhS8Oar9-08"
      },
      "execution_count": null,
      "outputs": []
    },
    {
      "cell_type": "code",
      "source": [
        "#permissive, dropMalformed\n",
        "df_csv = spark.read.format(\"csv\")\\\n",
        ".option(\"header\", \"true\")\\\n",
        ".option(\"mode\", \"FAILFAST\")\\\n",
        ".option(\"inferScheme\", \"true\")\\\n",
        ".load(ruta+\"/data/flight-data/csv/\")\n",
        "print(df_csv.count())\n",
        "print(df_csv.show(5))"
      ],
      "metadata": {
        "colab": {
          "base_uri": "https://localhost:8080/"
        },
        "id": "JqSExXkE-Gqx",
        "outputId": "aea473e2-850e-40b0-e938-55896dbbc845"
      },
      "execution_count": null,
      "outputs": [
        {
          "output_type": "stream",
          "name": "stdout",
          "text": [
            "1757\n",
            "+-----------------+-------------------+-----+\n",
            "|DEST_COUNTRY_NAME|ORIGIN_COUNTRY_NAME|count|\n",
            "+-----------------+-------------------+-----+\n",
            "|    United States|            Romania|    1|\n",
            "|    United States|            Ireland|  264|\n",
            "|    United States|              India|   69|\n",
            "|            Egypt|      United States|   24|\n",
            "|Equatorial Guinea|      United States|    1|\n",
            "+-----------------+-------------------+-----+\n",
            "only showing top 5 rows\n",
            "\n",
            "None\n"
          ]
        }
      ]
    },
    {
      "cell_type": "code",
      "source": [
        "df_json = spark.read.format(\"json\")\\\n",
        ".option(\"mode\", \"FAILFAST\")\\\n",
        ".option(\"inferScheme\", \"true\")\\\n",
        ".load(ruta+\"/data/flight-data/json/\")\n",
        "print(df_json.count())\n",
        "print(df_json.show(5))"
      ],
      "metadata": {
        "colab": {
          "base_uri": "https://localhost:8080/"
        },
        "id": "TkSZ3RqMBbQp",
        "outputId": "146b5308-3e85-4cf0-c0d3-693e7f909ba4"
      },
      "execution_count": null,
      "outputs": [
        {
          "output_type": "stream",
          "name": "stdout",
          "text": [
            "1502\n",
            "+-----------------+-------------------+-----+\n",
            "|DEST_COUNTRY_NAME|ORIGIN_COUNTRY_NAME|count|\n",
            "+-----------------+-------------------+-----+\n",
            "|    United States|            Romania|   15|\n",
            "|    United States|            Croatia|    1|\n",
            "|    United States|            Ireland|  344|\n",
            "|            Egypt|      United States|   15|\n",
            "|    United States|              India|   62|\n",
            "+-----------------+-------------------+-----+\n",
            "only showing top 5 rows\n",
            "\n",
            "None\n"
          ]
        }
      ]
    },
    {
      "cell_type": "code",
      "source": [
        "! cat /content/drive/MyDrive/datos/spark/data/flight-data/parquet/2010-summary.parquet/*"
      ],
      "metadata": {
        "id": "JSrKwGVjCE9N"
      },
      "execution_count": null,
      "outputs": []
    },
    {
      "cell_type": "code",
      "source": [
        "df_parquet = spark.read.format(\"parquet\")\\\n",
        ".load(ruta+\"/data/flight-data/parquet/2010-summary.parquet\")\n",
        "print(df_parquet.count())\n",
        "print(df_parquet.show(5))"
      ],
      "metadata": {
        "colab": {
          "base_uri": "https://localhost:8080/"
        },
        "id": "Jb_ATuOxCyxM",
        "outputId": "d2182291-d714-4539-d3b6-bbcf31830f38"
      },
      "execution_count": null,
      "outputs": [
        {
          "output_type": "stream",
          "name": "stdout",
          "text": [
            "255\n",
            "+-----------------+-------------------+-----+\n",
            "|DEST_COUNTRY_NAME|ORIGIN_COUNTRY_NAME|count|\n",
            "+-----------------+-------------------+-----+\n",
            "|    United States|            Romania|    1|\n",
            "|    United States|            Ireland|  264|\n",
            "|    United States|              India|   69|\n",
            "|            Egypt|      United States|   24|\n",
            "|Equatorial Guinea|      United States|    1|\n",
            "+-----------------+-------------------+-----+\n",
            "only showing top 5 rows\n",
            "\n",
            "None\n"
          ]
        }
      ]
    },
    {
      "cell_type": "code",
      "source": [
        "df_parquet = spark.read.parquet(ruta+\"/data/flight-data/parquet/2010-summary.parquet\")\n",
        "print(df_parquet.count())\n",
        "print(df_parquet.show(5))"
      ],
      "metadata": {
        "colab": {
          "base_uri": "https://localhost:8080/"
        },
        "id": "-5v5RivdDPkK",
        "outputId": "12ee9b02-87ec-4a86-9abf-76f2e69036f2"
      },
      "execution_count": null,
      "outputs": [
        {
          "output_type": "stream",
          "name": "stdout",
          "text": [
            "255\n",
            "+-----------------+-------------------+-----+\n",
            "|DEST_COUNTRY_NAME|ORIGIN_COUNTRY_NAME|count|\n",
            "+-----------------+-------------------+-----+\n",
            "|    United States|            Romania|    1|\n",
            "|    United States|            Ireland|  264|\n",
            "|    United States|              India|   69|\n",
            "|            Egypt|      United States|   24|\n",
            "|Equatorial Guinea|      United States|    1|\n",
            "+-----------------+-------------------+-----+\n",
            "only showing top 5 rows\n",
            "\n",
            "None\n"
          ]
        }
      ]
    },
    {
      "cell_type": "code",
      "source": [
        "df_orc = spark.read.orc(ruta+\"/data/flight-data/orc/2010-summary.orc\")\n",
        "print(df_orc.count())\n",
        "print(df_orc.show(5))"
      ],
      "metadata": {
        "colab": {
          "base_uri": "https://localhost:8080/"
        },
        "id": "W3aQq1jcDc2Y",
        "outputId": "6d88fbe0-7307-4a3c-8f36-1a1b5c41ba8a"
      },
      "execution_count": null,
      "outputs": [
        {
          "output_type": "stream",
          "name": "stdout",
          "text": [
            "255\n",
            "+-----------------+-------------------+-----+\n",
            "|DEST_COUNTRY_NAME|ORIGIN_COUNTRY_NAME|count|\n",
            "+-----------------+-------------------+-----+\n",
            "|    United States|            Romania|    1|\n",
            "|    United States|            Ireland|  264|\n",
            "|    United States|              India|   69|\n",
            "|            Egypt|      United States|   24|\n",
            "|Equatorial Guinea|      United States|    1|\n",
            "+-----------------+-------------------+-----+\n",
            "only showing top 5 rows\n",
            "\n",
            "None\n"
          ]
        }
      ]
    },
    {
      "cell_type": "code",
      "source": [
        "df.show()"
      ],
      "metadata": {
        "colab": {
          "base_uri": "https://localhost:8080/"
        },
        "id": "XrgZgSDlEJz3",
        "outputId": "f9d0070c-bb1b-493f-cfc8-85ae20d93c7d"
      },
      "execution_count": null,
      "outputs": [
        {
          "output_type": "stream",
          "name": "stdout",
          "text": [
            "+---------+----+---------+--------------------+----------------+--------------------+\n",
            "|   Nombre|Edad|     Sexo|             Hobbies|Fecha_Nacimiento|              Estado|\n",
            "+---------+----+---------+--------------------+----------------+--------------------+\n",
            "|    Jorge|  21| Femenino|[Videojuegos, Dep...|      2001-10-19|             Nayarit|\n",
            "|   Nayeli|  23| Femenino|[Viajar, Videojue...|      2000-03-15|    Distrito Federal|\n",
            "| Cristian|  32| Femenino|            [Bailar]|      1990-12-11|              Oaxaca|\n",
            "|    Julio|  39|Masculino|[Leer, Deporte, B...|      1984-02-06|            Guerrero|\n",
            "|Estefanía|  51| Femenino|[Cocinar, Bailar,...|      1971-12-23|           Querétaro|\n",
            "|   Ángela|  40| Femenino|              [Cine]|      1983-03-30|             Yucatán|\n",
            "|     Anel|  20| Femenino|[Cocinar, Leer, P...|      2003-09-04|          Guanajuato|\n",
            "|    Lilia|  37| Femenino|           [Deporte]|      1986-03-15|Coahuila de Zaragoza|\n",
            "|     Iván|  50| Femenino|[Fotografía, Cine...|      1972-11-08|          Nuevo León|\n",
            "|   Pamela|  41| Femenino|            [Bailar]|      1982-04-23|             Tabasco|\n",
            "|Natividad|  21| Femenino|[Cine, Música, Vi...|      2002-06-12|              Colima|\n",
            "|Ana Luisa|  40| Femenino|     [Cine, Pintura]|      1982-12-25|              Sonora|\n",
            "| Mauricio|  25|Masculino|           [Deporte]|      1998-07-25|Veracruz de Ignac...|\n",
            "|     Luis|  20| Femenino|    [Bailar, Música]|      2003-02-21|           Querétaro|\n",
            "|  Gustavo|  40|Masculino|     [Leer, Pintura]|      1983-02-24|             Morelos|\n",
            "|  Natalia|  31| Femenino|[Cocinar, Fotogra...|      1991-10-17|             Chiapas|\n",
            "|   Homero|  45|Masculino|[Fotografía, Pint...|      1978-02-12|           Querétaro|\n",
            "|    Tomás|  23| Femenino|           [Cocinar]|      2000-02-19|             Nayarit|\n",
            "|Margarita|  53| Femenino|[Música, Fotografía]|      1969-12-22|            Tlaxcala|\n",
            "|  Arcelia|  34| Femenino|[Viajar, Bailar, ...|      1988-10-01|Coahuila de Zaragoza|\n",
            "+---------+----+---------+--------------------+----------------+--------------------+\n",
            "only showing top 20 rows\n",
            "\n"
          ]
        }
      ]
    },
    {
      "cell_type": "code",
      "source": [
        "df_orc.write.format(\"csv\")\\\n",
        ".mode(\"overwrite\")\\\n",
        ".option(\"sep\",\";\")\\\n",
        ".save(ruta+\"write/csv\")"
      ],
      "metadata": {
        "id": "CW_p7kesEa50"
      },
      "execution_count": null,
      "outputs": []
    },
    {
      "cell_type": "code",
      "source": [
        "df_orc.write.format(\"json\")\\\n",
        ".mode(\"overwrite\")\\\n",
        ".save(ruta+\"write/json\")"
      ],
      "metadata": {
        "id": "tq4faqQOF5sr"
      },
      "execution_count": null,
      "outputs": []
    },
    {
      "cell_type": "code",
      "source": [
        "df_orc.write.format(\"parquet\")\\\n",
        ".mode(\"overwrite\")\\\n",
        ".save(ruta+\"write/parquet\")"
      ],
      "metadata": {
        "id": "VhUIqLyqGFWJ"
      },
      "execution_count": null,
      "outputs": []
    },
    {
      "cell_type": "code",
      "source": [
        "df_orc.write.format(\"orc\")\\\n",
        ".mode(\"overwrite\")\\\n",
        ".save(ruta+\"write/orc\")"
      ],
      "metadata": {
        "id": "HHjyKo7lGrVG"
      },
      "execution_count": null,
      "outputs": []
    },
    {
      "cell_type": "code",
      "source": [
        "df_orc.write.format(\"csv\")\\\n",
        ".mode(\"append\")\\\n",
        ".option(\"sep\",\";\")\\\n",
        ".save(ruta+\"write/csv\")"
      ],
      "metadata": {
        "id": "CcXSrL9WG-LP"
      },
      "execution_count": null,
      "outputs": []
    },
    {
      "cell_type": "code",
      "source": [
        "df_orc.write.format(\"csv\")\\\n",
        ".mode(\"append\")\\\n",
        ".option(\"sep\",\";\")\\\n",
        ".partitionBy(\"count\")\\\n",
        ".save(ruta+\"write/csvpart\")"
      ],
      "metadata": {
        "id": "yuOhOOsSHe0R"
      },
      "execution_count": null,
      "outputs": []
    },
    {
      "cell_type": "code",
      "source": [
        "df.select(\"Nombre\",\"Edad\",\"Fecha_Nacimiento\",\"Estado\",\"Sexo\")\\\n",
        ".write.format(\"csv\")\\\n",
        ".mode(\"append\")\\\n",
        ".option(\"sep\",\";\")\\\n",
        ".partitionBy(\"Sexo\")\\\n",
        ".save(ruta+\"write/personas/sexo\")"
      ],
      "metadata": {
        "id": "ykZOBvGZIei8"
      },
      "execution_count": null,
      "outputs": []
    },
    {
      "cell_type": "code",
      "source": [
        "df.select(\"Nombre\",\"Edad\",\"Fecha_Nacimiento\",\"Sexo\",\"Estado\")\\\n",
        ".write.format(\"csv\")\\\n",
        ".mode(\"append\")\\\n",
        ".option(\"sep\",\";\")\\\n",
        ".partitionBy(\"Estado\")\\\n",
        ".save(ruta+\"write/personas/estado\")"
      ],
      "metadata": {
        "id": "RfweU0CvJ3qq"
      },
      "execution_count": null,
      "outputs": []
    },
    {
      "cell_type": "code",
      "source": [
        "df.select(\"Nombre\",\"Edad\",\"Fecha_Nacimiento\",\"Estado\",\"Sexo\")\\\n",
        ".write.format(\"csv\")\\\n",
        ".mode(\"append\")\\\n",
        ".option(\"sep\",\";\")\\\n",
        ".partitionBy(\"Estado\",\"Sexo\")\\\n",
        ".save(ruta+\"write/personas/estado_sexo\")"
      ],
      "metadata": {
        "id": "sfVbJnCWKeEt"
      },
      "execution_count": null,
      "outputs": []
    },
    {
      "cell_type": "code",
      "source": [
        "df_es = spark.read.format(\"csv\").option(\"sep\",\";\").load(ruta+\"write/personas/estado_sexo\")\n",
        "df_es = df_es.withColumnRenamed(\"_c0\", \"Nombre\")\\\n",
        "       .withColumnRenamed(\"_c1\", \"Edad\")\\\n",
        "       .withColumnRenamed(\"_c2\", \"Fecha_Nacimiento\")\n",
        "df_es"
      ],
      "metadata": {
        "colab": {
          "base_uri": "https://localhost:8080/",
          "height": 514
        },
        "id": "rTTGvxSgLgPi",
        "outputId": "be8450d4-8c5d-4d06-b5f1-5e1ee2c69ce6"
      },
      "execution_count": null,
      "outputs": [
        {
          "output_type": "execute_result",
          "data": {
            "text/plain": [
              "+-----------+----+----------------+--------------------+---------+\n",
              "|     Nombre|Edad|Fecha_Nacimiento|              Estado|     Sexo|\n",
              "+-----------+----+----------------+--------------------+---------+\n",
              "|     Isabel|  40|      1983-03-09|           Zacatecas| Femenino|\n",
              "|  Guadalupe|  43|      1980-06-03|           Zacatecas| Femenino|\n",
              "|   Angélica|  29|      1993-10-08|           Zacatecas| Femenino|\n",
              "|     Pamela|  41|      1982-04-23|             Tabasco| Femenino|\n",
              "|   Josefina|  56|      1967-05-15|             Tabasco| Femenino|\n",
              "|      Adela|  50|      1972-11-23|             Tabasco| Femenino|\n",
              "|      Lilia|  37|      1986-03-15|Coahuila de Zaragoza| Femenino|\n",
              "|      Linda|  52|      1971-03-18|Coahuila de Zaragoza| Femenino|\n",
              "|    Arcelia|  34|      1988-10-01|Coahuila de Zaragoza| Femenino|\n",
              "| María José|  38|      1985-04-25|      Aguascalientes| Femenino|\n",
              "|    Rosalia|  42|      1981-03-28|      Aguascalientes| Femenino|\n",
              "|José Emilio|  19|      2004-08-08|             México|Masculino|\n",
              "|     Jacobo|  32|      1991-03-31|             México|Masculino|\n",
              "| Jorge Luis|  40|      1982-11-21|          Guanajuato| Femenino|\n",
              "|   Cristina|  27|      1996-02-18|          Guanajuato| Femenino|\n",
              "|  Natividad|  21|      2002-06-12|              Colima| Femenino|\n",
              "|     Germán|  27|      1995-09-23|              Colima| Femenino|\n",
              "|     Ofelia|  26|      1997-05-19|            Yucatán| Femenino|\n",
              "|   Virginia|  60|      1963-04-23|            Yucatán| Femenino|\n",
              "|     Ángela|  40|      1983-03-30|            Yucatán| Femenino|\n",
              "+-----------+----+----------------+--------------------+---------+\n",
              "only showing top 20 rows"
            ],
            "text/html": [
              "<table border='1'>\n",
              "<tr><th>Nombre</th><th>Edad</th><th>Fecha_Nacimiento</th><th>Estado</th><th>Sexo</th></tr>\n",
              "<tr><td>Isabel</td><td>40</td><td>1983-03-09</td><td>Zacatecas</td><td>Femenino</td></tr>\n",
              "<tr><td>Guadalupe</td><td>43</td><td>1980-06-03</td><td>Zacatecas</td><td>Femenino</td></tr>\n",
              "<tr><td>Ang&eacute;lica</td><td>29</td><td>1993-10-08</td><td>Zacatecas</td><td>Femenino</td></tr>\n",
              "<tr><td>Pamela</td><td>41</td><td>1982-04-23</td><td>Tabasco</td><td>Femenino</td></tr>\n",
              "<tr><td>Josefina</td><td>56</td><td>1967-05-15</td><td>Tabasco</td><td>Femenino</td></tr>\n",
              "<tr><td>Adela</td><td>50</td><td>1972-11-23</td><td>Tabasco</td><td>Femenino</td></tr>\n",
              "<tr><td>Lilia</td><td>37</td><td>1986-03-15</td><td>Coahuila de Zaragoza</td><td>Femenino</td></tr>\n",
              "<tr><td>Linda</td><td>52</td><td>1971-03-18</td><td>Coahuila de Zaragoza</td><td>Femenino</td></tr>\n",
              "<tr><td>Arcelia</td><td>34</td><td>1988-10-01</td><td>Coahuila de Zaragoza</td><td>Femenino</td></tr>\n",
              "<tr><td>Mar&iacute;a Jos&eacute;</td><td>38</td><td>1985-04-25</td><td>Aguascalientes</td><td>Femenino</td></tr>\n",
              "<tr><td>Rosalia</td><td>42</td><td>1981-03-28</td><td>Aguascalientes</td><td>Femenino</td></tr>\n",
              "<tr><td>Jos&eacute; Emilio</td><td>19</td><td>2004-08-08</td><td>México</td><td>Masculino</td></tr>\n",
              "<tr><td>Jacobo</td><td>32</td><td>1991-03-31</td><td>México</td><td>Masculino</td></tr>\n",
              "<tr><td>Jorge Luis</td><td>40</td><td>1982-11-21</td><td>Guanajuato</td><td>Femenino</td></tr>\n",
              "<tr><td>Cristina</td><td>27</td><td>1996-02-18</td><td>Guanajuato</td><td>Femenino</td></tr>\n",
              "<tr><td>Natividad</td><td>21</td><td>2002-06-12</td><td>Colima</td><td>Femenino</td></tr>\n",
              "<tr><td>Germ&aacute;n</td><td>27</td><td>1995-09-23</td><td>Colima</td><td>Femenino</td></tr>\n",
              "<tr><td>Ofelia</td><td>26</td><td>1997-05-19</td><td>Yucatán</td><td>Femenino</td></tr>\n",
              "<tr><td>Virginia</td><td>60</td><td>1963-04-23</td><td>Yucatán</td><td>Femenino</td></tr>\n",
              "<tr><td>&Aacute;ngela</td><td>40</td><td>1983-03-30</td><td>Yucatán</td><td>Femenino</td></tr>\n",
              "</table>\n",
              "only showing top 20 rows\n"
            ]
          },
          "metadata": {},
          "execution_count": 83
        }
      ]
    }
  ]
}