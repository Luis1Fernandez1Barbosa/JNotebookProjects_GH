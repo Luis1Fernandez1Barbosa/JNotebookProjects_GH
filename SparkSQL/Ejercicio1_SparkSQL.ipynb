{
  "nbformat": 4,
  "nbformat_minor": 0,
  "metadata": {
    "colab": {
      "provenance": []
    },
    "kernelspec": {
      "name": "python3",
      "display_name": "Python 3"
    },
    "language_info": {
      "name": "python"
    }
  },
  "cells": [
    {
      "cell_type": "code",
      "execution_count": 2,
      "metadata": {
        "colab": {
          "base_uri": "https://localhost:8080/",
          "height": 0
        },
        "id": "7yxDv3GfFQHO",
        "outputId": "459d69a3-75e0-41d4-8c4e-139508caa6a6"
      },
      "outputs": [
        {
          "output_type": "stream",
          "name": "stdout",
          "text": [
            "Collecting pyspark\n",
            "  Downloading pyspark-3.5.0.tar.gz (316.9 MB)\n",
            "\u001b[2K     \u001b[90m━━━━━━━━━━━━━━━━━━━━━━━━━━━━━━━━━━━━━━━━\u001b[0m \u001b[32m316.9/316.9 MB\u001b[0m \u001b[31m3.4 MB/s\u001b[0m eta \u001b[36m0:00:00\u001b[0m\n",
            "\u001b[?25h  Preparing metadata (setup.py) ... \u001b[?25l\u001b[?25hdone\n",
            "Requirement already satisfied: py4j==0.10.9.7 in /usr/local/lib/python3.10/dist-packages (from pyspark) (0.10.9.7)\n",
            "Building wheels for collected packages: pyspark\n",
            "  Building wheel for pyspark (setup.py) ... \u001b[?25l\u001b[?25hdone\n",
            "  Created wheel for pyspark: filename=pyspark-3.5.0-py2.py3-none-any.whl size=317425345 sha256=6db77c4774974ae1a2690a1641cb58ab9be0dd02fe54dfb3b917b109d158812a\n",
            "  Stored in directory: /root/.cache/pip/wheels/41/4e/10/c2cf2467f71c678cfc8a6b9ac9241e5e44a01940da8fbb17fc\n",
            "Successfully built pyspark\n",
            "Installing collected packages: pyspark\n",
            "Successfully installed pyspark-3.5.0\n"
          ]
        }
      ],
      "source": [
        "! pip install pyspark"
      ]
    },
    {
      "cell_type": "code",
      "source": [
        "#Crear sesion Spark\n",
        "from pyspark.sql import SparkSession\n",
        "spark = SparkSession.builder.master(\"local[*]\").getOrCreate()\n",
        "spark = SparkSession.builder.appName(\"SparkSQL_Ejercicio1\").getOrCreate()\n",
        "spark.conf.set(\"saprk.sql.repl.eagerEval.enabled\",True)"
      ],
      "metadata": {
        "id": "dUaqosE2FdGL"
      },
      "execution_count": 3,
      "outputs": []
    },
    {
      "cell_type": "code",
      "source": [
        "#Importar COLAB.Drive\n",
        "from google.colab import drive\n",
        "drive.mount('/content/drive')"
      ],
      "metadata": {
        "colab": {
          "base_uri": "https://localhost:8080/",
          "height": 0
        },
        "id": "8oZJyvuzFk55",
        "outputId": "a28dda83-8c67-4e62-924a-96b82025e87a"
      },
      "execution_count": 4,
      "outputs": [
        {
          "output_type": "stream",
          "name": "stdout",
          "text": [
            "Mounted at /content/drive\n"
          ]
        }
      ]
    },
    {
      "cell_type": "code",
      "source": [
        "#Ruta de Drive\n",
        "ruta = \"/content/drive/MyDrive/Colab Notebooks/\""
      ],
      "metadata": {
        "id": "n76K_0cKdDPJ"
      },
      "execution_count": 6,
      "outputs": []
    },
    {
      "cell_type": "code",
      "source": [
        "#Lectura de archivo\n",
        "df_csv = spark.read.format(\"csv\")\\\n",
        ".option(\"header\", \"true\")\\\n",
        ".option(\"mode\", \"FAILFAST\")\\\n",
        ".option(\"inferScheme\", \"true\")\\\n",
        ".load(ruta+\"/data/flight-data/csv/2010-summary.csv\")"
      ],
      "metadata": {
        "id": "eIwoYdJPdm5Z"
      },
      "execution_count": 7,
      "outputs": []
    },
    {
      "cell_type": "code",
      "source": [
        "print(df_csv.show())\n",
        "print(df_csv.count())"
      ],
      "metadata": {
        "colab": {
          "base_uri": "https://localhost:8080/",
          "height": 0
        },
        "id": "B5NHZDNCecoS",
        "outputId": "a08f5539-9d36-434e-f357-a260d2c7695f"
      },
      "execution_count": 9,
      "outputs": [
        {
          "output_type": "stream",
          "name": "stdout",
          "text": [
            "+--------------------+-------------------+-----+\n",
            "|   DEST_COUNTRY_NAME|ORIGIN_COUNTRY_NAME|count|\n",
            "+--------------------+-------------------+-----+\n",
            "|       United States|            Romania|    1|\n",
            "|       United States|            Ireland|  264|\n",
            "|       United States|              India|   69|\n",
            "|               Egypt|      United States|   24|\n",
            "|   Equatorial Guinea|      United States|    1|\n",
            "|       United States|          Singapore|   25|\n",
            "|       United States|            Grenada|   54|\n",
            "|          Costa Rica|      United States|  477|\n",
            "|             Senegal|      United States|   29|\n",
            "|       United States|   Marshall Islands|   44|\n",
            "|              Guyana|      United States|   17|\n",
            "|       United States|       Sint Maarten|   53|\n",
            "|               Malta|      United States|    1|\n",
            "|             Bolivia|      United States|   46|\n",
            "|            Anguilla|      United States|   21|\n",
            "|Turks and Caicos ...|      United States|  136|\n",
            "|       United States|        Afghanistan|    2|\n",
            "|Saint Vincent and...|      United States|    1|\n",
            "|               Italy|      United States|  390|\n",
            "|       United States|             Russia|  156|\n",
            "+--------------------+-------------------+-----+\n",
            "only showing top 20 rows\n",
            "\n",
            "None\n",
            "255\n"
          ]
        }
      ]
    },
    {
      "cell_type": "code",
      "source": [
        "#Tabla temporal del dataframe\n",
        "df_csv.createOrReplaceTempView(\"Tabla_Vuelos\")"
      ],
      "metadata": {
        "id": "hYXj3AMve-t5"
      },
      "execution_count": 10,
      "outputs": []
    },
    {
      "cell_type": "code",
      "source": [
        "spark.catalog.listTables()"
      ],
      "metadata": {
        "colab": {
          "base_uri": "https://localhost:8080/",
          "height": 0
        },
        "id": "9c-lzo-ngF_G",
        "outputId": "315fd4ff-a9ed-4777-b80b-4a249d6c73ac"
      },
      "execution_count": 11,
      "outputs": [
        {
          "output_type": "execute_result",
          "data": {
            "text/plain": [
              "[Table(name='Tabla_Vuelos', catalog=None, namespace=[], description=None, tableType='TEMPORARY', isTemporary=True)]"
            ]
          },
          "metadata": {},
          "execution_count": 11
        }
      ]
    },
    {
      "cell_type": "code",
      "source": [
        "#Consulta para país de origen\n",
        "sql = \"\"\"\n",
        "SELECT ORIGIN_COUNTRY_NAME, count(*) as No_vuelos\n",
        "FROM tabla_vuelos\n",
        "GROUP BY ORIGIN_COUNTRY_NAME\n",
        "ORDER BY 2 DESC\n",
        "\"\"\"\n",
        "df_csv_origen = spark.sql(sql)\n",
        "df_csv_origen.show()"
      ],
      "metadata": {
        "colab": {
          "base_uri": "https://localhost:8080/",
          "height": 0
        },
        "id": "1yZDDZzhgiKU",
        "outputId": "16206d29-ae4c-4aba-936a-192aa13ccc82"
      },
      "execution_count": 18,
      "outputs": [
        {
          "output_type": "stream",
          "name": "stdout",
          "text": [
            "+--------------------+---------+\n",
            "| ORIGIN_COUNTRY_NAME|No_vuelos|\n",
            "+--------------------+---------+\n",
            "|       United States|      125|\n",
            "|              Russia|        1|\n",
            "|            Anguilla|        1|\n",
            "|             Senegal|        1|\n",
            "|              Sweden|        1|\n",
            "|            Kiribati|        1|\n",
            "|              Guyana|        1|\n",
            "|         Philippines|        1|\n",
            "|           Singapore|        1|\n",
            "|            Malaysia|        1|\n",
            "|                Fiji|        1|\n",
            "|              Turkey|        1|\n",
            "|             Germany|        1|\n",
            "|         Afghanistan|        1|\n",
            "|              Jordan|        1|\n",
            "|               Palau|        1|\n",
            "|Turks and Caicos ...|        1|\n",
            "|              France|        1|\n",
            "|              Greece|        1|\n",
            "|British Virgin Is...|        1|\n",
            "+--------------------+---------+\n",
            "only showing top 20 rows\n",
            "\n"
          ]
        }
      ]
    },
    {
      "cell_type": "code",
      "source": [
        "#Total de vuelos por país de origen\n",
        "df_csv_origen.createOrReplaceTempView(\"Pais_Origen\")"
      ],
      "metadata": {
        "id": "ab0OUQlseuge"
      },
      "execution_count": 19,
      "outputs": []
    },
    {
      "cell_type": "code",
      "source": [
        "#Consulta para país de destino\n",
        "sql = \"\"\"\n",
        "SELECT DEST_COUNTRY_NAME, count(*) as No_vuelos\n",
        "FROM tabla_vuelos\n",
        "GROUP BY DEST_COUNTRY_NAME\n",
        "ORDER BY 2 DESC\n",
        "\"\"\"\n",
        "df_csv_destino= spark.sql(sql)\n",
        "df_csv_destino.show()"
      ],
      "metadata": {
        "colab": {
          "base_uri": "https://localhost:8080/",
          "height": 0
        },
        "id": "NeEr9XyWgx_Z",
        "outputId": "cdf6a46e-ea85-4afc-d977-c0753edac96e"
      },
      "execution_count": 20,
      "outputs": [
        {
          "output_type": "stream",
          "name": "stdout",
          "text": [
            "+--------------------+---------+\n",
            "|   DEST_COUNTRY_NAME|No_vuelos|\n",
            "+--------------------+---------+\n",
            "|       United States|      131|\n",
            "|            Anguilla|        1|\n",
            "|              Russia|        1|\n",
            "|            Paraguay|        1|\n",
            "|             Senegal|        1|\n",
            "|              Sweden|        1|\n",
            "|            Kiribati|        1|\n",
            "|              Guyana|        1|\n",
            "|         Philippines|        1|\n",
            "|            Malaysia|        1|\n",
            "|           Singapore|        1|\n",
            "|                Fiji|        1|\n",
            "|              Turkey|        1|\n",
            "|             Germany|        1|\n",
            "|         Afghanistan|        1|\n",
            "|              Jordan|        1|\n",
            "|               Palau|        1|\n",
            "|Turks and Caicos ...|        1|\n",
            "|              France|        1|\n",
            "|              Greece|        1|\n",
            "+--------------------+---------+\n",
            "only showing top 20 rows\n",
            "\n"
          ]
        }
      ]
    },
    {
      "cell_type": "code",
      "source": [
        "#Total de vuelos por país de destino\n",
        "df_csv_destino.createOrReplaceTempView(\"Pais_Destino\")"
      ],
      "metadata": {
        "id": "YRBRGChZfE04"
      },
      "execution_count": 22,
      "outputs": []
    },
    {
      "cell_type": "code",
      "source": [
        "spark.catalog.listTables()"
      ],
      "metadata": {
        "colab": {
          "base_uri": "https://localhost:8080/",
          "height": 0
        },
        "id": "MM5ouh-rjHky",
        "outputId": "d587d00e-d9ff-44e5-8de4-e40680169051"
      },
      "execution_count": 23,
      "outputs": [
        {
          "output_type": "execute_result",
          "data": {
            "text/plain": [
              "[Table(name='Pais_Destino', catalog=None, namespace=[], description=None, tableType='TEMPORARY', isTemporary=True),\n",
              " Table(name='Pais_Origen', catalog=None, namespace=[], description=None, tableType='TEMPORARY', isTemporary=True),\n",
              " Table(name='Tabla_Vuelos', catalog=None, namespace=[], description=None, tableType='TEMPORARY', isTemporary=True)]"
            ]
          },
          "metadata": {},
          "execution_count": 23
        }
      ]
    },
    {
      "cell_type": "code",
      "source": [
        "#Lectura de todos los archivos\n",
        "df_csv_C = spark.read.format(\"csv\")\\\n",
        ".option(\"header\", \"true\")\\\n",
        ".option(\"mode\", \"FAILFAST\")\\\n",
        ".option(\"inferScheme\", \"true\")\\\n",
        ".load(ruta+\"/data/flight-data/csv/\")"
      ],
      "metadata": {
        "id": "CfCoYYt7jNn0"
      },
      "execution_count": 26,
      "outputs": []
    },
    {
      "cell_type": "code",
      "source": [
        "df_csv_C.count()"
      ],
      "metadata": {
        "colab": {
          "base_uri": "https://localhost:8080/",
          "height": 0
        },
        "id": "1EzAx1tur9Ec",
        "outputId": "95be5fde-03b4-41b0-a279-0c56e658ef5c"
      },
      "execution_count": 27,
      "outputs": [
        {
          "output_type": "execute_result",
          "data": {
            "text/plain": [
              "1502"
            ]
          },
          "metadata": {},
          "execution_count": 27
        }
      ]
    },
    {
      "cell_type": "code",
      "source": [
        "#Tabla temporal del dataframe\n",
        "df_csv_C.createOrReplaceTempView(\"Todos_Vuelos\")"
      ],
      "metadata": {
        "id": "HpBBlK9ZsIVK"
      },
      "execution_count": 29,
      "outputs": []
    },
    {
      "cell_type": "code",
      "source": [
        "#Consulta para país de origen (todos los archivos)\n",
        "sql = \"\"\"\n",
        "SELECT ORIGIN_COUNTRY_NAME, count(*) as No_vuelos\n",
        "FROM todos_vuelos\n",
        "GROUP BY ORIGIN_COUNTRY_NAME\n",
        "ORDER BY 2 DESC\n",
        "\"\"\"\n",
        "df_csv_origen_C = spark.sql(sql)\n",
        "df_csv_origen_C.show()"
      ],
      "metadata": {
        "colab": {
          "base_uri": "https://localhost:8080/",
          "height": 0
        },
        "id": "TXslmOtfsZus",
        "outputId": "ad176b6e-91ef-4522-ae83-04f5cb56fcbd"
      },
      "execution_count": 34,
      "outputs": [
        {
          "output_type": "stream",
          "name": "stdout",
          "text": [
            "+--------------------+---------+\n",
            "| ORIGIN_COUNTRY_NAME|No_vuelos|\n",
            "+--------------------+---------+\n",
            "|       United States|      772|\n",
            "|           Argentina|        6|\n",
            "|              Angola|        6|\n",
            "|            Dominica|        6|\n",
            "|             Belgium|        6|\n",
            "|              Sweden|        6|\n",
            "|             Ecuador|        6|\n",
            "|              Guyana|        6|\n",
            "|               Qatar|        6|\n",
            "|                Fiji|        6|\n",
            "|             Finland|        6|\n",
            "|             Germany|        6|\n",
            "|           Nicaragua|        6|\n",
            "|               Palau|        6|\n",
            "|               Ghana|        6|\n",
            "|              France|        6|\n",
            "|                Peru|        6|\n",
            "|British Virgin Is...|        6|\n",
            "|               India|        6|\n",
            "|            Anguilla|        6|\n",
            "+--------------------+---------+\n",
            "only showing top 20 rows\n",
            "\n"
          ]
        }
      ]
    },
    {
      "cell_type": "code",
      "source": [
        "#Total de vuelos por país de origen (todos los archivos)\n",
        "df_csv_origen.createOrReplaceTempView(\"Pais_Origen_C\")"
      ],
      "metadata": {
        "id": "O9su4ynzs9AG"
      },
      "execution_count": 35,
      "outputs": []
    },
    {
      "cell_type": "code",
      "source": [
        "#Consulta para país de destino (todos los archivos)\n",
        "sql = \"\"\"\n",
        "SELECT DEST_COUNTRY_NAME, count(*) as No_vuelos\n",
        "FROM todos_vuelos\n",
        "GROUP BY DEST_COUNTRY_NAME\n",
        "ORDER BY 2 DESC\n",
        "\"\"\"\n",
        "df_csv_destino_C= spark.sql(sql)\n",
        "df_csv_destino_C.show()"
      ],
      "metadata": {
        "colab": {
          "base_uri": "https://localhost:8080/",
          "height": 0
        },
        "id": "vrp79z5MtHm7",
        "outputId": "98b046ee-96d9-4ec3-a3a1-219902119366"
      },
      "execution_count": 36,
      "outputs": [
        {
          "output_type": "stream",
          "name": "stdout",
          "text": [
            "+--------------------+---------+\n",
            "|   DEST_COUNTRY_NAME|No_vuelos|\n",
            "+--------------------+---------+\n",
            "|       United States|      736|\n",
            "|               India|        6|\n",
            "|              Taiwan|        6|\n",
            "|              Greece|        6|\n",
            "|British Virgin Is...|        6|\n",
            "|            Dominica|        6|\n",
            "|            Anguilla|        6|\n",
            "|             Senegal|        6|\n",
            "|              Sweden|        6|\n",
            "|              Guyana|        6|\n",
            "|            Kiribati|        6|\n",
            "|                Peru|        6|\n",
            "|         Philippines|        6|\n",
            "|                Fiji|        6|\n",
            "|           Argentina|        6|\n",
            "|             Germany|        6|\n",
            "|             Belgium|        6|\n",
            "|               Palau|        6|\n",
            "|              Angola|        6|\n",
            "|              France|        6|\n",
            "+--------------------+---------+\n",
            "only showing top 20 rows\n",
            "\n"
          ]
        }
      ]
    },
    {
      "cell_type": "code",
      "source": [
        "#Total de vuelos por país de destino (todos los archivos)\n",
        "df_csv_destino_C.createOrReplaceTempView(\"Pais_Destino_C\")"
      ],
      "metadata": {
        "id": "WcwdgMI6tepK"
      },
      "execution_count": 37,
      "outputs": []
    },
    {
      "cell_type": "code",
      "source": [
        "spark.catalog.listTables()"
      ],
      "metadata": {
        "colab": {
          "base_uri": "https://localhost:8080/",
          "height": 0
        },
        "id": "8UEdfY1otpbk",
        "outputId": "15b49de4-5e57-4333-a4fb-55271e0ded20"
      },
      "execution_count": 38,
      "outputs": [
        {
          "output_type": "execute_result",
          "data": {
            "text/plain": [
              "[Table(name='Pais_Destino', catalog=None, namespace=[], description=None, tableType='TEMPORARY', isTemporary=True),\n",
              " Table(name='Pais_Destino_C', catalog=None, namespace=[], description=None, tableType='TEMPORARY', isTemporary=True),\n",
              " Table(name='Pais_Origen', catalog=None, namespace=[], description=None, tableType='TEMPORARY', isTemporary=True),\n",
              " Table(name='Pais_Origen_C', catalog=None, namespace=[], description=None, tableType='TEMPORARY', isTemporary=True),\n",
              " Table(name='Tabla_Vuelos', catalog=None, namespace=[], description=None, tableType='TEMPORARY', isTemporary=True),\n",
              " Table(name='Todos_Vuelos', catalog=None, namespace=[], description=None, tableType='TEMPORARY', isTemporary=True)]"
            ]
          },
          "metadata": {},
          "execution_count": 38
        }
      ]
    }
  ]
}