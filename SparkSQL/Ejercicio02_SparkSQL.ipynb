{
  "nbformat": 4,
  "nbformat_minor": 0,
  "metadata": {
    "colab": {
      "provenance": []
    },
    "kernelspec": {
      "name": "python3",
      "display_name": "Python 3"
    },
    "language_info": {
      "name": "python"
    }
  },
  "cells": [
    {
      "cell_type": "code",
      "source": [
        "from google.colab import drive\n",
        "drive.mount('/content/drive')\n",
        "ruta = \"/content/drive/MyDrive/Colab Notebooks/\""
      ],
      "metadata": {
        "colab": {
          "base_uri": "https://localhost:8080/",
          "height": 0
        },
        "id": "p4q7ZZDcPjb3",
        "outputId": "6f78cabf-0ce3-4b39-ed32-131ad79302da"
      },
      "execution_count": 240,
      "outputs": [
        {
          "output_type": "stream",
          "name": "stdout",
          "text": [
            "Drive already mounted at /content/drive; to attempt to forcibly remount, call drive.mount(\"/content/drive\", force_remount=True).\n"
          ]
        }
      ]
    },
    {
      "cell_type": "code",
      "source": [
        "! pip install pyspark"
      ],
      "metadata": {
        "colab": {
          "base_uri": "https://localhost:8080/",
          "height": 0
        },
        "id": "Nn0702hhPjtI",
        "outputId": "15d1dcb5-f0f2-45a8-9d70-ec7ac9b46652"
      },
      "execution_count": 241,
      "outputs": [
        {
          "output_type": "stream",
          "name": "stdout",
          "text": [
            "Requirement already satisfied: pyspark in /usr/local/lib/python3.10/dist-packages (3.5.0)\n",
            "Requirement already satisfied: py4j==0.10.9.7 in /usr/local/lib/python3.10/dist-packages (from pyspark) (0.10.9.7)\n"
          ]
        }
      ]
    },
    {
      "cell_type": "code",
      "source": [
        "#Crear sesion Spark\n",
        "from pyspark.sql import SparkSession\n",
        "spark = SparkSession.builder.master(\"local[*]\").getOrCreate()\n",
        "spark = SparkSession.builder.appName(\"SparkSQLEjercicio2\").getOrCreate()\n",
        "spark.conf.set(\"spark.sql.repl.eagerEval.enabled\", True)"
      ],
      "metadata": {
        "id": "UBTNxgGKPpwo"
      },
      "execution_count": 242,
      "outputs": []
    },
    {
      "cell_type": "code",
      "source": [
        "#Llamada a los archivos\n",
        "from pyspark.sql.functions import to_date\n",
        "dfp1 = spark.read.format(\"csv\").option(\"mode\", \"FAILFAST\")\\\n",
        "  .option(\"header\", \"true\")\\\n",
        "  .option(\"inferSchema\", \"true\")\\\n",
        "  .load(ruta+\"/data/Litros_y_Servicios_ASA_2015-2022_modificado.csv\")\n",
        "\n",
        "dfe = spark.read.format(\"json\").option(\"mode\", \"FAILFAST\")\\\n",
        "  .option(\"inferSchema\", \"true\")\\\n",
        "  .load(ruta+\"/data/entidades_federativas_mexico.json\")"
      ],
      "metadata": {
        "id": "9RczHVvVP3OX"
      },
      "execution_count": 243,
      "outputs": []
    },
    {
      "cell_type": "code",
      "source": [
        "#Dataframe \"Servicios\"\n",
        "print(dfp.show())\n",
        "print(dfp.count())"
      ],
      "metadata": {
        "colab": {
          "base_uri": "https://localhost:8080/",
          "height": 0
        },
        "id": "aP2kHyHwQc5X",
        "outputId": "a204a9e4-c14a-406b-c560-8296e5693620"
      },
      "execution_count": 244,
      "outputs": [
        {
          "output_type": "stream",
          "name": "stdout",
          "text": [
            "+-----------+-----------------+---------+-------+----------------+-------------------------------+--------------------+\n",
            "|Codigo_IATA|       Aeropuerto|Id_Estado|Aniomes|Tipo_combustible|Litros_combustible_suministrado|Servicios_realizados|\n",
            "+-----------+-----------------+---------+-------+----------------+-------------------------------+--------------------+\n",
            "|        ACA|         Acapulco|       12| 201501|       Turbosina|                        1661674|                 757|\n",
            "|        AGU|   Aguascalientes|        1| 201501|       Turbosina|                        1557391|                 502|\n",
            "|        BJX|         El Bajio|       11| 201501|       Turbosina|                        3975683|                1124|\n",
            "|        CEN|   Ciudad Obregon|       26| 201501|       Turbosina|                         641425|                 240|\n",
            "|        CJS|    Ciudad Juarez|        8| 201501|       Turbosina|                        2032172|                 502|\n",
            "|        CME|Ciudad Del Carmen|        4| 201501|       Turbosina|                        2466576|                 653|\n",
            "|        CLQ|           Colima|        6| 201501|       Turbosina|                         336077|                 163|\n",
            "|        CPE|         Campeche|        4| 201501|       Turbosina|                         571376|                 187|\n",
            "|        CTM|         Chetumal|       23| 201501|       Turbosina|                         425045|                 109|\n",
            "|        CUL|         Culiacan|       25| 201501|       Turbosina|                        3037601|                 816|\n",
            "|        CUN|           Cancun|       23| 201501|       Turbosina|                       72948856|                6553|\n",
            "|        CUU|        Chihuahua|        8| 201501|       Turbosina|                        2450726|                 834|\n",
            "|        CVJ|       Cuernavaca|       17| 201501|       Turbosina|                         118665|                 106|\n",
            "|        CVM|  Ciudad Victoria|       28| 201501|       Turbosina|                         205869|                 191|\n",
            "|        CZM|          Cozumel|       23| 201501|       Turbosina|                        1809094|                 432|\n",
            "|        DGO|          Durango|       10| 201501|       Turbosina|                         657824|                 357|\n",
            "|        GDL|      Guadalajara|       14| 201501|       Turbosina|                       23707321|                4370|\n",
            "|        GYM|          Guaymas|       26| 201501|       Turbosina|                          48175|                  49|\n",
            "|        HMO|       Hermosillo|       26| 201501|       Turbosina|                        3244029|                1151|\n",
            "|        HUX|         Huatulco|       20| 201501|       Turbosina|                        2034092|                 361|\n",
            "+-----------+-----------------+---------+-------+----------------+-------------------------------+--------------------+\n",
            "only showing top 20 rows\n",
            "\n",
            "None\n",
            "11860\n"
          ]
        }
      ]
    },
    {
      "cell_type": "code",
      "source": [
        "#Dataframe \"Estados\"\n",
        "print(dfe.show(32))\n",
        "print(dfe.count())"
      ],
      "metadata": {
        "colab": {
          "base_uri": "https://localhost:8080/"
        },
        "id": "gho6whEkQff_",
        "outputId": "7bae9d60-9cf5-4912-9c2e-6600448b163d"
      },
      "execution_count": 264,
      "outputs": [
        {
          "output_type": "stream",
          "name": "stdout",
          "text": [
            "+-----------+-----+--------------------+\n",
            "|abreviatura|clave|              estado|\n",
            "+-----------+-----+--------------------+\n",
            "|       Ags.|    1|      Aguascalientes|\n",
            "|       Dgo.|   10|             Durango|\n",
            "|       Gto.|   11|          Guanajuato|\n",
            "|       Gro.|   12|            Guerrero|\n",
            "|       Hgo.|   13|             Hidalgo|\n",
            "|       Jal.|   14|             Jalisco|\n",
            "|       Mex.|   15|              México|\n",
            "|      Mich.|   16| Michoacán de Ocampo|\n",
            "|       Mor.|   17|             Morelos|\n",
            "|       Nay.|   18|             Nayarit|\n",
            "|         NL|   19|          Nuevo León|\n",
            "|         BC|    2|     Baja California|\n",
            "|       Oax.|   20|              Oaxaca|\n",
            "|       Pue.|   21|              Puebla|\n",
            "|       Qro.|   22|           Querétaro|\n",
            "|     Q. Roo|   23|        Quintana Roo|\n",
            "|        SLP|   24|     San Luis Potosí|\n",
            "|       Sin.|   25|             Sinaloa|\n",
            "|       Son.|   26|              Sonora|\n",
            "|       Tab.|   27|             Tabasco|\n",
            "|     Tamps.|   28|          Tamaulipas|\n",
            "|      Tlax.|   29|            Tlaxcala|\n",
            "|        BCS|    3| Baja California Sur|\n",
            "|       Ver.|   30|Veracruz de Ignac...|\n",
            "|       Yuc.|   31|             Yucatán|\n",
            "|       Zac.|   32|           Zacatecas|\n",
            "|      Camp.|    4|            Campeche|\n",
            "|      Coah.|    5|Coahuila de Zaragoza|\n",
            "|       Col.|    6|              Colima|\n",
            "|      Chis.|    7|             Chiapas|\n",
            "|      Chih.|    8|           Chihuahua|\n",
            "|       CDMX|    9|    Ciudad de México|\n",
            "+-----------+-----+--------------------+\n",
            "\n",
            "None\n",
            "32\n"
          ]
        }
      ]
    },
    {
      "cell_type": "code",
      "source": [
        "#Creacion de tablas temporales\n",
        "dfp.createOrReplaceTempView(\"servicios\")\n",
        "dfe.createOrReplaceTempView(\"estados\")\n",
        "\n",
        "spark.sql(\"SHOW TABLES\").show()"
      ],
      "metadata": {
        "colab": {
          "base_uri": "https://localhost:8080/",
          "height": 0
        },
        "id": "h-m2Ol_3SSld",
        "outputId": "70f955ac-0874-4c41-db2f-97b0470a56e4"
      },
      "execution_count": 246,
      "outputs": [
        {
          "output_type": "stream",
          "name": "stdout",
          "text": [
            "+---------+---------+-----------+\n",
            "|namespace|tableName|isTemporary|\n",
            "+---------+---------+-----------+\n",
            "|         |  estados|       true|\n",
            "|         |servicios|       true|\n",
            "+---------+---------+-----------+\n",
            "\n"
          ]
        }
      ]
    },
    {
      "cell_type": "code",
      "source": [
        "#Se muestra que el DataFrame \"Servicios\" tiene un error en el \"id_estado\", ya que hay en el \"codigo_iata\"\n",
        "#se marca que existen dos aeropuertos \"Mexico\", uno con \"id_estado= 9\" y otro con \"id_estado= DF\"\n",
        "sql=\"\"\"\n",
        "SELECT servicios.aeropuerto,servicios.codigo_iata, servicios.id_estado\n",
        "FROM estados\n",
        "JOIN servicios\n",
        "GROUP BY servicios.aeropuerto,servicios.codigo_iata, servicios.id_estado\n",
        "ORDER BY 1\n",
        "\"\"\"\n",
        "spark.sql(sql).show(50)\n",
        "print(spark.sql(sql).count())"
      ],
      "metadata": {
        "colab": {
          "base_uri": "https://localhost:8080/",
          "height": 0
        },
        "id": "hntl11IosD8E",
        "outputId": "68995a25-0885-494f-97a0-840c00428b6e"
      },
      "execution_count": 257,
      "outputs": [
        {
          "output_type": "stream",
          "name": "stdout",
          "text": [
            "+-----------------+-----------+---------+\n",
            "|       aeropuerto|codigo_iata|id_estado|\n",
            "+-----------------+-----------+---------+\n",
            "|         Acapulco|        ACA|       12|\n",
            "|   Aguascalientes|        AGU|        1|\n",
            "|         Campeche|        CPE|        4|\n",
            "|           Cancun|        CUN|       23|\n",
            "|         Chetumal|        CTM|       23|\n",
            "|        Chihuahua|        CUU|        8|\n",
            "|Ciudad Del Carmen|        CME|        4|\n",
            "|    Ciudad Juarez|        CJS|        8|\n",
            "|   Ciudad Obregon|        CEN|       26|\n",
            "|  Ciudad Victoria|        CVM|       28|\n",
            "|           Colima|        CLQ|        6|\n",
            "|          Cozumel|        CZM|       23|\n",
            "|       Cuernavaca|        CVJ|       17|\n",
            "|         Culiacan|        CUL|       25|\n",
            "|          Durango|        DGO|       10|\n",
            "|         El Bajio|        BJX|       11|\n",
            "|   Felipe Angeles|        NLU|       15|\n",
            "|      Guadalajara|        GDL|       14|\n",
            "|          Guaymas|        GYM|       26|\n",
            "|       Hermosillo|        HMO|       26|\n",
            "|         Huatulco|        HUX|       20|\n",
            "|          Ixtepec|        IZT|       20|\n",
            "|           La Paz|        LAP|        3|\n",
            "|  Lazaro Cardenas|        LZC|       16|\n",
            "|           Loreto|        LTO|        3|\n",
            "|       Los Mochis|        LMM|       25|\n",
            "|       Manzanillo|        ZLO|        6|\n",
            "|        Matamoros|        MAM|       28|\n",
            "|         Mazatlan|        MZT|       25|\n",
            "|           Merida|        MID|       31|\n",
            "|         Mexicali|        MXL|        2|\n",
            "|           Mexico|        MEX|        9|\n",
            "|       Minatitlan|        MTT|       30|\n",
            "|        Monterrey|        MTY|       19|\n",
            "|          Morelia|        MLM|       16|\n",
            "|           M�xico|        MEX|       DF|\n",
            "|          Nogales|        NOG|       26|\n",
            "|     Nuevo Laredo|        NLD|       28|\n",
            "|           Oaxaca|        OAX|       20|\n",
            "|          Pachuca|        PCA|       13|\n",
            "|         Palenque|        PQM|        7|\n",
            "|        Poza Rica|        PAZ|       30|\n",
            "|           Puebla|        PBC|       21|\n",
            "| Puerto Escondido|        PXM|       20|\n",
            "|   Puerto Penasco|        PPE|       26|\n",
            "|  Puerto Vallarta|        PVR|       14|\n",
            "|        Queretaro|        QRO|       22|\n",
            "|          Reynosa|        REX|       28|\n",
            "|San Jose Del Cabo|        SJD|        3|\n",
            "|  San Luis Potosi|        SLP|       24|\n",
            "+-----------------+-----------+---------+\n",
            "only showing top 50 rows\n",
            "\n",
            "64\n"
          ]
        }
      ]
    },
    {
      "cell_type": "code",
      "source": [
        "#Comprobacion de que existen dos aeropuertos \"Mexico\", uno con \"id_estado= 9\" y otro con \"id_estado= DF\"\n",
        "sql1=\"\"\" SELECT servicios.id_estado, servicios.codigo_iata\n",
        "FROM servicios\n",
        "JOIN estados\n",
        "ON servicios.id_estado=9\n",
        "\"\"\"\n",
        "spark.sql(sql1).show()\n",
        "print(spark.sql(sql1).count())\n",
        "\n",
        "sql=\"\"\" SELECT servicios.id_estado, servicios.codigo_iata\n",
        "FROM servicios\n",
        "JOIN estados\n",
        "ON servicios.id_estado='DF'\n",
        "\"\"\"\n",
        "spark.sql(sql).show()\n",
        "print(spark.sql(sql).count())\n",
        "\n",
        "#Debido a que SparkSQL no actualiza el campo de 'DF' a '9', los procesos se realizaron de esta manera"
      ],
      "metadata": {
        "colab": {
          "base_uri": "https://localhost:8080/",
          "height": 0
        },
        "id": "n38lYnMtV-zM",
        "outputId": "a14ea064-bf81-4fed-f65c-fef2a8c53543"
      },
      "execution_count": 248,
      "outputs": [
        {
          "output_type": "stream",
          "name": "stdout",
          "text": [
            "+---------+-----------+\n",
            "|id_estado|codigo_iata|\n",
            "+---------+-----------+\n",
            "|        9|        MEX|\n",
            "|        9|        MEX|\n",
            "|        9|        MEX|\n",
            "|        9|        MEX|\n",
            "|        9|        MEX|\n",
            "|        9|        MEX|\n",
            "|        9|        MEX|\n",
            "|        9|        MEX|\n",
            "|        9|        MEX|\n",
            "|        9|        MEX|\n",
            "|        9|        MEX|\n",
            "|        9|        MEX|\n",
            "|        9|        MEX|\n",
            "|        9|        MEX|\n",
            "|        9|        MEX|\n",
            "|        9|        MEX|\n",
            "|        9|        MEX|\n",
            "|        9|        MEX|\n",
            "|        9|        MEX|\n",
            "|        9|        MEX|\n",
            "+---------+-----------+\n",
            "only showing top 20 rows\n",
            "\n",
            "5376\n",
            "+---------+-----------+\n",
            "|id_estado|codigo_iata|\n",
            "+---------+-----------+\n",
            "|       DF|        MEX|\n",
            "|       DF|        MEX|\n",
            "|       DF|        MEX|\n",
            "|       DF|        MEX|\n",
            "|       DF|        MEX|\n",
            "|       DF|        MEX|\n",
            "|       DF|        MEX|\n",
            "|       DF|        MEX|\n",
            "|       DF|        MEX|\n",
            "|       DF|        MEX|\n",
            "|       DF|        MEX|\n",
            "|       DF|        MEX|\n",
            "|       DF|        MEX|\n",
            "|       DF|        MEX|\n",
            "|       DF|        MEX|\n",
            "|       DF|        MEX|\n",
            "|       DF|        MEX|\n",
            "|       DF|        MEX|\n",
            "|       DF|        MEX|\n",
            "|       DF|        MEX|\n",
            "+---------+-----------+\n",
            "only showing top 20 rows\n",
            "\n",
            "768\n"
          ]
        }
      ]
    },
    {
      "cell_type": "code",
      "execution_count": 250,
      "metadata": {
        "colab": {
          "base_uri": "https://localhost:8080/",
          "height": 0
        },
        "id": "8fWG4xg6OIat",
        "outputId": "66e769c3-375f-4fe1-e33e-85e4af86c257"
      },
      "outputs": [
        {
          "output_type": "stream",
          "name": "stdout",
          "text": [
            "+-----+--------------------+------------+\n",
            "|clave|              estado|no_servicios|\n",
            "+-----+--------------------+------------+\n",
            "|    1|      Aguascalientes|       53805|\n",
            "|    2|     Baja California|      305516|\n",
            "|    3| Baja California Sur|      272027|\n",
            "|    4|            Campeche|       63264|\n",
            "|    7|             Chiapas|       93666|\n",
            "|    8|           Chihuahua|      177512|\n",
            "|    9|    Ciudad de México|     1387227|\n",
            "|    5|Coahuila de Zaragoza|       54690|\n",
            "|    6|              Colima|       38050|\n",
            "|   10|             Durango|       57462|\n",
            "|   11|          Guanajuato|      118135|\n",
            "|   12|            Guerrero|      130845|\n",
            "|   13|             Hidalgo|        9835|\n",
            "|   14|             Jalisco|      687600|\n",
            "|   16| Michoacán de Ocampo|       64912|\n",
            "|   17|             Morelos|       65561|\n",
            "|   15|              México|      230196|\n",
            "|   18|             Nayarit|       21554|\n",
            "|   19|          Nuevo León|      398649|\n",
            "|   20|              Oaxaca|      116478|\n",
            "|   21|              Puebla|       64462|\n",
            "|   22|           Querétaro|      166740|\n",
            "|   23|        Quintana Roo|      721070|\n",
            "|   24|     San Luis Potosí|       74116|\n",
            "|   25|             Sinaloa|      256895|\n",
            "|   26|              Sonora|      204055|\n",
            "|   27|             Tabasco|       73162|\n",
            "|   28|          Tamaulipas|      127367|\n",
            "|   30|Veracruz de Ignac...|      119997|\n",
            "|   31|             Yucatán|      118838|\n",
            "|   32|           Zacatecas|       24586|\n",
            "+-----+--------------------+------------+\n",
            "\n",
            "31\n"
          ]
        }
      ],
      "source": [
        "#Número total de servicios realizados por estado\n",
        "sql = \"\"\"\n",
        "SELECT estados.clave, estados.estado, SUM(servicios.servicios_realizados) no_servicios\n",
        "FROM servicios\n",
        "JOIN estados\n",
        "ON servicios.id_estado= estados.clave\n",
        "GROUP BY estados.clave, estados.estado\n",
        "ORDER BY estados.estado\n",
        "\"\"\"\n",
        "spark.sql(sql).show(31)\n",
        "print(spark.sql(sql).count())"
      ]
    },
    {
      "cell_type": "code",
      "source": [
        "#Número total de servicios realizados por aeropuerto, se muestra el estado\n",
        "sql = \"\"\"\n",
        "SELECT estados.clave, estados.estado, servicios.aeropuerto,\n",
        "SUM(servicios.servicios_realizados) no_servicios\n",
        "FROM servicios\n",
        "JOIN estados\n",
        "ON servicios.id_estado= estados.clave\n",
        "GROUP BY estados.clave, estados.estado,servicios.aeropuerto\n",
        "ORDER BY estados.estado\n",
        "\"\"\"\n",
        "spark.sql(sql).show(50)\n",
        "print(spark.sql(sql).count())"
      ],
      "metadata": {
        "colab": {
          "base_uri": "https://localhost:8080/",
          "height": 0
        },
        "id": "mmL-CHag-Qmt",
        "outputId": "1f2d6434-080d-47d1-a5f3-e361158b8da8"
      },
      "execution_count": 258,
      "outputs": [
        {
          "output_type": "stream",
          "name": "stdout",
          "text": [
            "+-----+--------------------+-----------------+------------+\n",
            "|clave|              estado|       aeropuerto|no_servicios|\n",
            "+-----+--------------------+-----------------+------------+\n",
            "|    1|      Aguascalientes|   Aguascalientes|       53805|\n",
            "|    2|     Baja California|          Tijuana|      263616|\n",
            "|    2|     Baja California|         Mexicali|       41900|\n",
            "|    3| Baja California Sur|           La Paz|       63127|\n",
            "|    3| Baja California Sur|           Loreto|       13972|\n",
            "|    3| Baja California Sur|San Jose Del Cabo|      194928|\n",
            "|    4|            Campeche|         Campeche|       18146|\n",
            "|    4|            Campeche|Ciudad Del Carmen|       45118|\n",
            "|    7|             Chiapas|         Palenque|        1759|\n",
            "|    7|             Chiapas|        Tapachula|       36237|\n",
            "|    7|             Chiapas| Tuxtla Gutierrez|       55670|\n",
            "|    8|           Chihuahua|        Chihuahua|      114554|\n",
            "|    8|           Chihuahua|    Ciudad Juarez|       62958|\n",
            "|    9|    Ciudad de México|           Mexico|     1387227|\n",
            "|    5|Coahuila de Zaragoza|          Torreon|       54690|\n",
            "|    6|              Colima|       Manzanillo|       18145|\n",
            "|    6|              Colima|           Colima|       19905|\n",
            "|   10|             Durango|          Durango|       57462|\n",
            "|   11|          Guanajuato|         El Bajio|      118135|\n",
            "|   12|            Guerrero|         Acapulco|       96790|\n",
            "|   12|            Guerrero|      Zihuatanejo|       34055|\n",
            "|   13|             Hidalgo|          Pachuca|        9835|\n",
            "|   14|             Jalisco|      Guadalajara|      527900|\n",
            "|   14|             Jalisco|  Puerto Vallarta|      159700|\n",
            "|   16| Michoacán de Ocampo|          Uruapan|       14066|\n",
            "|   16| Michoacán de Ocampo|          Morelia|       45093|\n",
            "|   16| Michoacán de Ocampo|  Lazaro Cardenas|        5753|\n",
            "|   17|             Morelos|       Cuernavaca|       65561|\n",
            "|   15|              México|   Felipe Angeles|        4703|\n",
            "|   15|              México|           Toluca|      225493|\n",
            "|   18|             Nayarit|            Tepic|       21554|\n",
            "|   19|          Nuevo León|        Monterrey|      398649|\n",
            "|   20|              Oaxaca|         Huatulco|       29440|\n",
            "|   20|              Oaxaca| Puerto Escondido|       21443|\n",
            "|   20|              Oaxaca|           Oaxaca|       62812|\n",
            "|   20|              Oaxaca|          Ixtepec|        2783|\n",
            "|   21|              Puebla|           Puebla|       58861|\n",
            "|   21|              Puebla|         Tehuacan|        5601|\n",
            "|   22|           Querétaro|        Queretaro|      166740|\n",
            "|   23|        Quintana Roo|          Cozumel|       41655|\n",
            "|   23|        Quintana Roo|           Cancun|      662959|\n",
            "|   23|        Quintana Roo|         Chetumal|       16456|\n",
            "|   24|     San Luis Potosí|  San Luis Potosi|       70648|\n",
            "|   24|     San Luis Potosí|           Tamuin|        3468|\n",
            "|   25|             Sinaloa|         Culiacan|      146596|\n",
            "|   25|             Sinaloa|         Mazatlan|       66666|\n",
            "|   25|             Sinaloa|       Los Mochis|       43633|\n",
            "|   26|              Sonora|   Ciudad Obregon|       41961|\n",
            "|   26|              Sonora|       Hermosillo|      137402|\n",
            "|   26|              Sonora|          Guaymas|       12894|\n",
            "+-----+--------------------+-----------------+------------+\n",
            "only showing top 50 rows\n",
            "\n",
            "63\n"
          ]
        }
      ]
    },
    {
      "cell_type": "code",
      "source": [
        "#Maximo, minimo, promedio y total de litros de combustible por estado\n",
        "sql = \"\"\"\n",
        "SELECT estados.clave, estados.estado,\n",
        "AVG(servicios.litros_combustible_suministrado) litros_promedio,\n",
        "SUM(servicios.litros_combustible_suministrado) total_litros,\n",
        "MAX(servicios.litros_combustible_suministrado) max_litros,\n",
        "MIN(servicios.litros_combustible_suministrado) min_litros\n",
        "FROM servicios\n",
        "JOIN estados\n",
        "ON servicios.id_estado= estados.clave\n",
        "GROUP BY estados.clave, estados.estado\n",
        "ORDER BY estados.estado\n",
        "\"\"\"\n",
        "spark.sql(sql).show(31)\n",
        "print(spark.sql(sql).count())"
      ],
      "metadata": {
        "id": "YClZi6eAOmkZ",
        "colab": {
          "base_uri": "https://localhost:8080/",
          "height": 0
        },
        "outputId": "e979d7b3-3beb-4c9a-a209-554dd61f01e6"
      },
      "execution_count": 259,
      "outputs": [
        {
          "output_type": "stream",
          "name": "stdout",
          "text": [
            "+-----+--------------------+--------------------+------------+----------+----------+\n",
            "|clave|              estado|     litros_promedio|total_litros|max_litros|min_litros|\n",
            "+-----+--------------------+--------------------+------------+----------+----------+\n",
            "|    1|      Aguascalientes|   850269.7239583334|   163251787|   2231356|      4405|\n",
            "|    2|     Baja California|   5293568.791666667|  2032730416|  30156947|      3552|\n",
            "|    3| Baja California Sur|  2261269.6319444445|  1302491308|  18860897|         0|\n",
            "|    4|            Campeche|      541523.9765625|   207945207|   2693424|         0|\n",
            "|    7|             Chiapas|   556496.3489583334|   320541897|   2924236|         0|\n",
            "|    8|           Chihuahua|  1468393.5963541667|   563863141|   4298356|         0|\n",
            "|    9|    Ciudad de México| 6.793585186309524E7| 11413223113| 175193398|         0|\n",
            "|    5|Coahuila de Zaragoza|   608295.3072916666|   116792699|   1774353|      6250|\n",
            "|    6|              Colima|      219176.1953125|    84163659|   1299299|      3941|\n",
            "|   10|             Durango|   455057.1614583333|    87370975|   1341563|     28049|\n",
            "|   11|          Guanajuato|      2402236.953125|   461229495|   7083516|      7708|\n",
            "|   12|            Guerrero|       619961.328125|   238065150|   2679970|      2501|\n",
            "|   13|             Hidalgo|  24249.713541666668|     4655945|     73725|         0|\n",
            "|   14|             Jalisco|   9729529.447916666|  3736139308|  37859770|      9234|\n",
            "|   16| Michoacán de Ocampo|  463636.35243055556|   267054539|   3793293|         0|\n",
            "|   17|             Morelos|   74977.02604166667|    14395589|    218643|      3688|\n",
            "|   15|              México|   2728441.683962264|   578429637|   7531981|         0|\n",
            "|   18|             Nayarit|  199129.41145833334|    38232847|    564908|      6934|\n",
            "|   19|          Nuevo León|         8526911.125|  1637166936|  23805950|         0|\n",
            "|   20|              Oaxaca|  468600.44176136365|   329894711|   3141393|         0|\n",
            "|   21|              Puebla|   355196.9739583333|   136395638|   2165552|         0|\n",
            "|   22|           Querétaro|  2144743.9583333335|   411790840|   6517165|     17732|\n",
            "|   23|        Quintana Roo|1.1962289310763888E7|  6890278643| 111014538|         0|\n",
            "|   24|     San Luis Potosí|      378162.2734375|   145214313|   2087194|         0|\n",
            "|   25|             Sinaloa|   1120954.204861111|   645669622|   5023549|     10089|\n",
            "|   26|              Sonora|   463069.2864583333|   444546515|   4702325|         0|\n",
            "|   27|             Tabasco|  1227151.6041666667|   235613108|   3315667|     44352|\n",
            "|   28|          Tamaulipas|       227889.453125|   218773875|   1422156|         0|\n",
            "|   30|Veracruz de Ignac...|   386960.3385416667|   222889155|   2990880|         0|\n",
            "|   31|             Yucatán|      2538314.578125|   487356399|   6893779|      1296|\n",
            "|   32|           Zacatecas|   450285.1041666667|    86454740|   1253572|         0|\n",
            "+-----+--------------------+--------------------+------------+----------+----------+\n",
            "\n",
            "31\n"
          ]
        }
      ]
    },
    {
      "cell_type": "code",
      "source": [
        "#Tabla pivote mostrar total de litros de combustible por estado y tipo (Turbosina,Gasavion)\n",
        "sql=\"\"\" SELECT estados.clave, estados.estado, servicios.tipo_combustible,\n",
        "SUM(servicios.litros_combustible_suministrado) total_litros\n",
        "FROM servicios\n",
        "JOIN estados\n",
        "ON servicios.id_estado =estados.clave\n",
        "GROUP BY estados.clave, estados.estado,servicios.tipo_combustible\n",
        "ORDER BY estados.estado\n",
        "\"\"\"\n",
        "\n",
        "spark.sql(sql).show(50)\n",
        "print(spark.sql(sql).count())"
      ],
      "metadata": {
        "id": "K5WkhZ2SOwsh",
        "colab": {
          "base_uri": "https://localhost:8080/",
          "height": 0
        },
        "outputId": "2080fd2f-b125-4537-857b-d4b9b0c5d7c9"
      },
      "execution_count": 261,
      "outputs": [
        {
          "output_type": "stream",
          "name": "stdout",
          "text": [
            "+-----+--------------------+----------------+------------+\n",
            "|clave|              estado|tipo_combustible|total_litros|\n",
            "+-----+--------------------+----------------+------------+\n",
            "|    1|      Aguascalientes|        Gasavion|     1015666|\n",
            "|    1|      Aguascalientes|       Turbosina|   162236121|\n",
            "|    2|     Baja California|       Turbosina|  2025350381|\n",
            "|    2|     Baja California|        Gasavion|     7380035|\n",
            "|    3| Baja California Sur|        Gasavion|     4779440|\n",
            "|    3| Baja California Sur|       Turbosina|  1297711868|\n",
            "|    4|            Campeche|       Turbosina|   206942000|\n",
            "|    4|            Campeche|        Gasavion|     1003207|\n",
            "|    7|             Chiapas|       Turbosina|   305998954|\n",
            "|    7|             Chiapas|        Gasavion|    14542943|\n",
            "|    8|           Chihuahua|        Gasavion|    13461051|\n",
            "|    8|           Chihuahua|       Turbosina|   550402090|\n",
            "|    9|    Ciudad de México|        Gasavion|     1580564|\n",
            "|    9|    Ciudad de México|       Turbosina| 11411642549|\n",
            "|    5|Coahuila de Zaragoza|        Gasavion|     2419862|\n",
            "|    5|Coahuila de Zaragoza|       Turbosina|   114372837|\n",
            "|    6|              Colima|       Turbosina|    73397599|\n",
            "|    6|              Colima|        Gasavion|    10766060|\n",
            "|   10|             Durango|        Gasavion|     4215433|\n",
            "|   10|             Durango|       Turbosina|    83155542|\n",
            "|   11|          Guanajuato|        Gasavion|     1545735|\n",
            "|   11|          Guanajuato|       Turbosina|   459683760|\n",
            "|   12|            Guerrero|        Gasavion|     3679101|\n",
            "|   12|            Guerrero|       Turbosina|   234386049|\n",
            "|   13|             Hidalgo|        Gasavion|      850481|\n",
            "|   13|             Hidalgo|       Turbosina|     3805464|\n",
            "|   14|             Jalisco|        Gasavion|    12955645|\n",
            "|   14|             Jalisco|       Turbosina|  3723183663|\n",
            "|   16| Michoacán de Ocampo|       Turbosina|   264038573|\n",
            "|   16| Michoacán de Ocampo|        Gasavion|     3015966|\n",
            "|   17|             Morelos|       Turbosina|    10133727|\n",
            "|   17|             Morelos|        Gasavion|     4261862|\n",
            "|   15|              México|       Turbosina|   573950624|\n",
            "|   15|              México|        Gasavion|     4479013|\n",
            "|   18|             Nayarit|       Turbosina|    36555747|\n",
            "|   18|             Nayarit|        Gasavion|     1677100|\n",
            "|   19|          Nuevo León|        Gasavion|     6559913|\n",
            "|   19|          Nuevo León|       Turbosina|  1630607023|\n",
            "|   20|              Oaxaca|       Turbosina|   328318646|\n",
            "|   20|              Oaxaca|        Gasavion|     1576065|\n",
            "|   21|              Puebla|        Gasavion|     2737670|\n",
            "|   21|              Puebla|       Turbosina|   133657968|\n",
            "|   22|           Querétaro|       Turbosina|   407023665|\n",
            "|   22|           Querétaro|        Gasavion|     4767175|\n",
            "|   23|        Quintana Roo|       Turbosina|  6886533733|\n",
            "|   23|        Quintana Roo|        Gasavion|     3744910|\n",
            "|   24|     San Luis Potosí|        Gasavion|     1763332|\n",
            "|   24|     San Luis Potosí|       Turbosina|   143450981|\n",
            "|   25|             Sinaloa|        Gasavion|    45266262|\n",
            "|   25|             Sinaloa|       Turbosina|   600403360|\n",
            "+-----+--------------------+----------------+------------+\n",
            "only showing top 50 rows\n",
            "\n",
            "62\n"
          ]
        }
      ]
    },
    {
      "cell_type": "code",
      "source": [
        "#Mostrar 5 aeropuertos con mayor numero de servicios\n",
        "sql = \"\"\"\n",
        "SELECT estados.clave, estados.estado, servicios.aeropuerto,\n",
        "SUM(servicios.servicios_realizados) no_servicios\n",
        "FROM servicios\n",
        "JOIN estados\n",
        "ON servicios.id_estado= estados.clave\n",
        "GROUP BY estados.clave, estados.estado, servicios.aeropuerto\n",
        "ORDER BY no_servicios DESC\n",
        "LIMIT 5\n",
        "\"\"\"\n",
        "spark.sql(sql).show(63)\n",
        "print(spark.sql(sql).count())"
      ],
      "metadata": {
        "id": "bo4NeGdPO7si",
        "colab": {
          "base_uri": "https://localhost:8080/",
          "height": 0
        },
        "outputId": "475ad9e4-cc61-4a74-cf30-d15102ad8bae"
      },
      "execution_count": 262,
      "outputs": [
        {
          "output_type": "stream",
          "name": "stdout",
          "text": [
            "+-----+----------------+-----------+------------+\n",
            "|clave|          estado| aeropuerto|no_servicios|\n",
            "+-----+----------------+-----------+------------+\n",
            "|    9|Ciudad de México|     Mexico|     1387227|\n",
            "|   23|    Quintana Roo|     Cancun|      662959|\n",
            "|   14|         Jalisco|Guadalajara|      527900|\n",
            "|   19|      Nuevo León|  Monterrey|      398649|\n",
            "|    2| Baja California|    Tijuana|      263616|\n",
            "+-----+----------------+-----------+------------+\n",
            "\n",
            "5\n"
          ]
        }
      ]
    },
    {
      "cell_type": "code",
      "source": [
        "#Mostrar 10 estados con menos consumo de Turbosina\n",
        "sql=\"\"\" SELECT estados.clave, estados.estado, servicios.tipo_combustible,\n",
        "SUM(servicios.litros_combustible_suministrado) total_litros\n",
        "FROM servicios\n",
        "JOIN estados\n",
        "ON servicios.id_estado =estados.clave\n",
        "WHERE servicios.tipo_combustible='Turbosina'\n",
        "GROUP BY estados.clave, estados.estado,servicios.tipo_combustible\n",
        "ORDER BY total_litros\n",
        "LIMIT 10\n",
        "\"\"\"\n",
        "spark.sql(sql).show()\n",
        "print(spark.sql(sql).count())"
      ],
      "metadata": {
        "id": "q9LUGLuyPX05",
        "colab": {
          "base_uri": "https://localhost:8080/",
          "height": 0
        },
        "outputId": "5e6065e1-448e-4e3e-c66b-8f378afd7b66"
      },
      "execution_count": 263,
      "outputs": [
        {
          "output_type": "stream",
          "name": "stdout",
          "text": [
            "+-----+--------------------+----------------+------------+\n",
            "|clave|              estado|tipo_combustible|total_litros|\n",
            "+-----+--------------------+----------------+------------+\n",
            "|   13|             Hidalgo|       Turbosina|     3805464|\n",
            "|   17|             Morelos|       Turbosina|    10133727|\n",
            "|   18|             Nayarit|       Turbosina|    36555747|\n",
            "|    6|              Colima|       Turbosina|    73397599|\n",
            "|   10|             Durango|       Turbosina|    83155542|\n",
            "|   32|           Zacatecas|       Turbosina|    86152573|\n",
            "|    5|Coahuila de Zaragoza|       Turbosina|   114372837|\n",
            "|   21|              Puebla|       Turbosina|   133657968|\n",
            "|   24|     San Luis Potosí|       Turbosina|   143450981|\n",
            "|    1|      Aguascalientes|       Turbosina|   162236121|\n",
            "+-----+--------------------+----------------+------------+\n",
            "\n",
            "10\n"
          ]
        }
      ]
    }
  ]
}