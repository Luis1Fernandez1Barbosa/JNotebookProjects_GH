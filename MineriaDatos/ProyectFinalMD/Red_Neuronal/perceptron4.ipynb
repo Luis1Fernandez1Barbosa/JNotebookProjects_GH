{
 "cells": [
  {
   "cell_type": "code",
   "execution_count": 16,
   "metadata": {},
   "outputs": [
    {
     "name": "stdout",
     "output_type": "stream",
     "text": [
      "Error: [0. 0. 0. 0. 0. 0. 0. 0. 0. 0.]\n",
      "Pesos: [[1.27718022 6.10159941 1.43906766]]\n",
      "Polarizacion: [1.85560559]\n"
     ]
    }
   ],
   "source": [
    "import numpy as np\n",
    "escalon = lambda x: 0 if x < 0 else 1\n",
    "p=np.array([[1,5,1],\n",
    "            [2,6,2],\n",
    "            [3,7,6],\n",
    "            [4,8,3],\n",
    "            [5,2,2],\n",
    "            [6,5,7],\n",
    "            [7,6,3],\n",
    "            [8,3,3],\n",
    "            [9,7,7],\n",
    "            [10,2,2],\n",
    "            [-1,-5,1],\n",
    "            [-2,-6,2],\n",
    "            [-3,-7,6],\n",
    "            [-4,-8,3],\n",
    "            [-5,-2,2],\n",
    "            [-6,-5,7],\n",
    "            [-7,-6,3],\n",
    "            [-8,-3,3],\n",
    "            [-9,-7,7],\n",
    "            [-10,-2,2]])\n",
    "p=p.T\n",
    "\n",
    "tpar=[1,1,1,1,1,1,1,1,1,1,0,0,0,0,0,0,0,0,0,0]\n",
    "t=tpar\n",
    "w=2*np.random.rand(1,3)-1\n",
    "b=2*np.random.rand(1)-1\n",
    "e=np.zeros(10)\n",
    "for epocas in range(1500):\n",
    "    for q in range(len(p)):    \n",
    "        e[q]=t[q]-escalon(np.dot(w,p[:,q])+b)\n",
    "        w=w+(e[q]*(p[:,q]).T)\n",
    "        b=b+e[q]\n",
    "print(\"Error:\",e)\n",
    "print(\"Pesos:\",w)\n",
    "print(\"Polarizacion:\",b)"
   ]
  }
 ],
 "metadata": {
  "kernelspec": {
   "display_name": "Python 3 (ipykernel)",
   "language": "python",
   "name": "python3"
  },
  "language_info": {
   "codemirror_mode": {
    "name": "ipython",
    "version": 3
   },
   "file_extension": ".py",
   "mimetype": "text/x-python",
   "name": "python",
   "nbconvert_exporter": "python",
   "pygments_lexer": "ipython3",
   "version": "3.11.3"
  }
 },
 "nbformat": 4,
 "nbformat_minor": 2
}
