{
 "cells": [
  {
   "cell_type": "markdown",
   "id": "375f2d86",
   "metadata": {},
   "source": [
    "# Clustering con el Método K-Means"
   ]
  },
  {
   "cell_type": "code",
   "execution_count": 2,
   "id": "a66c0094",
   "metadata": {},
   "outputs": [],
   "source": [
    "from sklearn.datasets import make_blobs\n",
    "import matplotlib.pyplot as plt # creacion de graficos\n",
    "import numpy as np # utilizado para hacer calculos cientificos\n",
    "import pandas as pd # utilizado para el analisis de datos\n",
    "from scipy.spatial import distance\n",
    "from sklearn.cluster import KMeans"
   ]
  },
  {
   "cell_type": "code",
   "execution_count": 3,
   "id": "7884cd2c",
   "metadata": {},
   "outputs": [],
   "source": [
    "# Importamos los datos\n",
    "gd = pd.read_csv('Global_Data_Preprocesado.csv', engine = 'python')"
   ]
  },
  {
   "cell_type": "code",
   "execution_count": 4,
   "id": "0782965c",
   "metadata": {},
   "outputs": [],
   "source": [
    "# Mapeo de valores\n",
    "region_mapping = {\n",
    "    'EMRO': 1,\n",
    "    'EURO': 2,\n",
    "    'AFRO': 3,\n",
    "    'WPRO': 4,\n",
    "    'AMRO': 5,\n",
    "    'SEARO': 6,\n",
    "    'Other': 7\n",
    "}\n",
    "\n",
    "# Aplicar el mapeo a la columna 'WHO_region'\n",
    "gd['WHO_region'] = gd['WHO_region'].map(region_mapping)"
   ]
  },
  {
   "cell_type": "code",
   "execution_count": 5,
   "id": "ebb31223",
   "metadata": {},
   "outputs": [
    {
     "name": "stdout",
     "output_type": "stream",
     "text": [
      "<class 'pandas.core.frame.DataFrame'>\n",
      "RangeIndex: 333459 entries, 0 to 333458\n",
      "Data columns (total 5 columns):\n",
      " #   Column             Non-Null Count   Dtype\n",
      "---  ------             --------------   -----\n",
      " 0   WHO_region         333459 non-null  int64\n",
      " 1   New_cases          333459 non-null  int64\n",
      " 2   Cumulative_cases   333459 non-null  int64\n",
      " 3   New_deaths         333459 non-null  int64\n",
      " 4   Cumulative_deaths  333459 non-null  int64\n",
      "dtypes: int64(5)\n",
      "memory usage: 12.7 MB\n"
     ]
    }
   ],
   "source": [
    "gd.info()"
   ]
  },
  {
   "cell_type": "code",
   "execution_count": 6,
   "id": "329c7afd",
   "metadata": {},
   "outputs": [],
   "source": [
    "gd_variables = gd.copy() # guardar informacion en un objeto llamado gd_variables"
   ]
  },
  {
   "cell_type": "code",
   "execution_count": 7,
   "id": "a1201f26",
   "metadata": {},
   "outputs": [
    {
     "data": {
      "text/html": [
       "<div>\n",
       "<style scoped>\n",
       "    .dataframe tbody tr th:only-of-type {\n",
       "        vertical-align: middle;\n",
       "    }\n",
       "\n",
       "    .dataframe tbody tr th {\n",
       "        vertical-align: top;\n",
       "    }\n",
       "\n",
       "    .dataframe thead th {\n",
       "        text-align: right;\n",
       "    }\n",
       "</style>\n",
       "<table border=\"1\" class=\"dataframe\">\n",
       "  <thead>\n",
       "    <tr style=\"text-align: right;\">\n",
       "      <th></th>\n",
       "      <th>WHO_region</th>\n",
       "      <th>New_cases</th>\n",
       "      <th>Cumulative_cases</th>\n",
       "      <th>New_deaths</th>\n",
       "      <th>Cumulative_deaths</th>\n",
       "    </tr>\n",
       "  </thead>\n",
       "  <tbody>\n",
       "    <tr>\n",
       "      <th>count</th>\n",
       "      <td>333459.000000</td>\n",
       "      <td>3.334590e+05</td>\n",
       "      <td>3.334590e+05</td>\n",
       "      <td>333459.000000</td>\n",
       "      <td>3.334590e+05</td>\n",
       "    </tr>\n",
       "    <tr>\n",
       "      <th>mean</th>\n",
       "      <td>3.329114</td>\n",
       "      <td>2.314590e+03</td>\n",
       "      <td>1.527104e+06</td>\n",
       "      <td>20.926636</td>\n",
       "      <td>1.840111e+04</td>\n",
       "    </tr>\n",
       "    <tr>\n",
       "      <th>std</th>\n",
       "      <td>1.450055</td>\n",
       "      <td>3.860689e+04</td>\n",
       "      <td>6.913283e+06</td>\n",
       "      <td>146.903109</td>\n",
       "      <td>7.671683e+04</td>\n",
       "    </tr>\n",
       "    <tr>\n",
       "      <th>min</th>\n",
       "      <td>1.000000</td>\n",
       "      <td>-6.507900e+04</td>\n",
       "      <td>0.000000e+00</td>\n",
       "      <td>-3520.000000</td>\n",
       "      <td>0.000000e+00</td>\n",
       "    </tr>\n",
       "    <tr>\n",
       "      <th>25%</th>\n",
       "      <td>2.000000</td>\n",
       "      <td>0.000000e+00</td>\n",
       "      <td>2.725000e+03</td>\n",
       "      <td>0.000000</td>\n",
       "      <td>2.100000e+01</td>\n",
       "    </tr>\n",
       "    <tr>\n",
       "      <th>50%</th>\n",
       "      <td>3.000000</td>\n",
       "      <td>0.000000e+00</td>\n",
       "      <td>3.782000e+04</td>\n",
       "      <td>0.000000</td>\n",
       "      <td>4.100000e+02</td>\n",
       "    </tr>\n",
       "    <tr>\n",
       "      <th>75%</th>\n",
       "      <td>5.000000</td>\n",
       "      <td>1.440000e+02</td>\n",
       "      <td>4.451140e+05</td>\n",
       "      <td>1.000000</td>\n",
       "      <td>5.912000e+03</td>\n",
       "    </tr>\n",
       "    <tr>\n",
       "      <th>max</th>\n",
       "      <td>7.000000</td>\n",
       "      <td>6.966046e+06</td>\n",
       "      <td>1.034368e+08</td>\n",
       "      <td>11447.000000</td>\n",
       "      <td>1.138309e+06</td>\n",
       "    </tr>\n",
       "  </tbody>\n",
       "</table>\n",
       "</div>"
      ],
      "text/plain": [
       "          WHO_region     New_cases  Cumulative_cases     New_deaths  \\\n",
       "count  333459.000000  3.334590e+05      3.334590e+05  333459.000000   \n",
       "mean        3.329114  2.314590e+03      1.527104e+06      20.926636   \n",
       "std         1.450055  3.860689e+04      6.913283e+06     146.903109   \n",
       "min         1.000000 -6.507900e+04      0.000000e+00   -3520.000000   \n",
       "25%         2.000000  0.000000e+00      2.725000e+03       0.000000   \n",
       "50%         3.000000  0.000000e+00      3.782000e+04       0.000000   \n",
       "75%         5.000000  1.440000e+02      4.451140e+05       1.000000   \n",
       "max         7.000000  6.966046e+06      1.034368e+08   11447.000000   \n",
       "\n",
       "       Cumulative_deaths  \n",
       "count       3.334590e+05  \n",
       "mean        1.840111e+04  \n",
       "std         7.671683e+04  \n",
       "min         0.000000e+00  \n",
       "25%         2.100000e+01  \n",
       "50%         4.100000e+02  \n",
       "75%         5.912000e+03  \n",
       "max         1.138309e+06  "
      ]
     },
     "execution_count": 7,
     "metadata": {},
     "output_type": "execute_result"
    }
   ],
   "source": [
    "gd_variables.describe()\n",
    "# ver estadisticos del objeto gd_variables\n",
    "# valores minimo, maximo, priomedio, desv estandar y los cuartiles de cada columna"
   ]
  },
  {
   "cell_type": "markdown",
   "id": "17cd9557",
   "metadata": {},
   "source": [
    "### Normalizamos los valores"
   ]
  },
  {
   "cell_type": "markdown",
   "id": "b87445e5",
   "metadata": {},
   "source": [
    "#### Los valores maximo, minimo y promedio son diferentes entre columnas"
   ]
  },
  {
   "cell_type": "code",
   "execution_count": 8,
   "id": "52ceaa72",
   "metadata": {},
   "outputs": [
    {
     "data": {
      "text/html": [
       "<div>\n",
       "<style scoped>\n",
       "    .dataframe tbody tr th:only-of-type {\n",
       "        vertical-align: middle;\n",
       "    }\n",
       "\n",
       "    .dataframe tbody tr th {\n",
       "        vertical-align: top;\n",
       "    }\n",
       "\n",
       "    .dataframe thead th {\n",
       "        text-align: right;\n",
       "    }\n",
       "</style>\n",
       "<table border=\"1\" class=\"dataframe\">\n",
       "  <thead>\n",
       "    <tr style=\"text-align: right;\">\n",
       "      <th></th>\n",
       "      <th>WHO_region</th>\n",
       "      <th>New_cases</th>\n",
       "      <th>Cumulative_cases</th>\n",
       "      <th>New_deaths</th>\n",
       "      <th>Cumulative_deaths</th>\n",
       "    </tr>\n",
       "  </thead>\n",
       "  <tbody>\n",
       "    <tr>\n",
       "      <th>0</th>\n",
       "      <td>0.000000</td>\n",
       "      <td>0.009256</td>\n",
       "      <td>0.00000</td>\n",
       "      <td>0.235184</td>\n",
       "      <td>0.000000</td>\n",
       "    </tr>\n",
       "    <tr>\n",
       "      <th>1</th>\n",
       "      <td>0.000000</td>\n",
       "      <td>0.009256</td>\n",
       "      <td>0.00000</td>\n",
       "      <td>0.235184</td>\n",
       "      <td>0.000000</td>\n",
       "    </tr>\n",
       "    <tr>\n",
       "      <th>2</th>\n",
       "      <td>0.000000</td>\n",
       "      <td>0.009256</td>\n",
       "      <td>0.00000</td>\n",
       "      <td>0.235184</td>\n",
       "      <td>0.000000</td>\n",
       "    </tr>\n",
       "    <tr>\n",
       "      <th>3</th>\n",
       "      <td>0.000000</td>\n",
       "      <td>0.009256</td>\n",
       "      <td>0.00000</td>\n",
       "      <td>0.235184</td>\n",
       "      <td>0.000000</td>\n",
       "    </tr>\n",
       "    <tr>\n",
       "      <th>4</th>\n",
       "      <td>0.000000</td>\n",
       "      <td>0.009256</td>\n",
       "      <td>0.00000</td>\n",
       "      <td>0.235184</td>\n",
       "      <td>0.000000</td>\n",
       "    </tr>\n",
       "    <tr>\n",
       "      <th>...</th>\n",
       "      <td>...</td>\n",
       "      <td>...</td>\n",
       "      <td>...</td>\n",
       "      <td>...</td>\n",
       "      <td>...</td>\n",
       "    </tr>\n",
       "    <tr>\n",
       "      <th>333454</th>\n",
       "      <td>0.333333</td>\n",
       "      <td>0.009256</td>\n",
       "      <td>0.00257</td>\n",
       "      <td>0.235184</td>\n",
       "      <td>0.005028</td>\n",
       "    </tr>\n",
       "    <tr>\n",
       "      <th>333455</th>\n",
       "      <td>0.333333</td>\n",
       "      <td>0.009256</td>\n",
       "      <td>0.00257</td>\n",
       "      <td>0.235184</td>\n",
       "      <td>0.005028</td>\n",
       "    </tr>\n",
       "    <tr>\n",
       "      <th>333456</th>\n",
       "      <td>0.333333</td>\n",
       "      <td>0.009256</td>\n",
       "      <td>0.00257</td>\n",
       "      <td>0.235184</td>\n",
       "      <td>0.005028</td>\n",
       "    </tr>\n",
       "    <tr>\n",
       "      <th>333457</th>\n",
       "      <td>0.333333</td>\n",
       "      <td>0.009256</td>\n",
       "      <td>0.00257</td>\n",
       "      <td>0.235184</td>\n",
       "      <td>0.005028</td>\n",
       "    </tr>\n",
       "    <tr>\n",
       "      <th>333458</th>\n",
       "      <td>0.333333</td>\n",
       "      <td>0.009256</td>\n",
       "      <td>0.00257</td>\n",
       "      <td>0.235184</td>\n",
       "      <td>0.005028</td>\n",
       "    </tr>\n",
       "  </tbody>\n",
       "</table>\n",
       "<p>333459 rows × 5 columns</p>\n",
       "</div>"
      ],
      "text/plain": [
       "        WHO_region  New_cases  Cumulative_cases  New_deaths  Cumulative_deaths\n",
       "0         0.000000   0.009256           0.00000    0.235184           0.000000\n",
       "1         0.000000   0.009256           0.00000    0.235184           0.000000\n",
       "2         0.000000   0.009256           0.00000    0.235184           0.000000\n",
       "3         0.000000   0.009256           0.00000    0.235184           0.000000\n",
       "4         0.000000   0.009256           0.00000    0.235184           0.000000\n",
       "...            ...        ...               ...         ...                ...\n",
       "333454    0.333333   0.009256           0.00257    0.235184           0.005028\n",
       "333455    0.333333   0.009256           0.00257    0.235184           0.005028\n",
       "333456    0.333333   0.009256           0.00257    0.235184           0.005028\n",
       "333457    0.333333   0.009256           0.00257    0.235184           0.005028\n",
       "333458    0.333333   0.009256           0.00257    0.235184           0.005028\n",
       "\n",
       "[333459 rows x 5 columns]"
      ]
     },
     "execution_count": 8,
     "metadata": {},
     "output_type": "execute_result"
    }
   ],
   "source": [
    "gd_norm = (gd_variables-gd_variables.min()) / (gd_variables.max()-gd_variables.min())\n",
    "# Restar a cada celda el valor minimo que se encuentra en su columna y dividirlo entra la resta del maximo menos el minimo\n",
    "# Se obtiene un valor minimo = 0 y un maximo igual a 1\n",
    "gd_norm"
   ]
  },
  {
   "cell_type": "code",
   "execution_count": 9,
   "id": "c402d47f",
   "metadata": {},
   "outputs": [
    {
     "data": {
      "text/html": [
       "<div>\n",
       "<style scoped>\n",
       "    .dataframe tbody tr th:only-of-type {\n",
       "        vertical-align: middle;\n",
       "    }\n",
       "\n",
       "    .dataframe tbody tr th {\n",
       "        vertical-align: top;\n",
       "    }\n",
       "\n",
       "    .dataframe thead th {\n",
       "        text-align: right;\n",
       "    }\n",
       "</style>\n",
       "<table border=\"1\" class=\"dataframe\">\n",
       "  <thead>\n",
       "    <tr style=\"text-align: right;\">\n",
       "      <th></th>\n",
       "      <th>WHO_region</th>\n",
       "      <th>New_cases</th>\n",
       "      <th>Cumulative_cases</th>\n",
       "      <th>New_deaths</th>\n",
       "      <th>Cumulative_deaths</th>\n",
       "    </tr>\n",
       "  </thead>\n",
       "  <tbody>\n",
       "    <tr>\n",
       "      <th>count</th>\n",
       "      <td>333459.000000</td>\n",
       "      <td>333459.000000</td>\n",
       "      <td>333459.000000</td>\n",
       "      <td>333459.000000</td>\n",
       "      <td>333459.000000</td>\n",
       "    </tr>\n",
       "    <tr>\n",
       "      <th>mean</th>\n",
       "      <td>0.388186</td>\n",
       "      <td>0.009585</td>\n",
       "      <td>0.014764</td>\n",
       "      <td>0.236582</td>\n",
       "      <td>0.016165</td>\n",
       "    </tr>\n",
       "    <tr>\n",
       "      <th>std</th>\n",
       "      <td>0.241676</td>\n",
       "      <td>0.005491</td>\n",
       "      <td>0.066836</td>\n",
       "      <td>0.009815</td>\n",
       "      <td>0.067395</td>\n",
       "    </tr>\n",
       "    <tr>\n",
       "      <th>min</th>\n",
       "      <td>0.000000</td>\n",
       "      <td>0.000000</td>\n",
       "      <td>0.000000</td>\n",
       "      <td>0.000000</td>\n",
       "      <td>0.000000</td>\n",
       "    </tr>\n",
       "    <tr>\n",
       "      <th>25%</th>\n",
       "      <td>0.166667</td>\n",
       "      <td>0.009256</td>\n",
       "      <td>0.000026</td>\n",
       "      <td>0.235184</td>\n",
       "      <td>0.000018</td>\n",
       "    </tr>\n",
       "    <tr>\n",
       "      <th>50%</th>\n",
       "      <td>0.333333</td>\n",
       "      <td>0.009256</td>\n",
       "      <td>0.000366</td>\n",
       "      <td>0.235184</td>\n",
       "      <td>0.000360</td>\n",
       "    </tr>\n",
       "    <tr>\n",
       "      <th>75%</th>\n",
       "      <td>0.666667</td>\n",
       "      <td>0.009276</td>\n",
       "      <td>0.004303</td>\n",
       "      <td>0.235251</td>\n",
       "      <td>0.005194</td>\n",
       "    </tr>\n",
       "    <tr>\n",
       "      <th>max</th>\n",
       "      <td>1.000000</td>\n",
       "      <td>1.000000</td>\n",
       "      <td>1.000000</td>\n",
       "      <td>1.000000</td>\n",
       "      <td>1.000000</td>\n",
       "    </tr>\n",
       "  </tbody>\n",
       "</table>\n",
       "</div>"
      ],
      "text/plain": [
       "          WHO_region      New_cases  Cumulative_cases     New_deaths  \\\n",
       "count  333459.000000  333459.000000     333459.000000  333459.000000   \n",
       "mean        0.388186       0.009585          0.014764       0.236582   \n",
       "std         0.241676       0.005491          0.066836       0.009815   \n",
       "min         0.000000       0.000000          0.000000       0.000000   \n",
       "25%         0.166667       0.009256          0.000026       0.235184   \n",
       "50%         0.333333       0.009256          0.000366       0.235184   \n",
       "75%         0.666667       0.009276          0.004303       0.235251   \n",
       "max         1.000000       1.000000          1.000000       1.000000   \n",
       "\n",
       "       Cumulative_deaths  \n",
       "count      333459.000000  \n",
       "mean            0.016165  \n",
       "std             0.067395  \n",
       "min             0.000000  \n",
       "25%             0.000018  \n",
       "50%             0.000360  \n",
       "75%             0.005194  \n",
       "max             1.000000  "
      ]
     },
     "execution_count": 9,
     "metadata": {},
     "output_type": "execute_result"
    }
   ],
   "source": [
    "gd_norm.describe()\n",
    "# minimo de 0 y maximo de 1"
   ]
  },
  {
   "cell_type": "markdown",
   "id": "622c3b43",
   "metadata": {},
   "source": [
    "## Busqueda de la cantidad optima de clusters"
   ]
  },
  {
   "cell_type": "markdown",
   "id": "b793d759",
   "metadata": {},
   "source": [
    "##### Calculando que tan similares son los individuos dentro de los clusters"
   ]
  },
  {
   "cell_type": "code",
   "execution_count": 10,
   "id": "129ab4b8",
   "metadata": {},
   "outputs": [],
   "source": [
    "wcss = []\n",
    "\n",
    "for i in range(1, 11):\n",
    "    kmeans = KMeans(n_clusters = i, max_iter = 300, n_init = 10)\n",
    "    kmeans.fit(gd_norm) #Aplico Kmeans a la base de datos\n",
    "    wcss.append(kmeans.inertia_)"
   ]
  },
  {
   "cell_type": "markdown",
   "id": "7ffcd3ac",
   "metadata": {},
   "source": [
    "##### Graficando los resultados de WCSS para formar el codo de Jambu"
   ]
  },
  {
   "cell_type": "code",
   "execution_count": 11,
   "id": "1835a104",
   "metadata": {},
   "outputs": [
    {
     "data": {
      "image/png": "[encoded data removed]",
      "text/plain": [
       "<Figure size 640x480 with 1 Axes>"
      ]
     },
     "metadata": {},
     "output_type": "display_data"
    }
   ],
   "source": [
    "plt.plot(range(1, 11), wcss)\n",
    "plt.title(\"Codo de Jambu\")\n",
    "plt.xlabel('Numero de Clusters')\n",
    "plt.ylabel('WCSS') # WCSS es un indicador de que tan similares son los individuos dentro de los Clusters\n",
    "plt.show()"
   ]
  },
  {
   "cell_type": "markdown",
   "id": "eb11ed5e",
   "metadata": {},
   "source": [
    "### Aplicando el método K-Means a la base de datos"
   ]
  },
  {
   "cell_type": "code",
   "execution_count": 12,
   "id": "ea07c249",
   "metadata": {},
   "outputs": [
    {
     "data": {
      "text/html": [
       "<style>#sk-container-id-1 {color: black;}#sk-container-id-1 pre{padding: 0;}#sk-container-id-1 div.sk-toggleable {background-color: white;}#sk-container-id-1 label.sk-toggleable__label {cursor: pointer;display: block;width: 100%;margin-bottom: 0;padding: 0.3em;box-sizing: border-box;text-align: center;}#sk-container-id-1 label.sk-toggleable__label-arrow:before {content: \"▸\";float: left;margin-right: 0.25em;color: #696969;}#sk-container-id-1 label.sk-toggleable__label-arrow:hover:before {color: black;}#sk-container-id-1 div.sk-estimator:hover label.sk-toggleable__label-arrow:before {color: black;}#sk-container-id-1 div.sk-toggleable__content {max-height: 0;max-width: 0;overflow: hidden;text-align: left;background-color: #f0f8ff;}#sk-container-id-1 div.sk-toggleable__content pre {margin: 0.2em;color: black;border-radius: 0.25em;background-color: #f0f8ff;}#sk-container-id-1 input.sk-toggleable__control:checked~div.sk-toggleable__content {max-height: 200px;max-width: 100%;overflow: auto;}#sk-container-id-1 input.sk-toggleable__control:checked~label.sk-toggleable__label-arrow:before {content: \"▾\";}#sk-container-id-1 div.sk-estimator input.sk-toggleable__control:checked~label.sk-toggleable__label {background-color: #d4ebff;}#sk-container-id-1 div.sk-label input.sk-toggleable__control:checked~label.sk-toggleable__label {background-color: #d4ebff;}#sk-container-id-1 input.sk-hidden--visually {border: 0;clip: rect(1px 1px 1px 1px);clip: rect(1px, 1px, 1px, 1px);height: 1px;margin: -1px;overflow: hidden;padding: 0;position: absolute;width: 1px;}#sk-container-id-1 div.sk-estimator {font-family: monospace;background-color: #f0f8ff;border: 1px dotted black;border-radius: 0.25em;box-sizing: border-box;margin-bottom: 0.5em;}#sk-container-id-1 div.sk-estimator:hover {background-color: #d4ebff;}#sk-container-id-1 div.sk-parallel-item::after {content: \"\";width: 100%;border-bottom: 1px solid gray;flex-grow: 1;}#sk-container-id-1 div.sk-label:hover label.sk-toggleable__label {background-color: #d4ebff;}#sk-container-id-1 div.sk-serial::before {content: \"\";position: absolute;border-left: 1px solid gray;box-sizing: border-box;top: 0;bottom: 0;left: 50%;z-index: 0;}#sk-container-id-1 div.sk-serial {display: flex;flex-direction: column;align-items: center;background-color: white;padding-right: 0.2em;padding-left: 0.2em;position: relative;}#sk-container-id-1 div.sk-item {position: relative;z-index: 1;}#sk-container-id-1 div.sk-parallel {display: flex;align-items: stretch;justify-content: center;background-color: white;position: relative;}#sk-container-id-1 div.sk-item::before, #sk-container-id-1 div.sk-parallel-item::before {content: \"\";position: absolute;border-left: 1px solid gray;box-sizing: border-box;top: 0;bottom: 0;left: 50%;z-index: -1;}#sk-container-id-1 div.sk-parallel-item {display: flex;flex-direction: column;z-index: 1;position: relative;background-color: white;}#sk-container-id-1 div.sk-parallel-item:first-child::after {align-self: flex-end;width: 50%;}#sk-container-id-1 div.sk-parallel-item:last-child::after {align-self: flex-start;width: 50%;}#sk-container-id-1 div.sk-parallel-item:only-child::after {width: 0;}#sk-container-id-1 div.sk-dashed-wrapped {border: 1px dashed gray;margin: 0 0.4em 0.5em 0.4em;box-sizing: border-box;padding-bottom: 0.4em;background-color: white;}#sk-container-id-1 div.sk-label label {font-family: monospace;font-weight: bold;display: inline-block;line-height: 1.2em;}#sk-container-id-1 div.sk-label-container {text-align: center;}#sk-container-id-1 div.sk-container {/* jupyter's `normalize.less` sets `[hidden] { display: none; }` but bootstrap.min.css set `[hidden] { display: none !important; }` so we also need the `!important` here to be able to override the default hidden behavior on the sphinx rendered scikit-learn.org. See: https://github.com/scikit-learn/scikit-learn/issues/21755 */display: inline-block !important;position: relative;}#sk-container-id-1 div.sk-text-repr-fallback {display: none;}</style><div id=\"sk-container-id-1\" class=\"sk-top-container\"><div class=\"sk-text-repr-fallback\"><pre>KMeans(n_clusters=3, n_init=10)</pre><b>In a Jupyter environment, please rerun this cell to show the HTML representation or trust the notebook. <br />On GitHub, the HTML representation is unable to render, please try loading this page with nbviewer.org.</b></div><div class=\"sk-container\" hidden><div class=\"sk-item\"><div class=\"sk-estimator sk-toggleable\"><input class=\"sk-toggleable__control sk-hidden--visually\" id=\"sk-estimator-id-1\" type=\"checkbox\" checked><label for=\"sk-estimator-id-1\" class=\"sk-toggleable__label sk-toggleable__label-arrow\">KMeans</label><div class=\"sk-toggleable__content\"><pre>KMeans(n_clusters=3, n_init=10)</pre></div></div></div></div></div>"
      ],
      "text/plain": [
       "KMeans(n_clusters=3, n_init=10)"
      ]
     },
     "execution_count": 12,
     "metadata": {},
     "output_type": "execute_result"
    }
   ],
   "source": [
    "clustering = KMeans(n_clusters = 3, max_iter = 300, n_init = 10) #Crea el modelo\n",
    "clustering.fit(gd_norm) # Aplica el modelo a la base de datos"
   ]
  },
  {
   "cell_type": "markdown",
   "id": "6a4a1fa1",
   "metadata": {},
   "source": [
    "### Agregando la clasificacion al archivo original"
   ]
  },
  {
   "cell_type": "code",
   "execution_count": 13,
   "id": "67ab0e2c",
   "metadata": {},
   "outputs": [
    {
     "data": {
      "text/html": [
       "<div>\n",
       "<style scoped>\n",
       "    .dataframe tbody tr th:only-of-type {\n",
       "        vertical-align: middle;\n",
       "    }\n",
       "\n",
       "    .dataframe tbody tr th {\n",
       "        vertical-align: top;\n",
       "    }\n",
       "\n",
       "    .dataframe thead th {\n",
       "        text-align: right;\n",
       "    }\n",
       "</style>\n",
       "<table border=\"1\" class=\"dataframe\">\n",
       "  <thead>\n",
       "    <tr style=\"text-align: right;\">\n",
       "      <th></th>\n",
       "      <th>WHO_region</th>\n",
       "      <th>New_cases</th>\n",
       "      <th>Cumulative_cases</th>\n",
       "      <th>New_deaths</th>\n",
       "      <th>Cumulative_deaths</th>\n",
       "      <th>KMeans_Clusters</th>\n",
       "    </tr>\n",
       "  </thead>\n",
       "  <tbody>\n",
       "    <tr>\n",
       "      <th>0</th>\n",
       "      <td>1</td>\n",
       "      <td>0</td>\n",
       "      <td>0</td>\n",
       "      <td>0</td>\n",
       "      <td>0</td>\n",
       "      <td>0</td>\n",
       "    </tr>\n",
       "    <tr>\n",
       "      <th>1</th>\n",
       "      <td>1</td>\n",
       "      <td>0</td>\n",
       "      <td>0</td>\n",
       "      <td>0</td>\n",
       "      <td>0</td>\n",
       "      <td>0</td>\n",
       "    </tr>\n",
       "    <tr>\n",
       "      <th>2</th>\n",
       "      <td>1</td>\n",
       "      <td>0</td>\n",
       "      <td>0</td>\n",
       "      <td>0</td>\n",
       "      <td>0</td>\n",
       "      <td>0</td>\n",
       "    </tr>\n",
       "    <tr>\n",
       "      <th>3</th>\n",
       "      <td>1</td>\n",
       "      <td>0</td>\n",
       "      <td>0</td>\n",
       "      <td>0</td>\n",
       "      <td>0</td>\n",
       "      <td>0</td>\n",
       "    </tr>\n",
       "    <tr>\n",
       "      <th>4</th>\n",
       "      <td>1</td>\n",
       "      <td>0</td>\n",
       "      <td>0</td>\n",
       "      <td>0</td>\n",
       "      <td>0</td>\n",
       "      <td>0</td>\n",
       "    </tr>\n",
       "  </tbody>\n",
       "</table>\n",
       "</div>"
      ],
      "text/plain": [
       "   WHO_region  New_cases  Cumulative_cases  New_deaths  Cumulative_deaths  \\\n",
       "0           1          0                 0           0                  0   \n",
       "1           1          0                 0           0                  0   \n",
       "2           1          0                 0           0                  0   \n",
       "3           1          0                 0           0                  0   \n",
       "4           1          0                 0           0                  0   \n",
       "\n",
       "   KMeans_Clusters  \n",
       "0                0  \n",
       "1                0  \n",
       "2                0  \n",
       "3                0  \n",
       "4                0  "
      ]
     },
     "execution_count": 13,
     "metadata": {},
     "output_type": "execute_result"
    }
   ],
   "source": [
    "gd['KMeans_Clusters'] = clustering.labels_ #Los resultados del clustering se guardan en labels_ dentro del modelo\n",
    "gd.head()"
   ]
  },
  {
   "cell_type": "markdown",
   "id": "8ad090b4",
   "metadata": {},
   "source": [
    "### Visualizando los clusters que se formaron"
   ]
  },
  {
   "cell_type": "markdown",
   "id": "d9e51817",
   "metadata": {},
   "source": [
    "##### Aplicaremos el analisis de componentes principales para darnos una idea de como se trabajan los clusters"
   ]
  },
  {
   "cell_type": "code",
   "execution_count": 14,
   "id": "28f6810a",
   "metadata": {},
   "outputs": [
    {
     "data": {
      "text/html": [
       "<div>\n",
       "<style scoped>\n",
       "    .dataframe tbody tr th:only-of-type {\n",
       "        vertical-align: middle;\n",
       "    }\n",
       "\n",
       "    .dataframe tbody tr th {\n",
       "        vertical-align: top;\n",
       "    }\n",
       "\n",
       "    .dataframe thead th {\n",
       "        text-align: right;\n",
       "    }\n",
       "</style>\n",
       "<table border=\"1\" class=\"dataframe\">\n",
       "  <thead>\n",
       "    <tr style=\"text-align: right;\">\n",
       "      <th></th>\n",
       "      <th>Componente_1</th>\n",
       "      <th>Componente_2</th>\n",
       "      <th>KMeans_Clusters</th>\n",
       "    </tr>\n",
       "  </thead>\n",
       "  <tbody>\n",
       "    <tr>\n",
       "      <th>0</th>\n",
       "      <td>-0.388665</td>\n",
       "      <td>-0.010151</td>\n",
       "      <td>0</td>\n",
       "    </tr>\n",
       "    <tr>\n",
       "      <th>1</th>\n",
       "      <td>-0.388665</td>\n",
       "      <td>-0.010151</td>\n",
       "      <td>0</td>\n",
       "    </tr>\n",
       "    <tr>\n",
       "      <th>2</th>\n",
       "      <td>-0.388665</td>\n",
       "      <td>-0.010151</td>\n",
       "      <td>0</td>\n",
       "    </tr>\n",
       "    <tr>\n",
       "      <th>3</th>\n",
       "      <td>-0.388665</td>\n",
       "      <td>-0.010151</td>\n",
       "      <td>0</td>\n",
       "    </tr>\n",
       "    <tr>\n",
       "      <th>4</th>\n",
       "      <td>-0.388665</td>\n",
       "      <td>-0.010151</td>\n",
       "      <td>0</td>\n",
       "    </tr>\n",
       "    <tr>\n",
       "      <th>...</th>\n",
       "      <td>...</td>\n",
       "      <td>...</td>\n",
       "      <td>...</td>\n",
       "    </tr>\n",
       "    <tr>\n",
       "      <th>333454</th>\n",
       "      <td>-0.055320</td>\n",
       "      <td>-0.014867</td>\n",
       "      <td>2</td>\n",
       "    </tr>\n",
       "    <tr>\n",
       "      <th>333455</th>\n",
       "      <td>-0.055320</td>\n",
       "      <td>-0.014867</td>\n",
       "      <td>2</td>\n",
       "    </tr>\n",
       "    <tr>\n",
       "      <th>333456</th>\n",
       "      <td>-0.055320</td>\n",
       "      <td>-0.014867</td>\n",
       "      <td>2</td>\n",
       "    </tr>\n",
       "    <tr>\n",
       "      <th>333457</th>\n",
       "      <td>-0.055320</td>\n",
       "      <td>-0.014867</td>\n",
       "      <td>2</td>\n",
       "    </tr>\n",
       "    <tr>\n",
       "      <th>333458</th>\n",
       "      <td>-0.055320</td>\n",
       "      <td>-0.014867</td>\n",
       "      <td>2</td>\n",
       "    </tr>\n",
       "  </tbody>\n",
       "</table>\n",
       "<p>333459 rows × 3 columns</p>\n",
       "</div>"
      ],
      "text/plain": [
       "        Componente_1  Componente_2  KMeans_Clusters\n",
       "0          -0.388665     -0.010151                0\n",
       "1          -0.388665     -0.010151                0\n",
       "2          -0.388665     -0.010151                0\n",
       "3          -0.388665     -0.010151                0\n",
       "4          -0.388665     -0.010151                0\n",
       "...              ...           ...              ...\n",
       "333454     -0.055320     -0.014867                2\n",
       "333455     -0.055320     -0.014867                2\n",
       "333456     -0.055320     -0.014867                2\n",
       "333457     -0.055320     -0.014867                2\n",
       "333458     -0.055320     -0.014867                2\n",
       "\n",
       "[333459 rows x 3 columns]"
      ]
     },
     "execution_count": 14,
     "metadata": {},
     "output_type": "execute_result"
    }
   ],
   "source": [
    "from sklearn.decomposition import PCA\n",
    "pca = PCA(n_components=2)\n",
    "pca_gd = pca.fit_transform(gd_norm)\n",
    "pca_gd_df = pd.DataFrame(data = pca_gd, columns = ['Componente_1', 'Componente_2'])\n",
    "pca_nombres_gd = pd.concat([pca_gd_df, gd[['KMeans_Clusters']]], axis = 1)\n",
    "\n",
    "pca_nombres_gd"
   ]
  },
  {
   "cell_type": "code",
   "execution_count": 100,
   "id": "adbbe4df",
   "metadata": {},
   "outputs": [
    {
     "data": {
      "image/png": "[encoded data removed]",
      "text/plain": [
       "<Figure size 600x600 with 1 Axes>"
      ]
     },
     "metadata": {},
     "output_type": "display_data"
    }
   ],
   "source": [
    "fig = plt.figure(figsize = (6,6))\n",
    "\n",
    "ax = fig.add_subplot(1,1,1)\n",
    "ax.set_xlabel('Componente_1', fontsize = 15)\n",
    "ax.set_ylabel('Componente_2', fontsize = 15)\n",
    "ax.set_title('Componentes Principales', fontsize = 20)\n",
    "\n",
    "color_theme = np.array([\"blue\", \"green\", \"red\"])\n",
    "ax.scatter(x = pca_nombres_gd.Componente_1, y = pca_nombres_gd.Componente_2,\n",
    "              c = color_theme[pca_nombres_gd.KMeans_Clusters], s = 50)\n",
    "\n",
    "plt.grid(True)  # Mostrar la cuadrícula\n",
    "plt.show()\n"
   ]
  },
  {
   "cell_type": "markdown",
   "id": "479a39ea",
   "metadata": {},
   "source": [
    "### Aplicando cluster con 2 columnas relevantes"
   ]
  },
  {
   "cell_type": "code",
   "execution_count": 15,
   "id": "7972d2dc",
   "metadata": {},
   "outputs": [
    {
     "data": {
      "image/png": "[encoded data removed]",
      "text/plain": [
       "<Figure size 640x480 with 1 Axes>"
      ]
     },
     "metadata": {},
     "output_type": "display_data"
    }
   ],
   "source": [
    "# Seleccionar las columnas relevantes\n",
    "data = gd_norm[['WHO_region', 'New_deaths']]\n",
    "\n",
    "# Aplicar k-medios\n",
    "kmeans = KMeans(n_clusters=7, random_state=42, n_init=10)  # Puedes ajustar el número de clusters según tus necesidades\n",
    "kmeans.fit(data)\n",
    "\n",
    "# Agregar las etiquetas de los clusters al DataFrame original\n",
    "gd_norm['Cluster'] = kmeans.labels_\n",
    "\n",
    "# Visualizar los resultados\n",
    "plt.scatter(gd_norm['WHO_region'], gd_norm['New_deaths'], c=gd_norm['Cluster'], cmap='viridis')\n",
    "plt.xlabel('WHO_region')\n",
    "plt.ylabel('New_deaths')\n",
    "plt.title('Clustering con k-medios')\n",
    "plt.grid(True)  # Mostrar la cuadrícula\n",
    "plt.show()"
   ]
  },
  {
   "cell_type": "code",
   "execution_count": null,
   "id": "f7dcf747-f2b6-460f-88b8-00a7ff8b762a",
   "metadata": {},
   "outputs": [],
   "source": []
  }
 ],
 "metadata": {
  "kernelspec": {
   "display_name": "Python 3 (ipykernel)",
   "language": "python",
   "name": "python3"
  },
  "language_info": {
   "codemirror_mode": {
    "name": "ipython",
    "version": 3
   },
   "file_extension": ".py",
   "mimetype": "text/x-python",
   "name": "python",
   "nbconvert_exporter": "python",
   "pygments_lexer": "ipython3",
   "version": "3.9.18"
  }
 },
 "nbformat": 4,
 "nbformat_minor": 5
}
