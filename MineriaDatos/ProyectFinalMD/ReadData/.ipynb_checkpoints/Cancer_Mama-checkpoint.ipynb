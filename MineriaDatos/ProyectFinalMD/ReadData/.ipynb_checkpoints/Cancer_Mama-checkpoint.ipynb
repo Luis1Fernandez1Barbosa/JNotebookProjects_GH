{
 "cells": [
  {
   "cell_type": "code",
   "execution_count": 2,
   "id": "af9cb1cb",
   "metadata": {},
   "outputs": [],
   "source": [
    "from sklearn.tree import DecisionTreeClassifier, export_graphviz\n",
    "from sklearn.datasets import load_breast_cancer\n",
    "\n",
    "cancer = load_breast_cancer()\n",
    "X = cancer.data\n",
    "y = cancer.target\n",
    "\n",
    "tree = DecisionTreeClassifier(max_depth = 3, random_state = 10)\n",
    "tree.fit(X,y)\n",
    "export_graphviz(tree, out_file=\"cancer.dot\",\n",
    "                class_names=[\"malignant\",\"benign\"],\n",
    "                feature_names=cancer.feature_names, filled=True)"
   ]
  }
 ],
 "metadata": {
  "kernelspec": {
   "display_name": "Python 3 (ipykernel)",
   "language": "python",
   "name": "python3"
  },
  "language_info": {
   "codemirror_mode": {
    "name": "ipython",
    "version": 3
   },
   "file_extension": ".py",
   "mimetype": "text/x-python",
   "name": "python",
   "nbconvert_exporter": "python",
   "pygments_lexer": "ipython3",
   "version": "3.11.3"
  }
 },
 "nbformat": 4,
 "nbformat_minor": 5
}
