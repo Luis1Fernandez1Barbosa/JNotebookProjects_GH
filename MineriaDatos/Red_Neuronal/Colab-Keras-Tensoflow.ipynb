{
 "cells": [
  {
   "cell_type": "code",
   "execution_count": 2,
   "id": "87ef6f49",
   "metadata": {},
   "outputs": [
    {
     "name": "stderr",
     "output_type": "stream",
     "text": [
      "DEPRECATION: vtk -PKG-VERSION has a non-standard version number. pip 24.0 will enforce this behaviour change. A possible replacement is to upgrade to a newer version of vtk or contact the author to suggest that they release a version with a conforming version number. Discussion can be found at https://github.com/pypa/pip/issues/12063\n",
      "ERROR: Could not install packages due to an OSError: [WinError 5] Access is denied: 'C:\\\\Users\\\\LAFB2000\\\\.conda\\\\envs\\\\LAFB2000\\\\Lib\\\\site-packages\\\\numpy.libs\\\\libopenblas64__v0.3.23-293-gc2f4bdbb-gcc_10_3_0-2bde3a66a51006b2b53eb373ff767a3f.dll'\n",
      "Consider using the `--user` option or check the permissions.\n",
      "\n"
     ]
    }
   ],
   "source": [
    "!pip install -q keras-core\n"
   ]
  },
  {
   "cell_type": "code",
   "execution_count": 1,
   "id": "829cbf47",
   "metadata": {},
   "outputs": [
    {
     "ename": "ModuleNotFoundError",
     "evalue": "No module named 'tensorflow'",
     "output_type": "error",
     "traceback": [
      "\u001b[0;31m---------------------------------------------------------------------------\u001b[0m",
      "\u001b[0;31mModuleNotFoundError\u001b[0m                       Traceback (most recent call last)",
      "Cell \u001b[0;32mIn[1], line 1\u001b[0m\n\u001b[0;32m----> 1\u001b[0m \u001b[38;5;28;01mimport\u001b[39;00m \u001b[38;5;21;01mtensorflow\u001b[39;00m \u001b[38;5;28;01mas\u001b[39;00m \u001b[38;5;21;01mtf\u001b[39;00m\n\u001b[1;32m      2\u001b[0m \u001b[38;5;28;01mfrom\u001b[39;00m \u001b[38;5;21;01mtensorflow\u001b[39;00m \u001b[38;5;28;01mimport\u001b[39;00m keras\n\u001b[1;32m      3\u001b[0m \u001b[38;5;28;01mfrom\u001b[39;00m \u001b[38;5;21;01mtensorflow\u001b[39;00m\u001b[38;5;21;01m.\u001b[39;00m\u001b[38;5;21;01mkeras\u001b[39;00m \u001b[38;5;28;01mimport\u001b[39;00m layers\n",
      "\u001b[0;31mModuleNotFoundError\u001b[0m: No module named 'tensorflow'"
     ]
    }
   ],
   "source": [
    "import tensorflow as tf\n",
    "from tensorflow import keras\n",
    "from tensorflow.keras import layers\n",
    "from sklearn.metrics import confusion_matrix\n",
    "from keras.models import Sequential\n",
    "import pandas as pd\n"
   ]
  },
  {
   "cell_type": "code",
   "execution_count": null,
   "id": "2df65c1b",
   "metadata": {},
   "outputs": [],
   "source": [
    "from google.colab import drive\n",
    "drive.mount('/content/drive/')\n",
    "%cd /content/drive/MyDrive/Colab_Notebooks"
   ]
  },
  {
   "cell_type": "code",
   "execution_count": null,
   "id": "e9c7df5c",
   "metadata": {},
   "outputs": [],
   "source": [
    "tf.compat.v1.logging.set_verbosity(tf.compat.v1.logging.ERROR)\n",
    "conjunto_datos=pd.read_csv('xor_entrada.txt',header=None)\n",
    "datos_entrada=conjunto_datos.iloc[:,0:2].values\n",
    "datos_salida=conjunto_datos.iloc[:,2:3].values\n",
    "modelo=Sequential()\n",
    "modelo.add(layers.Dense(3,input_dim=2,activation='relu'))\n",
    "modelo.add(layers.Dense(1,activation='sigmoid'))\n",
    "modelo.compile(loss='mean_squared_error',optimizer='adam',metrics=['binary_accuracy'])\n",
    "modelo.fit(datos_entrada,datos_salida,epochs=800)\n",
    "pesos,bias=modelo.layers[0].get_weights()\n",
    "print(\"Pesos\")\n",
    "print(pesos)\n",
    "print(\"Bias\")\n",
    "print(bias)\n",
    "datos=modelo.evaluate(datos_entrada,datos_salida)\n",
    "print(\"\\n%s: %.2f%%\" %(modelo.metrics[1],datos[1]*100))\n",
    "y_pred=modelo.predict(datos_entrada).round()\n",
    "print(y_pred)\n",
    "y_pred=(y_pred>=.5)\n",
    "cm=confusion_matrix(datos_salida,y_pred)\n",
    "print(\"Matriz de Confunción\")\n",
    "print(cm)"
   ]
  }
 ],
 "metadata": {
  "kernelspec": {
   "display_name": "Python 3 (ipykernel)",
   "language": "python",
   "name": "python3"
  },
  "language_info": {
   "codemirror_mode": {
    "name": "ipython",
    "version": 3
   },
   "file_extension": ".py",
   "mimetype": "text/x-python",
   "name": "python",
   "nbconvert_exporter": "python",
   "pygments_lexer": "ipython3",
   "version": "3.11.5"
  }
 },
 "nbformat": 4,
 "nbformat_minor": 5
}
