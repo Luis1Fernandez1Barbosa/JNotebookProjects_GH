{
 "cells": [
  {
   "cell_type": "code",
   "execution_count": 2,
   "id": "5a6a2299",
   "metadata": {},
   "outputs": [],
   "source": [
    "import numpy as np\n",
    "from sklearn.datasets import load_iris\n",
    "from sklearn.linear_model import Perceptron"
   ]
  },
  {
   "cell_type": "code",
   "execution_count": 18,
   "id": "64ea44fe",
   "metadata": {},
   "outputs": [
    {
     "name": "stdout",
     "output_type": "stream",
     "text": [
      "[0 1 1 1]\n",
      "[0 1]\n",
      "[[2. 2.]]\n",
      "[-1.]\n"
     ]
    }
   ],
   "source": [
    "X=[[0,0],[0,1],[1,0],[1,1]]\n",
    "y=[0,1,1,1]\n",
    "per_clf=Perceptron(random_state=12)\n",
    "per_clf.fit(X,y)\n",
    "X_new=[[0,0],[0,1],[1,0],[1,1]]\n",
    "y_pred=per_clf.predict(X_new)\n",
    "print(y_pred)\n",
    "print(per_clf.coef_)\n",
    "print(per_clf.intercept_)\n"
   ]
  }
 ],
 "metadata": {
  "kernelspec": {
   "display_name": "Python 3 (ipykernel)",
   "language": "python",
   "name": "python3"
  },
  "language_info": {
   "codemirror_mode": {
    "name": "ipython",
    "version": 3
   },
   "file_extension": ".py",
   "mimetype": "text/x-python",
   "name": "python",
   "nbconvert_exporter": "python",
   "pygments_lexer": "ipython3",
   "version": "3.11.3"
  }
 },
 "nbformat": 4,
 "nbformat_minor": 5
}
