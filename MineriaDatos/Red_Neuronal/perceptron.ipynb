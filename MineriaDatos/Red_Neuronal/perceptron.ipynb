{
 "cells": [
  {
   "cell_type": "code",
   "execution_count": 1,
   "metadata": {},
   "outputs": [],
   "source": [
    "def salida(k,pesos,b):\n",
    "    n=b\n",
    "    for i in range(len(k)):\n",
    "        n=n+(k[i]*pesos[i])\n",
    "    if(n>=0):\n",
    "        return 1\n",
    "    else:\n",
    "        return 0\n",
    "def entrenar_perceptron(datos_ent,pesos,b,lamda):\n",
    "    errores=True\n",
    "    epocas=0\n",
    "    while errores:\n",
    "        epocas=epocas+1\n",
    "        print(\"Epoca:\",epocas)\n",
    "        errores=False\n",
    "        for k,y in datos_ent.items():\n",
    "            n=salida(k,pesos,b)\n",
    "            if(n!=y):\n",
    "                print(\"x1:\",k[0],\"x2:\",k[1])\n",
    "                errores=True\n",
    "                e=(y-n)\n",
    "                delta_b=(lamda*e)\n",
    "                b=b+delta_b\n",
    "                print(\"b:\",b,\"e:\",e,\"delta_b:\",delta_b)\n",
    "                for i in range(len(k)):\n",
    "                    delta_w=lamda*e*k[i]\n",
    "                    pesos[i]=pesos[i]+delta_w\n",
    "                    print(\"Peso\",i,pesos[i])\n",
    "                \n",
    "    return pesos,b\n",
    "def clasificar(entrada,pesos,b):\n",
    "    return salida(entrada,pesos,b)"
   ]
  },
  {
   "cell_type": "code",
   "execution_count": 4,
   "metadata": {},
   "outputs": [
    {
     "name": "stdout",
     "output_type": "stream",
     "text": [
      "Epoca: 1\n",
      "x1: 1 x2: 0\n",
      "b: 0.0 e: 1 delta_b: 0.5\n",
      "Peso 0 0.7\n",
      "Peso 1 0.6\n",
      "Epoca: 2\n",
      "x1: 0 x2: 0\n",
      "b: -0.5 e: -1 delta_b: -0.5\n",
      "Peso 0 0.7\n",
      "Peso 1 0.6\n",
      "Epoca: 3\n",
      "finales [0.7, 0.6]\n",
      "final -0.5\n",
      "1\n"
     ]
    }
   ],
   "source": [
    "if __name__==\"__main__\":\n",
    "    datos_ent={(0,0):0,(0,1):1,(1,0):1,(1,1):1}\n",
    "    #datos_ent={(0,0):0,(0,1):0,(1,0):0,(1,1):1}\n",
    "    pesos=[.2,.6]\n",
    "    b=-.5\n",
    "    lamda=.5\n",
    "    pesos,b=entrenar_perceptron(datos_ent,pesos,b,lamda)\n",
    "    print(\"finales\",pesos)\n",
    "    print(\"final\",b)\n",
    "    print(clasificar((1,1),pesos,b))"
   ]
  }
 ],
 "metadata": {
  "kernelspec": {
   "display_name": "Python 3 (ipykernel)",
   "language": "python",
   "name": "python3"
  },
  "language_info": {
   "codemirror_mode": {
    "name": "ipython",
    "version": 3
   },
   "file_extension": ".py",
   "mimetype": "text/x-python",
   "name": "python",
   "nbconvert_exporter": "python",
   "pygments_lexer": "ipython3",
   "version": "3.9.18"
  }
 },
 "nbformat": 4,
 "nbformat_minor": 4
}
