{
 "cells": [
  {
   "cell_type": "code",
   "execution_count": 1,
   "id": "00345ee1",
   "metadata": {},
   "outputs": [
    {
     "name": "stdout",
     "output_type": "stream",
     "text": [
      "Hola\n"
     ]
    }
   ],
   "source": [
    "print('Hola')"
   ]
  },
  {
   "cell_type": "markdown",
   "id": "2ff19c55",
   "metadata": {},
   "source": [
    "# Practica 1\n",
    "## Titulo 1\n",
    "### Titulo 2\n",
    "Uso de Jupyter\n",
    "- A\n",
    "- B\n",
    "\n",
    "[Imagen](https://www.ingenieros.es/files/Noticias1/spin_web.jpg)"
   ]
  },
  {
   "cell_type": "code",
   "execution_count": 3,
   "id": "62949590",
   "metadata": {},
   "outputs": [
    {
     "name": "stdout",
     "output_type": "stream",
     "text": [
      "0\n",
      "1\n",
      "2\n",
      "3\n",
      "4\n"
     ]
    }
   ],
   "source": [
    "for i in range(5):\n",
    "    print(i)"
   ]
  },
  {
   "cell_type": "code",
   "execution_count": 4,
   "id": "2d8116c8",
   "metadata": {},
   "outputs": [
    {
     "name": "stdout",
     "output_type": "stream",
     "text": [
      "[1, 4, 9]\n"
     ]
    }
   ],
   "source": [
    "my_list = [1, 2, 3]\n",
    "foo = list(map(lambda x: x*x, my_list))\n",
    "# Insertar línea de código aquí.\n",
    "print(foo)"
   ]
  },
  {
   "cell_type": "code",
   "execution_count": 5,
   "id": "d973b89c",
   "metadata": {},
   "outputs": [
    {
     "name": "stdout",
     "output_type": "stream",
     "text": [
      "(1, 4, 27)\n"
     ]
    }
   ],
   "source": [
    "my_list = [1, 2, 3]\n",
    "foo = tuple(map(lambda x: x**x, my_list))\n",
    "# Insertar línea de código aquí.\n",
    "print(foo)"
   ]
  },
  {
   "cell_type": "code",
   "execution_count": 6,
   "id": "ecc4be10",
   "metadata": {},
   "outputs": [
    {
     "name": "stdout",
     "output_type": "stream",
     "text": [
      "[1, 4, 27]\n"
     ]
    }
   ],
   "source": [
    "my_list = [1, 2, 3]\n",
    "foo = list(map(lambda x: x**x, my_list))\n",
    "# Insertar línea de código aquí.\n",
    "print(foo)"
   ]
  },
  {
   "cell_type": "code",
   "execution_count": 7,
   "id": "75af0025",
   "metadata": {},
   "outputs": [
    {
     "name": "stdout",
     "output_type": "stream",
     "text": [
      "(1, 4, 9)\n"
     ]
    }
   ],
   "source": [
    "my_list = [1, 2, 3]\n",
    "foo = tuple(map(lambda x: x*x, my_list))\n",
    "# Insertar línea de código aquí.\n",
    "print(foo)"
   ]
  },
  {
   "cell_type": "code",
   "execution_count": 8,
   "id": "81184253",
   "metadata": {},
   "outputs": [
    {
     "name": "stdout",
     "output_type": "stream",
     "text": [
      "[2, 3, 4, 5, 6]\n"
     ]
    }
   ],
   "source": [
    "my_tuple = (0, 1, 2, 3, 4, 5, 6)\n",
    "foo = list(filter(lambda x: x-0 and x-1, my_tuple))\n",
    "# Insertar línea de código aquí.\n",
    "print(foo)"
   ]
  },
  {
   "cell_type": "code",
   "execution_count": 9,
   "id": "11ba2f13",
   "metadata": {},
   "outputs": [
    {
     "name": "stdout",
     "output_type": "stream",
     "text": [
      "(2, 3, 4, 5, 6)\n"
     ]
    }
   ],
   "source": [
    "my_tuple = (0, 1, 2, 3, 4, 5, 6)\n",
    "foo = tuple(filter(lambda x: x-0 and x-1, my_tuple))\n",
    "# Insertar línea de código aquí.\n",
    "print(foo)"
   ]
  },
  {
   "cell_type": "code",
   "execution_count": 10,
   "id": "b41c38ca",
   "metadata": {},
   "outputs": [
    {
     "name": "stdout",
     "output_type": "stream",
     "text": [
      "(2, 3, 4, 5, 6)\n"
     ]
    }
   ],
   "source": [
    "my_tuple = (0, 1, 2, 3, 4, 5, 6)\n",
    "foo = tuple(filter(lambda x: x>1, my_tuple))\n",
    "# Insertar línea de código aquí.\n",
    "print(foo)"
   ]
  },
  {
   "cell_type": "code",
   "execution_count": 12,
   "id": "db1b1d03",
   "metadata": {},
   "outputs": [
    {
     "name": "stdout",
     "output_type": "stream",
     "text": [
      "[]\n"
     ]
    }
   ],
   "source": [
    "my_tuple = (0, 1, 2, 3, 4, 5, 6)\n",
    "foo = list(filter(lambda x: x==0 and x==1, my_tuple))\n",
    "# Insertar línea de código aquí.\n",
    "print(foo)"
   ]
  },
  {
   "cell_type": "code",
   "execution_count": 13,
   "id": "bb62065e",
   "metadata": {},
   "outputs": [
    {
     "name": "stdout",
     "output_type": "stream",
     "text": [
      "ace"
     ]
    }
   ],
   "source": [
    "def I():\n",
    "    s = 'abcdef'\n",
    "    for c in s[::2]:\n",
    "        yield c\n",
    " \n",
    " \n",
    "for x in I():\n",
    "    print(x, end='')"
   ]
  },
  {
   "cell_type": "code",
   "execution_count": 14,
   "id": "27305a76",
   "metadata": {},
   "outputs": [
    {
     "name": "stdout",
     "output_type": "stream",
     "text": [
      "++++++"
     ]
    }
   ],
   "source": [
    "def fun(n):\n",
    "    s = '+'\n",
    "    for i in range(n):\n",
    "        s += s\n",
    "        yield s\n",
    " \n",
    " \n",
    "for x in fun(2):\n",
    "    print(x, end='');"
   ]
  },
  {
   "cell_type": "code",
   "execution_count": 15,
   "id": "4180269d",
   "metadata": {},
   "outputs": [
    {
     "name": "stdout",
     "output_type": "stream",
     "text": [
      "***\n"
     ]
    }
   ],
   "source": [
    "def o(p):\n",
    "    def q():\n",
    "        return '*' * p\n",
    "    return q\n",
    " \n",
    " \n",
    "r = o(1)\n",
    "s = o(2)\n",
    "print(r() + s())"
   ]
  },
  {
   "cell_type": "code",
   "execution_count": 16,
   "id": "f968171c",
   "metadata": {},
   "outputs": [
    {
     "name": "stdout",
     "output_type": "stream",
     "text": [
      "bytearray(b'\\x00\\x00\\x00')\n"
     ]
    }
   ],
   "source": [
    "b = bytearray(3)\n",
    "print(b)\n",
    " "
   ]
  },
  {
   "cell_type": "code",
   "execution_count": 17,
   "id": "0587d4b1",
   "metadata": {},
   "outputs": [
    {
     "name": "stdout",
     "output_type": "stream",
     "text": [
      "C:\\Users\\LAFB2000\\JupyterProjects\\Practica\\pictures\n"
     ]
    }
   ],
   "source": [
    "import os\n",
    " \n",
    "os.mkdir('pictures')\n",
    "os.chdir('pictures')\n",
    "os.mkdir('thumbnails')\n",
    "os.chdir('thumbnails')\n",
    "os.mkdir('tmp')\n",
    "os.chdir('../')\n",
    " \n",
    "print(os.getcwd())"
   ]
  },
  {
   "cell_type": "code",
   "execution_count": 28,
   "id": "265c50d0",
   "metadata": {},
   "outputs": [
    {
     "ename": "FileExistsError",
     "evalue": "[WinError 183] Cannot create a file when that file already exists: 'thumbnails'",
     "output_type": "error",
     "traceback": [
      "\u001b[1;31m---------------------------------------------------------------------------\u001b[0m",
      "\u001b[1;31mFileExistsError\u001b[0m                           Traceback (most recent call last)",
      "Cell \u001b[1;32mIn[28], line 2\u001b[0m\n\u001b[0;32m      1\u001b[0m \u001b[38;5;28;01mimport\u001b[39;00m \u001b[38;5;21;01mos\u001b[39;00m\n\u001b[1;32m----> 2\u001b[0m \u001b[43mos\u001b[49m\u001b[38;5;241;43m.\u001b[39;49m\u001b[43mmkdir\u001b[49m\u001b[43m(\u001b[49m\u001b[38;5;124;43m'\u001b[39;49m\u001b[38;5;124;43mthumbnails\u001b[39;49m\u001b[38;5;124;43m'\u001b[39;49m\u001b[43m)\u001b[49m\n\u001b[0;32m      3\u001b[0m os\u001b[38;5;241m.\u001b[39mchdir(\u001b[38;5;124m'\u001b[39m\u001b[38;5;124mthumbnails\u001b[39m\u001b[38;5;124m'\u001b[39m)\n\u001b[0;32m      5\u001b[0m sizes \u001b[38;5;241m=\u001b[39m [\u001b[38;5;124m'\u001b[39m\u001b[38;5;124msmall\u001b[39m\u001b[38;5;124m'\u001b[39m, \u001b[38;5;124m'\u001b[39m\u001b[38;5;124mmedium\u001b[39m\u001b[38;5;124m'\u001b[39m, \u001b[38;5;124m'\u001b[39m\u001b[38;5;124mlarge\u001b[39m\u001b[38;5;124m'\u001b[39m]\n",
      "\u001b[1;31mFileExistsError\u001b[0m: [WinError 183] Cannot create a file when that file already exists: 'thumbnails'"
     ]
    }
   ],
   "source": [
    "import os\n",
    "os.mkdir('thumbnails')\n",
    "os.chdir('thumbnails')\n",
    " \n",
    "sizes = ['small', 'medium', 'large']\n",
    " \n",
    "for size in sizes:\n",
    "    os.mkdir(size)\n",
    " \n",
    "print(os.listdir())"
   ]
  },
  {
   "cell_type": "code",
   "execution_count": 21,
   "id": "12edee6d",
   "metadata": {},
   "outputs": [
    {
     "name": "stdout",
     "output_type": "stream",
     "text": [
      "345 days, 0:00:00\n"
     ]
    }
   ],
   "source": [
    "from datetime import date\n",
    " \n",
    "date_1 = date(1992, 1, 16)\n",
    "date_2 = date(1991, 2, 5)\n",
    " \n",
    "print(date_1 - date_2)"
   ]
  },
  {
   "cell_type": "code",
   "execution_count": 22,
   "id": "b75f134d",
   "metadata": {},
   "outputs": [
    {
     "name": "stdout",
     "output_type": "stream",
     "text": [
      "19/November/27 11:27:22\n"
     ]
    }
   ],
   "source": [
    "from datetime import datetime\n",
    " \n",
    "datetime = datetime(2019, 11, 27, 11, 27, 22)\n",
    "print(datetime.strftime('%y/%B/%d %H:%M:%S'))"
   ]
  },
  {
   "cell_type": "code",
   "execution_count": 23,
   "id": "7f64c54b",
   "metadata": {},
   "outputs": [
    {
     "name": "stdout",
     "output_type": "stream",
     "text": [
      "Mo Tu We Th Fr Sa Su\n"
     ]
    }
   ],
   "source": [
    "import calendar\n",
    "print(calendar.weekheader(2))"
   ]
  },
  {
   "cell_type": "code",
   "execution_count": 24,
   "id": "ecad8a59",
   "metadata": {},
   "outputs": [
    {
     "ename": "TypeError",
     "evalue": "formatweekheader() missing 1 required positional argument: 'width'",
     "output_type": "error",
     "traceback": [
      "\u001b[1;31m---------------------------------------------------------------------------\u001b[0m",
      "\u001b[1;31mTypeError\u001b[0m                                 Traceback (most recent call last)",
      "Cell \u001b[1;32mIn[24], line 2\u001b[0m\n\u001b[0;32m      1\u001b[0m \u001b[38;5;28;01mimport\u001b[39;00m \u001b[38;5;21;01mcalendar\u001b[39;00m\n\u001b[1;32m----> 2\u001b[0m \u001b[38;5;28mprint\u001b[39m(\u001b[43mcalendar\u001b[49m\u001b[38;5;241;43m.\u001b[39;49m\u001b[43mweekheader\u001b[49m\u001b[43m(\u001b[49m\u001b[43m)\u001b[49m)\n",
      "\u001b[1;31mTypeError\u001b[0m: formatweekheader() missing 1 required positional argument: 'width'"
     ]
    }
   ],
   "source": [
    "import calendar\n",
    "print(calendar.weekheader())"
   ]
  },
  {
   "cell_type": "code",
   "execution_count": 25,
   "id": "ce715291",
   "metadata": {},
   "outputs": [
    {
     "name": "stdout",
     "output_type": "stream",
     "text": [
      "Mon Tue Wed Thu Fri Sat Sun\n"
     ]
    }
   ],
   "source": [
    "import calendar\n",
    "print(calendar.weekheader(3))"
   ]
  },
  {
   "cell_type": "code",
   "execution_count": 26,
   "id": "ed08c43b",
   "metadata": {},
   "outputs": [
    {
     "name": "stdout",
     "output_type": "stream",
     "text": [
      "<bound method TextCalendar.formatweek of <calendar.TextCalendar object at 0x00000289EBCE2BB0>>\n"
     ]
    }
   ],
   "source": [
    "import calendar\n",
    "print(calendar.week)"
   ]
  },
  {
   "cell_type": "code",
   "execution_count": 27,
   "id": "93e3498b",
   "metadata": {},
   "outputs": [
    {
     "name": "stdout",
     "output_type": "stream",
     "text": [
      "0 1 2 3 4 5 6 "
     ]
    }
   ],
   "source": [
    "import calendar\n",
    " \n",
    "c = calendar.Calendar()\n",
    " \n",
    "for weekday in c.iterweekdays():\n",
    "    print(weekday, end=\" \")"
   ]
  },
  {
   "cell_type": "code",
   "execution_count": 29,
   "id": "51a11061",
   "metadata": {},
   "outputs": [
    {
     "name": "stdout",
     "output_type": "stream",
     "text": [
      "['__doc__', '__loader__', '__name__', '__package__', '__spec__', 'acos', 'acosh', 'asin', 'asinh', 'atan', 'atan2', 'atanh', 'ceil', 'comb', 'copysign', 'cos', 'cosh', 'degrees', 'dist', 'e', 'erf', 'erfc', 'exp', 'expm1', 'fabs', 'factorial', 'floor', 'fmod', 'frexp', 'fsum', 'gamma', 'gcd', 'hypot', 'inf', 'isclose', 'isfinite', 'isinf', 'isnan', 'isqrt', 'lcm', 'ldexp', 'lgamma', 'log', 'log10', 'log1p', 'log2', 'modf', 'nan', 'nextafter', 'perm', 'pi', 'pow', 'prod', 'radians', 'remainder', 'sin', 'sinh', 'sqrt', 'tan', 'tanh', 'tau', 'trunc', 'ulp']\n"
     ]
    }
   ],
   "source": [
    "import math\n",
    "print(dir(math))"
   ]
  },
  {
   "cell_type": "code",
   "execution_count": 30,
   "id": "a9d2fb6c",
   "metadata": {},
   "outputs": [
    {
     "name": "stdout",
     "output_type": "stream",
     "text": [
      "a\n"
     ]
    }
   ],
   "source": [
    "try:\n",
    "    raise Exception\n",
    "except BaseException:\n",
    "    print(\"a\")\n",
    "except Exception:\n",
    "    print(\"b\")\n",
    "except:\n",
    "    print(\"c\")"
   ]
  },
  {
   "cell_type": "code",
   "execution_count": 35,
   "id": "98d33723",
   "metadata": {
    "scrolled": true
   },
   "outputs": [
    {
     "ename": "NameError",
     "evalue": "name 'pip3' is not defined",
     "output_type": "error",
     "traceback": [
      "\u001b[1;31m---------------------------------------------------------------------------\u001b[0m",
      "\u001b[1;31mNameError\u001b[0m                                 Traceback (most recent call last)",
      "Cell \u001b[1;32mIn[35], line 1\u001b[0m\n\u001b[1;32m----> 1\u001b[0m \u001b[43mpip3\u001b[49m \u001b[38;5;241m-\u001b[39m\u001b[38;5;241m-\u001b[39mversion\n",
      "\u001b[1;31mNameError\u001b[0m: name 'pip3' is not defined"
     ]
    }
   ],
   "source": [
    "pip3 --version"
   ]
  },
  {
   "cell_type": "code",
   "execution_count": 36,
   "id": "86f4d950",
   "metadata": {},
   "outputs": [
    {
     "name": "stdout",
     "output_type": "stream",
     "text": [
      "[<function <lambda> at 0x00000289EFB1FEE0>, [0, 2, 7, 9, 10]]\n"
     ]
    }
   ],
   "source": [
    "numbers = [0, 2, 7, 9, 10]\n",
    "foo=lambda num: num**2, numbers\n",
    "# Inserta la línea de código aquí.\n",
    "print(list(foo))"
   ]
  },
  {
   "cell_type": "code",
   "execution_count": 45,
   "id": "a2013799",
   "metadata": {},
   "outputs": [
    {
     "name": "stdout",
     "output_type": "stream",
     "text": [
      "[<function <lambda> at 0x00000289EFB1F790>, [0, 2, 7, 9, 10]]\n"
     ]
    }
   ],
   "source": [
    "numbers = [0, 2, 7, 9, 10]\n",
    "foo=lambda num: num*2, numbers\n",
    "# Inserta la línea de código aquí.\n",
    "print(list(foo))"
   ]
  },
  {
   "cell_type": "code",
   "execution_count": 42,
   "id": "ee0a5033",
   "metadata": {},
   "outputs": [
    {
     "name": "stdout",
     "output_type": "stream",
     "text": [
      "[0, 4, 49, 81, 100]\n"
     ]
    }
   ],
   "source": [
    "numbers = [0, 2, 7, 9, 10]\n",
    "foo=map(lambda num: num**2, numbers)\n",
    "# Inserta la línea de código aquí.\n",
    "print(list(foo))"
   ]
  },
  {
   "cell_type": "code",
   "execution_count": 43,
   "id": "534b6200",
   "metadata": {},
   "outputs": [
    {
     "name": "stdout",
     "output_type": "stream",
     "text": [
      "[2, 7, 9, 10]\n"
     ]
    }
   ],
   "source": [
    "numbers = [0, 2, 7, 9, 10]\n",
    "foo=filter(lambda num: num**2, numbers)\n",
    "# Inserta la línea de código aquí.\n",
    "print(list(foo))"
   ]
  },
  {
   "cell_type": "code",
   "execution_count": 46,
   "id": "4f9523dc",
   "metadata": {},
   "outputs": [
    {
     "name": "stdout",
     "output_type": "stream",
     "text": [
      "[0, 1, 0, 1, 0]\n"
     ]
    }
   ],
   "source": [
    "numbers = [i*i for i in range(5)]\n",
    "foo=list(map(lambda x: x%2,numbers))\n",
    "# Inserta la línea de código aquí.\n",
    "print(foo)"
   ]
  },
  {
   "cell_type": "code",
   "execution_count": 47,
   "id": "6c3ca5ae",
   "metadata": {},
   "outputs": [
    {
     "name": "stdout",
     "output_type": "stream",
     "text": [
      "[0, 0, 2, 4, 8]\n"
     ]
    }
   ],
   "source": [
    "numbers = [i*i for i in range(5)]\n",
    "foo=list(map(lambda x: x//2,numbers))\n",
    "# Inserta la línea de código aquí.\n",
    "print(foo)"
   ]
  },
  {
   "cell_type": "code",
   "execution_count": 48,
   "id": "18022c1f",
   "metadata": {},
   "outputs": [
    {
     "name": "stdout",
     "output_type": "stream",
     "text": [
      "[1, 4, 9, 16]\n"
     ]
    }
   ],
   "source": [
    "numbers = [i*i for i in range(5)]\n",
    "foo=list(filter(lambda x: x/2,numbers))\n",
    "# Inserta la línea de código aquí.\n",
    "print(foo)"
   ]
  },
  {
   "cell_type": "code",
   "execution_count": 49,
   "id": "209d0251",
   "metadata": {},
   "outputs": [
    {
     "name": "stdout",
     "output_type": "stream",
     "text": [
      "[1, 9]\n"
     ]
    }
   ],
   "source": [
    "numbers = [i*i for i in range(5)]\n",
    "foo=list(filter(lambda x: x%2,numbers))\n",
    "# Inserta la línea de código aquí.\n",
    "print(foo)"
   ]
  },
  {
   "cell_type": "code",
   "execution_count": 51,
   "id": "22f7327c",
   "metadata": {},
   "outputs": [
    {
     "name": "stdout",
     "output_type": "stream",
     "text": [
      "11:27:22\n"
     ]
    }
   ],
   "source": [
    "from datetime import datetime\n",
    " \n",
    "datetime_1 = datetime(2019, 11, 27, 11, 27, 22)\n",
    "datetime_2 = datetime(2019, 11, 27, 0, 0, 0)\n",
    " \n",
    "print(datetime_1 - datetime_2)\n",
    " "
   ]
  },
  {
   "cell_type": "code",
   "execution_count": 52,
   "id": "bf49d2bd",
   "metadata": {},
   "outputs": [
    {
     "name": "stdout",
     "output_type": "stream",
     "text": [
      "28 days, 22:00:00\n"
     ]
    }
   ],
   "source": [
    "from datetime import timedelta\n",
    " \n",
    "delta = timedelta(weeks = 1, days = 7, hours = 11)\n",
    "print(delta * 2)"
   ]
  },
  {
   "cell_type": "code",
   "execution_count": 53,
   "id": "596ea155",
   "metadata": {},
   "outputs": [
    {
     "name": "stdout",
     "output_type": "stream",
     "text": [
      "Sun Mon Tue Wed Thu Fri Sat\n"
     ]
    }
   ],
   "source": [
    "import calendar\n",
    " \n",
    "calendar.setfirstweekday(calendar.SUNDAY)\n",
    "print(calendar.weekheader(3))"
   ]
  },
  {
   "cell_type": "code",
   "execution_count": 54,
   "id": "c8e023d5",
   "metadata": {},
   "outputs": [
    {
     "name": "stdout",
     "output_type": "stream",
     "text": [
      "61 62 100\n"
     ]
    }
   ],
   "source": [
    "import random\n",
    " \n",
    "a = random.randrange(10, 100, 3)\n",
    "b = random.randint(0, 100)\n",
    "c = random.choice((0, 100, 3))\n",
    " \n",
    "print(a, b, c)"
   ]
  },
  {
   "cell_type": "code",
   "execution_count": 58,
   "id": "2183e263",
   "metadata": {},
   "outputs": [
    {
     "name": "stdout",
     "output_type": "stream",
     "text": [
      "3 70 86\n"
     ]
    }
   ],
   "source": [
    "import random\n",
    " \n",
    "a = random.choice((0, 100, 3))\n",
    "b = random.randrange(10, 100, 3)\n",
    "c = random.randint(0, 100)\n",
    " \n",
    "print(a, b, c)"
   ]
  },
  {
   "cell_type": "code",
   "execution_count": 59,
   "id": "bca5f91c",
   "metadata": {},
   "outputs": [
    {
     "name": "stdout",
     "output_type": "stream",
     "text": [
      "43 34 100\n"
     ]
    }
   ],
   "source": [
    "import random\n",
    "a = random.randint(0, 100)\n",
    "b = random.randrange(10, 100, 3)\n",
    "c = random.choice((0, 100, 3))\n",
    "print(a, b, c)"
   ]
  },
  {
   "cell_type": "code",
   "execution_count": 60,
   "id": "691eae9b",
   "metadata": {},
   "outputs": [
    {
     "name": "stdout",
     "output_type": "stream",
     "text": [
      "62 0 76\n"
     ]
    }
   ],
   "source": [
    "import random\n",
    "a = random.randint(0, 100)\n",
    "b = random.choice((0, 100, 3))\n",
    "c = random.randrange(10, 100, 3)\n",
    "print(a, b, c)"
   ]
  },
  {
   "cell_type": "code",
   "execution_count": null,
   "id": "33e3774d",
   "metadata": {},
   "outputs": [],
   "source": []
  }
 ],
 "metadata": {
  "kernelspec": {
   "display_name": "Python 3 (ipykernel)",
   "language": "python",
   "name": "python3"
  },
  "language_info": {
   "codemirror_mode": {
    "name": "ipython",
    "version": 3
   },
   "file_extension": ".py",
   "mimetype": "text/x-python",
   "name": "python",
   "nbconvert_exporter": "python",
   "pygments_lexer": "ipython3",
   "version": "3.9.16"
  }
 },
 "nbformat": 4,
 "nbformat_minor": 5
}
